{
 "cells": [
  {
   "cell_type": "code",
   "execution_count": null,
   "id": "2d7f6a89",
   "metadata": {},
   "outputs": [],
   "source": [
    "import matplotlib\n",
    "import matplotlib.pyplot as plt\n",
    "from math import pi\n",
    "\n",
    "num_labels = gen.K\n",
    "angles = [x/float(num_labels)*(2*pi)\n",
    "                  for x in range(num_labels)]\n",
    "angles += angles[:1]\n",
    "data = np.append(gen.label_percentages_, gen.label_percentages_[0])\n",
    "\n",
    "matplotlib.rc('font', family='AppleGothic')\n",
    "plt.rcParams['axes.unicode_minus'] = False\n",
    "fig = plt.figure(figsize=(16,6))\n",
    "\n",
    "# Radar : Before Coords\n",
    "ax = plt.subplot(1,2,1,polar=True)\n",
    "ax.set_theta_offset(pi / 2)\n",
    "ax.set_theta_direction(-1)\n",
    "ax.tick_params(axis='x', which='major', pad=30)\n",
    "ax.set_rlabel_position(0)\n",
    "\n",
    "ax.plot(angles, data, color=\"#EE68A4\")\n",
    "ax.fill(angles, data, color='#AC73CF')\n",
    "\n",
    "plt.xticks(angles[:-1], [\"클러스터 {}\".format(_) for _ in range(0, gen.K)])\n",
    "plt.yticks(range(0, 101, 25), range(0, 101, 25), fontsize=10)\n",
    "plt.ylim(0, 100)\n",
    "plt.title(\"Radar : Before Coords\")\n",
    "\n",
    "# Quadrant : After Coords\n",
    "ax = plt.subplot(1,2,2)\n",
    "data = gen.point\n",
    "\n",
    "plt.axvline(0, color=\"#333\", linewidth=1)\n",
    "plt.axhline(0, color=\"#333\", linewidth=1)\n",
    "\n",
    "plt.scatter(data['x'], data['y'], color='#AC73CF', s=300, marker='v')\n",
    "\n",
    "plt.ylim(-100, 100)\n",
    "plt.xlim(-100, 100)\n",
    "plt.title(\"Quadrant : After Coords\", pad=50)\n",
    "ax.spines['right'].set_visible(False)\n",
    "ax.spines['left'].set_visible(False)\n",
    "ax.spines['top'].set_visible(False)\n",
    "ax.spines['bottom'].set_visible(False)\n",
    "\n",
    "plt.show()"
   ]
  }
 ],
 "metadata": {
  "kernelspec": {
   "display_name": "Python 3 (ipykernel)",
   "language": "python",
   "name": "python3"
  },
  "language_info": {
   "codemirror_mode": {
    "name": "ipython",
    "version": 3
   },
   "file_extension": ".py",
   "mimetype": "text/x-python",
   "name": "python",
   "nbconvert_exporter": "python",
   "pygments_lexer": "ipython3",
   "version": "3.8.12"
  }
 },
 "nbformat": 4,
 "nbformat_minor": 5
}
