{
 "cells": [
  {
   "cell_type": "code",
   "execution_count": 1,
   "id": "8dc84f98",
   "metadata": {},
   "outputs": [],
   "source": [
    "%load_ext autoreload\n",
    "%autoreload 2\n",
    "%reload_ext autoreload\n",
    "\n",
    "import numpy as np\n",
    "from src import Spotify\n",
    "from urllib.parse import urlencode, urlparse\n",
    "from pprint import pprint\n",
    "import matplotlib\n",
    "import matplotlib.pyplot as plt\n",
    "matplotlib.rc('font', family='AppleGothic')\n",
    "plt.rcParams['axes.unicode_minus'] = False"
   ]
  },
  {
   "cell_type": "code",
   "execution_count": 245,
   "id": "98b8a23f",
   "metadata": {},
   "outputs": [
    {
     "name": "stdout",
     "output_type": "stream",
     "text": [
      "계속하시려면 아무거나, 종료는 exit를 입력해주세요.exit\n"
     ]
    }
   ],
   "source": [
    "sp = Spotify()\n",
    "\n",
    "sp.search()\n",
    "sp.get_genres()\n",
    "sp.get_features()\n",
    "sp.get_recommend(get_bak=True)\n",
    "\n",
    "reco_sp = Spotify(sp.reco_tracks)\n",
    "reco_sp.get_features()"
   ]
  },
  {
   "cell_type": "code",
   "execution_count": 232,
   "id": "1133b527",
   "metadata": {},
   "outputs": [
    {
     "data": {
      "text/html": [
       "<div>\n",
       "<style scoped>\n",
       "    .dataframe tbody tr th:only-of-type {\n",
       "        vertical-align: middle;\n",
       "    }\n",
       "\n",
       "    .dataframe tbody tr th {\n",
       "        vertical-align: top;\n",
       "    }\n",
       "\n",
       "    .dataframe thead th {\n",
       "        text-align: right;\n",
       "    }\n",
       "</style>\n",
       "<table border=\"1\" class=\"dataframe\">\n",
       "  <thead>\n",
       "    <tr style=\"text-align: right;\">\n",
       "      <th></th>\n",
       "      <th>trackId</th>\n",
       "      <th>trackName</th>\n",
       "      <th>artistIds</th>\n",
       "      <th>artistNames</th>\n",
       "      <th>image</th>\n",
       "    </tr>\n",
       "  </thead>\n",
       "  <tbody>\n",
       "    <tr>\n",
       "      <th>0</th>\n",
       "      <td>2SMq0lOqCTHayWa9juoI0d</td>\n",
       "      <td>We Are</td>\n",
       "      <td>5a8EJtOEbUJDF4RX3mKK02</td>\n",
       "      <td>Woo</td>\n",
       "      <td>https://i.scdn.co/image/ab67616d0000b27380af1b...</td>\n",
       "    </tr>\n",
       "  </tbody>\n",
       "</table>\n",
       "</div>"
      ],
      "text/plain": [
       "                  trackId trackName               artistIds artistNames  \\\n",
       "0  2SMq0lOqCTHayWa9juoI0d    We Are  5a8EJtOEbUJDF4RX3mKK02         Woo   \n",
       "\n",
       "                                               image  \n",
       "0  https://i.scdn.co/image/ab67616d0000b27380af1b...  "
      ]
     },
     "execution_count": 232,
     "metadata": {},
     "output_type": "execute_result"
    }
   ],
   "source": [
    "sp.sel_tracks.head()"
   ]
  },
  {
   "cell_type": "code",
   "execution_count": 233,
   "id": "2eecbe61",
   "metadata": {},
   "outputs": [
    {
     "data": {
      "text/html": [
       "<div>\n",
       "<style scoped>\n",
       "    .dataframe tbody tr th:only-of-type {\n",
       "        vertical-align: middle;\n",
       "    }\n",
       "\n",
       "    .dataframe tbody tr th {\n",
       "        vertical-align: top;\n",
       "    }\n",
       "\n",
       "    .dataframe thead th {\n",
       "        text-align: right;\n",
       "    }\n",
       "</style>\n",
       "<table border=\"1\" class=\"dataframe\">\n",
       "  <thead>\n",
       "    <tr style=\"text-align: right;\">\n",
       "      <th></th>\n",
       "      <th>trackId</th>\n",
       "      <th>trackName</th>\n",
       "      <th>artistIds</th>\n",
       "      <th>artistName</th>\n",
       "      <th>image</th>\n",
       "      <th>seedId</th>\n",
       "    </tr>\n",
       "  </thead>\n",
       "  <tbody>\n",
       "    <tr>\n",
       "      <th>0</th>\n",
       "      <td>3o0wqvryehBVqXW4uUmpg9</td>\n",
       "      <td>Armadillo (feat. Omega Sapien &amp; Byung un)</td>\n",
       "      <td>6vbKIm1WsvhMMDpthYONc1</td>\n",
       "      <td>Balming Tiger</td>\n",
       "      <td>https://i.scdn.co/image/ab67616d0000b273708226...</td>\n",
       "      <td>2SMq0lOqCTHayWa9juoI0d</td>\n",
       "    </tr>\n",
       "    <tr>\n",
       "      <th>1</th>\n",
       "      <td>62eXXGkcDrsf7eyhTDFlgy</td>\n",
       "      <td>SIGN (Feat. Mirani) (Prod. CODE KUNST)</td>\n",
       "      <td>0LyfQWJT6nXafLPZqxe9Of</td>\n",
       "      <td>Various Artists</td>\n",
       "      <td>https://i.scdn.co/image/ab67616d0000b273815641...</td>\n",
       "      <td>2SMq0lOqCTHayWa9juoI0d</td>\n",
       "    </tr>\n",
       "    <tr>\n",
       "      <th>2</th>\n",
       "      <td>4q9JLlC3HIhN4CDC6KlpYK</td>\n",
       "      <td>iffy (Prod. GroovyRoom)</td>\n",
       "      <td>0LyfQWJT6nXafLPZqxe9Of</td>\n",
       "      <td>Various Artists</td>\n",
       "      <td>https://i.scdn.co/image/ab67616d0000b273e70f13...</td>\n",
       "      <td>2SMq0lOqCTHayWa9juoI0d</td>\n",
       "    </tr>\n",
       "    <tr>\n",
       "      <th>3</th>\n",
       "      <td>624iXR8lRUaDBDIQxe3SBz</td>\n",
       "      <td>Imagine</td>\n",
       "      <td>50x9jHrP6wy9fo3jK5pNqS,7p552gLGzaDKXB5sETgTEP</td>\n",
       "      <td>sogumm,DJ Wegun</td>\n",
       "      <td>https://i.scdn.co/image/ab67616d0000b273097733...</td>\n",
       "      <td>2SMq0lOqCTHayWa9juoI0d</td>\n",
       "    </tr>\n",
       "    <tr>\n",
       "      <th>4</th>\n",
       "      <td>3NGqVukEbiECo3YgZYzp36</td>\n",
       "      <td>a fence</td>\n",
       "      <td>5a8EJtOEbUJDF4RX3mKK02</td>\n",
       "      <td>Woo</td>\n",
       "      <td>https://i.scdn.co/image/ab67616d0000b273ef7e1e...</td>\n",
       "      <td>2SMq0lOqCTHayWa9juoI0d</td>\n",
       "    </tr>\n",
       "  </tbody>\n",
       "</table>\n",
       "</div>"
      ],
      "text/plain": [
       "                  trackId                                  trackName  \\\n",
       "0  3o0wqvryehBVqXW4uUmpg9  Armadillo (feat. Omega Sapien & Byung un)   \n",
       "1  62eXXGkcDrsf7eyhTDFlgy     SIGN (Feat. Mirani) (Prod. CODE KUNST)   \n",
       "2  4q9JLlC3HIhN4CDC6KlpYK                    iffy (Prod. GroovyRoom)   \n",
       "3  624iXR8lRUaDBDIQxe3SBz                                    Imagine   \n",
       "4  3NGqVukEbiECo3YgZYzp36                                    a fence   \n",
       "\n",
       "                                       artistIds       artistName  \\\n",
       "0                         6vbKIm1WsvhMMDpthYONc1    Balming Tiger   \n",
       "1                         0LyfQWJT6nXafLPZqxe9Of  Various Artists   \n",
       "2                         0LyfQWJT6nXafLPZqxe9Of  Various Artists   \n",
       "3  50x9jHrP6wy9fo3jK5pNqS,7p552gLGzaDKXB5sETgTEP  sogumm,DJ Wegun   \n",
       "4                         5a8EJtOEbUJDF4RX3mKK02              Woo   \n",
       "\n",
       "                                               image                  seedId  \n",
       "0  https://i.scdn.co/image/ab67616d0000b273708226...  2SMq0lOqCTHayWa9juoI0d  \n",
       "1  https://i.scdn.co/image/ab67616d0000b273815641...  2SMq0lOqCTHayWa9juoI0d  \n",
       "2  https://i.scdn.co/image/ab67616d0000b273e70f13...  2SMq0lOqCTHayWa9juoI0d  \n",
       "3  https://i.scdn.co/image/ab67616d0000b273097733...  2SMq0lOqCTHayWa9juoI0d  \n",
       "4  https://i.scdn.co/image/ab67616d0000b273ef7e1e...  2SMq0lOqCTHayWa9juoI0d  "
      ]
     },
     "execution_count": 233,
     "metadata": {},
     "output_type": "execute_result"
    }
   ],
   "source": [
    "reco_sp.sel_tracks.head()"
   ]
  },
  {
   "cell_type": "code",
   "execution_count": 234,
   "id": "3dd21a71",
   "metadata": {},
   "outputs": [],
   "source": [
    "from sklearn.metrics import euclidean_distances as euc\n",
    "\n",
    "my_features = sp.features.iloc[:, 1:].to_numpy()\n",
    "reco_features = reco_sp.features.iloc[:,1:].to_numpy()\n",
    "\n",
    "all_features = np.append(my_features, reco_features, axis=0)\n",
    "_min = all_features.min(axis=0)\n",
    "_max = all_features.max(axis=0)\n",
    "\n",
    "_my_features = (my_features - _min) / (_max - _min)\n",
    "_reco_features = (reco_features - _min) / (_max - _min)"
   ]
  },
  {
   "cell_type": "code",
   "execution_count": 235,
   "id": "19a3cbe1",
   "metadata": {},
   "outputs": [
    {
     "data": {
      "image/png": "[encoded data removed]",
      "text/plain": [
       "<Figure size 1152x576 with 1 Axes>"
      ]
     },
     "metadata": {
      "needs_background": "light"
     },
     "output_type": "display_data"
    }
   ],
   "source": [
    "fig = plt.figure(figsize=(16,8))\n",
    "ax = fig.add_subplot(111)\n",
    "\n",
    "plt.plot(sp.features.columns[1:],_my_features[:].T, color='g')\n",
    "\n",
    "# plt.savefig(\"./visual_images/audio-features-ex.png\", transparent=True)\n",
    "plt.show()"
   ]
  },
  {
   "cell_type": "code",
   "execution_count": 236,
   "id": "6c857111",
   "metadata": {},
   "outputs": [
    {
     "ename": "IndexError",
     "evalue": "index 1 is out of bounds for axis 0 with size 1",
     "output_type": "error",
     "traceback": [
      "\u001b[0;31m---------------------------------------------------------------------------\u001b[0m",
      "\u001b[0;31mIndexError\u001b[0m                                Traceback (most recent call last)",
      "\u001b[0;32m/var/folders/52/4yvp7r991px0gmq4wyr894j40000gn/T/ipykernel_83547/1994794720.py\u001b[0m in \u001b[0;36m<module>\u001b[0;34m\u001b[0m\n\u001b[1;32m      2\u001b[0m \u001b[0max\u001b[0m \u001b[0;34m=\u001b[0m \u001b[0mfig\u001b[0m\u001b[0;34m.\u001b[0m\u001b[0madd_subplot\u001b[0m\u001b[0;34m(\u001b[0m\u001b[0;36m111\u001b[0m\u001b[0;34m)\u001b[0m\u001b[0;34m\u001b[0m\u001b[0;34m\u001b[0m\u001b[0m\n\u001b[1;32m      3\u001b[0m \u001b[0;34m\u001b[0m\u001b[0m\n\u001b[0;32m----> 4\u001b[0;31m \u001b[0mplt\u001b[0m\u001b[0;34m.\u001b[0m\u001b[0mplot\u001b[0m\u001b[0;34m(\u001b[0m\u001b[0msp\u001b[0m\u001b[0;34m.\u001b[0m\u001b[0mfeatures\u001b[0m\u001b[0;34m.\u001b[0m\u001b[0mcolumns\u001b[0m\u001b[0;34m[\u001b[0m\u001b[0;36m1\u001b[0m\u001b[0;34m:\u001b[0m\u001b[0;34m]\u001b[0m\u001b[0;34m,\u001b[0m\u001b[0m_my_features\u001b[0m\u001b[0;34m[\u001b[0m\u001b[0;36m1\u001b[0m\u001b[0;34m]\u001b[0m\u001b[0;34m,\u001b[0m \u001b[0mcolor\u001b[0m\u001b[0;34m=\u001b[0m\u001b[0;34m'g'\u001b[0m\u001b[0;34m)\u001b[0m\u001b[0;34m\u001b[0m\u001b[0;34m\u001b[0m\u001b[0m\n\u001b[0m\u001b[1;32m      5\u001b[0m \u001b[0;34m\u001b[0m\u001b[0m\n\u001b[1;32m      6\u001b[0m \u001b[0;31m# plt.savefig(\"./visual_images/audio-features-ex.png\", transparent=True)\u001b[0m\u001b[0;34m\u001b[0m\u001b[0;34m\u001b[0m\u001b[0;34m\u001b[0m\u001b[0m\n",
      "\u001b[0;31mIndexError\u001b[0m: index 1 is out of bounds for axis 0 with size 1"
     ]
    },
    {
     "data": {
      "image/png": "[encoded data removed]",
      "text/plain": [
       "<Figure size 1152x576 with 1 Axes>"
      ]
     },
     "metadata": {
      "needs_background": "light"
     },
     "output_type": "display_data"
    }
   ],
   "source": [
    "fig = plt.figure(figsize=(16,8))\n",
    "ax = fig.add_subplot(111)\n",
    "\n",
    "plt.plot(sp.features.columns[1:],_my_features[1], color='g')\n",
    "\n",
    "# plt.savefig(\"./visual_images/audio-features-ex.png\", transparent=True)\n",
    "plt.show()"
   ]
  },
  {
   "cell_type": "code",
   "execution_count": null,
   "id": "f3f0ae50",
   "metadata": {},
   "outputs": [],
   "source": [
    "fig = plt.figure(figsize=(8,8))\n",
    "ax = fig.add_subplot(111)\n",
    "\n",
    "ax.spines['bottom'].set_color('white')\n",
    "ax.spines['top'].set_color('white')\n",
    "ax.spines['right'].set_color('white')\n",
    "ax.spines['left'].set_color('white')\n",
    "\n",
    "ax.xaxis.label.set_color('white')\n",
    "ax.tick_params(axis='x', colors='white')\n",
    "ax.yaxis.label.set_color('white')\n",
    "ax.tick_params(axis='y', colors='white')\n",
    "\n",
    "plt.barh(sp.features.columns[1:],_my_features[0], color='white')\n",
    "\n",
    "plt.savefig(\"./visual_images/audio-features-ex.png\", transparent=True)"
   ]
  },
  {
   "cell_type": "code",
   "execution_count": 237,
   "id": "f4e8078d",
   "metadata": {},
   "outputs": [
    {
     "data": {
      "image/png": "[encoded data removed]",
      "text/plain": [
       "<Figure size 1152x576 with 1 Axes>"
      ]
     },
     "metadata": {
      "needs_background": "dark"
     },
     "output_type": "display_data"
    }
   ],
   "source": [
    "fig = plt.figure(figsize=(16,8))\n",
    "ax = fig.add_subplot(111)\n",
    "\n",
    "ax.spines['bottom'].set_color('white')\n",
    "ax.spines['top'].set_color('white')\n",
    "ax.spines['right'].set_color('white')\n",
    "ax.spines['left'].set_color('white')\n",
    "\n",
    "ax.xaxis.label.set_color('white')\n",
    "ax.tick_params(axis='x', colors='white')\n",
    "ax.yaxis.label.set_color('white')\n",
    "ax.tick_params(axis='y', colors='white')\n",
    "\n",
    "plt.plot(sp.features.columns[1:],reco_features.T, color='white', linewidth=0.1)\n",
    "plt.plot(sp.features.columns[1:],my_features.T, color='white', linewidth=2)\n",
    "\n",
    "plt.savefig(\"./visual_images/min-max-norm-ex.png\", transparent=True)"
   ]
  },
  {
   "cell_type": "code",
   "execution_count": 238,
   "id": "a7f34b78",
   "metadata": {},
   "outputs": [
    {
     "data": {
      "image/png": "[encoded data removed]",
      "text/plain": [
       "<Figure size 1152x576 with 1 Axes>"
      ]
     },
     "metadata": {
      "needs_background": "dark"
     },
     "output_type": "display_data"
    }
   ],
   "source": [
    "fig = plt.figure(figsize=(16,8))\n",
    "ax = fig.add_subplot(111)\n",
    "\n",
    "ax.spines['bottom'].set_color('white')\n",
    "ax.spines['top'].set_color('white')\n",
    "ax.spines['right'].set_color('white')\n",
    "ax.spines['left'].set_color('white')\n",
    "\n",
    "ax.xaxis.label.set_color('white')\n",
    "ax.tick_params(axis='x', colors='white')\n",
    "ax.yaxis.label.set_color('white')\n",
    "ax.tick_params(axis='y', colors='white')\n",
    "\n",
    "plt.plot(sp.features.columns[1:],_reco_features.T, color='white', linewidth=0.1)\n",
    "plt.plot(sp.features.columns[1:],_my_features.T, color='white', linewidth=2)\n",
    "\n",
    "plt.savefig(\"./visual_images/euc-ex.png\", transparent=True)"
   ]
  },
  {
   "cell_type": "code",
   "execution_count": 239,
   "id": "834ef514",
   "metadata": {},
   "outputs": [
    {
     "ename": "ValueError",
     "evalue": "cannot reshape array of size 0 into shape (0)",
     "output_type": "error",
     "traceback": [
      "\u001b[0;31m---------------------------------------------------------------------------\u001b[0m",
      "\u001b[0;31mValueError\u001b[0m                                Traceback (most recent call last)",
      "\u001b[0;32m/var/folders/52/4yvp7r991px0gmq4wyr894j40000gn/T/ipykernel_83547/2619023910.py\u001b[0m in \u001b[0;36m<module>\u001b[0;34m\u001b[0m\n\u001b[1;32m      1\u001b[0m \u001b[0mchk\u001b[0m \u001b[0;34m=\u001b[0m \u001b[0meuc\u001b[0m\u001b[0;34m(\u001b[0m\u001b[0mmy_features\u001b[0m\u001b[0;34m,\u001b[0m \u001b[0mmy_features\u001b[0m\u001b[0;34m)\u001b[0m\u001b[0;34m\u001b[0m\u001b[0;34m\u001b[0m\u001b[0m\n\u001b[0;32m----> 2\u001b[0;31m \u001b[0mchk_idxes\u001b[0m \u001b[0;34m=\u001b[0m \u001b[0mchk\u001b[0m\u001b[0;34m[\u001b[0m\u001b[0mchk\u001b[0m \u001b[0;34m!=\u001b[0m \u001b[0;36m0\u001b[0m\u001b[0;34m]\u001b[0m\u001b[0;34m.\u001b[0m\u001b[0mreshape\u001b[0m\u001b[0;34m(\u001b[0m\u001b[0;34m-\u001b[0m\u001b[0;36m1\u001b[0m\u001b[0;34m,\u001b[0m\u001b[0mlen\u001b[0m\u001b[0;34m(\u001b[0m\u001b[0mmy_features\u001b[0m\u001b[0;34m)\u001b[0m \u001b[0;34m-\u001b[0m \u001b[0;36m1\u001b[0m\u001b[0;34m)\u001b[0m\u001b[0;34m.\u001b[0m\u001b[0mmean\u001b[0m\u001b[0;34m(\u001b[0m\u001b[0maxis\u001b[0m\u001b[0;34m=\u001b[0m\u001b[0;36m1\u001b[0m\u001b[0;34m)\u001b[0m\u001b[0;34m.\u001b[0m\u001b[0margsort\u001b[0m\u001b[0;34m(\u001b[0m\u001b[0;34m)\u001b[0m\u001b[0;34m\u001b[0m\u001b[0;34m\u001b[0m\u001b[0m\n\u001b[0m\u001b[1;32m      3\u001b[0m \u001b[0mchk_idxes\u001b[0m\u001b[0;34m\u001b[0m\u001b[0;34m\u001b[0m\u001b[0m\n",
      "\u001b[0;31mValueError\u001b[0m: cannot reshape array of size 0 into shape (0)"
     ]
    }
   ],
   "source": [
    "chk = euc(my_features, my_features)\n",
    "chk_idxes = chk[chk != 0].reshape(-1,len(my_features) - 1).mean(axis=1).argsort()\n",
    "chk_idxes"
   ]
  },
  {
   "cell_type": "code",
   "execution_count": 240,
   "id": "71eca502",
   "metadata": {},
   "outputs": [
    {
     "data": {
      "image/png": "[encoded data removed]",
      "text/plain": [
       "<Figure size 1152x576 with 1 Axes>"
      ]
     },
     "metadata": {
      "needs_background": "dark"
     },
     "output_type": "display_data"
    }
   ],
   "source": [
    "fig = plt.figure(figsize=(16,8))\n",
    "ax = fig.add_subplot(111)\n",
    "\n",
    "ax.spines['bottom'].set_color('white')\n",
    "ax.spines['top'].set_color('white')\n",
    "ax.spines['right'].set_color('white')\n",
    "ax.spines['left'].set_color('white')\n",
    "\n",
    "ax.xaxis.label.set_color('white')\n",
    "ax.tick_params(axis='x', colors='white')\n",
    "ax.yaxis.label.set_color('white')\n",
    "ax.tick_params(axis='y', colors='white')\n",
    "\n",
    "plt.plot(sp.features.columns[1:],_reco_features.T, c='white', linewidth=0.05)\n",
    "plt.plot(sp.features.columns[1:],_my_features.T, c='white', linewidth=1)\n",
    "\n",
    "plt.savefig(\"./visual_images/before-filtering.png\", transparent=True)"
   ]
  },
  {
   "cell_type": "code",
   "execution_count": 241,
   "id": "7b23efea",
   "metadata": {},
   "outputs": [
    {
     "data": {
      "text/html": [
       "<div>\n",
       "<style scoped>\n",
       "    .dataframe tbody tr th:only-of-type {\n",
       "        vertical-align: middle;\n",
       "    }\n",
       "\n",
       "    .dataframe tbody tr th {\n",
       "        vertical-align: top;\n",
       "    }\n",
       "\n",
       "    .dataframe thead th {\n",
       "        text-align: right;\n",
       "    }\n",
       "</style>\n",
       "<table border=\"1\" class=\"dataframe\">\n",
       "  <thead>\n",
       "    <tr style=\"text-align: right;\">\n",
       "      <th></th>\n",
       "      <th>trackId</th>\n",
       "      <th>trackName</th>\n",
       "      <th>artistIds</th>\n",
       "      <th>artistName</th>\n",
       "      <th>image</th>\n",
       "      <th>seedId</th>\n",
       "      <th>similarity</th>\n",
       "    </tr>\n",
       "  </thead>\n",
       "  <tbody>\n",
       "    <tr>\n",
       "      <th>0</th>\n",
       "      <td>3o0wqvryehBVqXW4uUmpg9</td>\n",
       "      <td>Armadillo (feat. Omega Sapien &amp; Byung un)</td>\n",
       "      <td>6vbKIm1WsvhMMDpthYONc1</td>\n",
       "      <td>Balming Tiger</td>\n",
       "      <td>https://i.scdn.co/image/ab67616d0000b273708226...</td>\n",
       "      <td>2SMq0lOqCTHayWa9juoI0d</td>\n",
       "      <td>0.712573</td>\n",
       "    </tr>\n",
       "    <tr>\n",
       "      <th>1</th>\n",
       "      <td>62eXXGkcDrsf7eyhTDFlgy</td>\n",
       "      <td>SIGN (Feat. Mirani) (Prod. CODE KUNST)</td>\n",
       "      <td>0LyfQWJT6nXafLPZqxe9Of</td>\n",
       "      <td>Various Artists</td>\n",
       "      <td>https://i.scdn.co/image/ab67616d0000b273815641...</td>\n",
       "      <td>2SMq0lOqCTHayWa9juoI0d</td>\n",
       "      <td>0.505354</td>\n",
       "    </tr>\n",
       "    <tr>\n",
       "      <th>2</th>\n",
       "      <td>4q9JLlC3HIhN4CDC6KlpYK</td>\n",
       "      <td>iffy (Prod. GroovyRoom)</td>\n",
       "      <td>0LyfQWJT6nXafLPZqxe9Of</td>\n",
       "      <td>Various Artists</td>\n",
       "      <td>https://i.scdn.co/image/ab67616d0000b273e70f13...</td>\n",
       "      <td>2SMq0lOqCTHayWa9juoI0d</td>\n",
       "      <td>0.899628</td>\n",
       "    </tr>\n",
       "    <tr>\n",
       "      <th>3</th>\n",
       "      <td>624iXR8lRUaDBDIQxe3SBz</td>\n",
       "      <td>Imagine</td>\n",
       "      <td>50x9jHrP6wy9fo3jK5pNqS,7p552gLGzaDKXB5sETgTEP</td>\n",
       "      <td>sogumm,DJ Wegun</td>\n",
       "      <td>https://i.scdn.co/image/ab67616d0000b273097733...</td>\n",
       "      <td>2SMq0lOqCTHayWa9juoI0d</td>\n",
       "      <td>0.627857</td>\n",
       "    </tr>\n",
       "    <tr>\n",
       "      <th>4</th>\n",
       "      <td>3NGqVukEbiECo3YgZYzp36</td>\n",
       "      <td>a fence</td>\n",
       "      <td>5a8EJtOEbUJDF4RX3mKK02</td>\n",
       "      <td>Woo</td>\n",
       "      <td>https://i.scdn.co/image/ab67616d0000b273ef7e1e...</td>\n",
       "      <td>2SMq0lOqCTHayWa9juoI0d</td>\n",
       "      <td>0.831223</td>\n",
       "    </tr>\n",
       "  </tbody>\n",
       "</table>\n",
       "</div>"
      ],
      "text/plain": [
       "                  trackId                                  trackName  \\\n",
       "0  3o0wqvryehBVqXW4uUmpg9  Armadillo (feat. Omega Sapien & Byung un)   \n",
       "1  62eXXGkcDrsf7eyhTDFlgy     SIGN (Feat. Mirani) (Prod. CODE KUNST)   \n",
       "2  4q9JLlC3HIhN4CDC6KlpYK                    iffy (Prod. GroovyRoom)   \n",
       "3  624iXR8lRUaDBDIQxe3SBz                                    Imagine   \n",
       "4  3NGqVukEbiECo3YgZYzp36                                    a fence   \n",
       "\n",
       "                                       artistIds       artistName  \\\n",
       "0                         6vbKIm1WsvhMMDpthYONc1    Balming Tiger   \n",
       "1                         0LyfQWJT6nXafLPZqxe9Of  Various Artists   \n",
       "2                         0LyfQWJT6nXafLPZqxe9Of  Various Artists   \n",
       "3  50x9jHrP6wy9fo3jK5pNqS,7p552gLGzaDKXB5sETgTEP  sogumm,DJ Wegun   \n",
       "4                         5a8EJtOEbUJDF4RX3mKK02              Woo   \n",
       "\n",
       "                                               image                  seedId  \\\n",
       "0  https://i.scdn.co/image/ab67616d0000b273708226...  2SMq0lOqCTHayWa9juoI0d   \n",
       "1  https://i.scdn.co/image/ab67616d0000b273815641...  2SMq0lOqCTHayWa9juoI0d   \n",
       "2  https://i.scdn.co/image/ab67616d0000b273e70f13...  2SMq0lOqCTHayWa9juoI0d   \n",
       "3  https://i.scdn.co/image/ab67616d0000b273097733...  2SMq0lOqCTHayWa9juoI0d   \n",
       "4  https://i.scdn.co/image/ab67616d0000b273ef7e1e...  2SMq0lOqCTHayWa9juoI0d   \n",
       "\n",
       "   similarity  \n",
       "0    0.712573  \n",
       "1    0.505354  \n",
       "2    0.899628  \n",
       "3    0.627857  \n",
       "4    0.831223  "
      ]
     },
     "execution_count": 241,
     "metadata": {},
     "output_type": "execute_result"
    }
   ],
   "source": [
    "chk_features = reco_sp.sel_tracks.copy()\n",
    "chk_features.reset_index(inplace=True)\n",
    "chk_features.drop(\"index\", axis=1, inplace=True)\n",
    "chk_features['similarity'] = euc(_reco_features,_my_features).mean(axis=1)\n",
    "\n",
    "chk_features.head()"
   ]
  },
  {
   "cell_type": "code",
   "execution_count": 242,
   "id": "a992100d",
   "metadata": {},
   "outputs": [
    {
     "name": "stdout",
     "output_type": "stream",
     "text": [
      "필터링 전 평균 유사도 0.8173201797996006\n"
     ]
    }
   ],
   "source": [
    "print(\"필터링 전 평균 유사도\",chk_features['similarity'].mean())"
   ]
  },
  {
   "cell_type": "code",
   "execution_count": 244,
   "id": "fdde8e9e",
   "metadata": {},
   "outputs": [
    {
     "data": {
      "text/html": [
       "<div>\n",
       "<style scoped>\n",
       "    .dataframe tbody tr th:only-of-type {\n",
       "        vertical-align: middle;\n",
       "    }\n",
       "\n",
       "    .dataframe tbody tr th {\n",
       "        vertical-align: top;\n",
       "    }\n",
       "\n",
       "    .dataframe thead th {\n",
       "        text-align: right;\n",
       "    }\n",
       "</style>\n",
       "<table border=\"1\" class=\"dataframe\">\n",
       "  <thead>\n",
       "    <tr style=\"text-align: right;\">\n",
       "      <th></th>\n",
       "      <th>trackId</th>\n",
       "      <th>trackName</th>\n",
       "      <th>artistIds</th>\n",
       "      <th>artistName</th>\n",
       "      <th>image</th>\n",
       "      <th>seedId</th>\n",
       "      <th>similarity</th>\n",
       "    </tr>\n",
       "  </thead>\n",
       "  <tbody>\n",
       "    <tr>\n",
       "      <th>77</th>\n",
       "      <td>4TCahX6bRMGNByARFZcR1G</td>\n",
       "      <td>Green Light (feat.Jay Park)</td>\n",
       "      <td>3hzcooxMtbApMTvvn6XKVA</td>\n",
       "      <td>G.NA</td>\n",
       "      <td>https://i.scdn.co/image/ab67616d0000b2731b7a47...</td>\n",
       "      <td>2SMq0lOqCTHayWa9juoI0d</td>\n",
       "      <td>0.284706</td>\n",
       "    </tr>\n",
       "    <tr>\n",
       "      <th>51</th>\n",
       "      <td>1KW2m4ofkMZOLSFCb5Hjug</td>\n",
       "      <td>EVERYTHING</td>\n",
       "      <td>75OcDAFGCzj0qehe1mADeM</td>\n",
       "      <td>Way Ched</td>\n",
       "      <td>https://i.scdn.co/image/ab67616d0000b273e09556...</td>\n",
       "      <td>2SMq0lOqCTHayWa9juoI0d</td>\n",
       "      <td>0.342695</td>\n",
       "    </tr>\n",
       "    <tr>\n",
       "      <th>5</th>\n",
       "      <td>0JJeoiCAa1hwcBsPxBN2w4</td>\n",
       "      <td>Sunday (feat. HEIZE, Jay Park)</td>\n",
       "      <td>29HqjVbJr3vsc2l6BTI4eB</td>\n",
       "      <td>GroovyRoom</td>\n",
       "      <td>https://i.scdn.co/image/ab67616d0000b27345774c...</td>\n",
       "      <td>2SMq0lOqCTHayWa9juoI0d</td>\n",
       "      <td>0.350479</td>\n",
       "    </tr>\n",
       "  </tbody>\n",
       "</table>\n",
       "</div>"
      ],
      "text/plain": [
       "                   trackId                       trackName  \\\n",
       "77  4TCahX6bRMGNByARFZcR1G     Green Light (feat.Jay Park)   \n",
       "51  1KW2m4ofkMZOLSFCb5Hjug                      EVERYTHING   \n",
       "5   0JJeoiCAa1hwcBsPxBN2w4  Sunday (feat. HEIZE, Jay Park)   \n",
       "\n",
       "                 artistIds  artistName  \\\n",
       "77  3hzcooxMtbApMTvvn6XKVA        G.NA   \n",
       "51  75OcDAFGCzj0qehe1mADeM    Way Ched   \n",
       "5   29HqjVbJr3vsc2l6BTI4eB  GroovyRoom   \n",
       "\n",
       "                                                image                  seedId  \\\n",
       "77  https://i.scdn.co/image/ab67616d0000b2731b7a47...  2SMq0lOqCTHayWa9juoI0d   \n",
       "51  https://i.scdn.co/image/ab67616d0000b273e09556...  2SMq0lOqCTHayWa9juoI0d   \n",
       "5   https://i.scdn.co/image/ab67616d0000b27345774c...  2SMq0lOqCTHayWa9juoI0d   \n",
       "\n",
       "    similarity  \n",
       "77    0.284706  \n",
       "51    0.342695  \n",
       "5     0.350479  "
      ]
     },
     "execution_count": 244,
     "metadata": {},
     "output_type": "execute_result"
    }
   ],
   "source": [
    "chk_features.sort_values(by=['similarity'])[:3]"
   ]
  },
  {
   "cell_type": "code",
   "execution_count": 226,
   "id": "48ed9beb",
   "metadata": {},
   "outputs": [
    {
     "ename": "IndexError",
     "evalue": "index 2 is out of bounds for axis 0 with size 1",
     "output_type": "error",
     "traceback": [
      "\u001b[0;31m---------------------------------------------------------------------------\u001b[0m",
      "\u001b[0;31mIndexError\u001b[0m                                Traceback (most recent call last)",
      "\u001b[0;32m/var/folders/52/4yvp7r991px0gmq4wyr894j40000gn/T/ipykernel_83547/1725578940.py\u001b[0m in \u001b[0;36m<module>\u001b[0;34m\u001b[0m\n\u001b[1;32m     15\u001b[0m          _reco_features[chk_features.sort_values(by=['similarity'])[:100].index].T, c='white', linewidth=0.1)\n\u001b[1;32m     16\u001b[0m plt.plot(sp.features.columns[1:],\n\u001b[0;32m---> 17\u001b[0;31m          _my_features[chk_idxes[:]].T, c='white', linewidth=1)\n\u001b[0m\u001b[1;32m     18\u001b[0m \u001b[0;34m\u001b[0m\u001b[0m\n\u001b[1;32m     19\u001b[0m \u001b[0mplt\u001b[0m\u001b[0;34m.\u001b[0m\u001b[0msavefig\u001b[0m\u001b[0;34m(\u001b[0m\u001b[0;34m\"./visual_images/after-filtering.png\"\u001b[0m\u001b[0;34m,\u001b[0m \u001b[0mtransparent\u001b[0m\u001b[0;34m=\u001b[0m\u001b[0;32mTrue\u001b[0m\u001b[0;34m)\u001b[0m\u001b[0;34m\u001b[0m\u001b[0;34m\u001b[0m\u001b[0m\n",
      "\u001b[0;31mIndexError\u001b[0m: index 2 is out of bounds for axis 0 with size 1"
     ]
    },
    {
     "data": {
      "image/png": "[encoded data removed]",
      "text/plain": [
       "<Figure size 1152x576 with 1 Axes>"
      ]
     },
     "metadata": {
      "needs_background": "dark"
     },
     "output_type": "display_data"
    }
   ],
   "source": [
    "fig = plt.figure(figsize=(16,8))\n",
    "ax = fig.add_subplot(111)\n",
    "\n",
    "ax.spines['bottom'].set_color('white')\n",
    "ax.spines['top'].set_color('white')\n",
    "ax.spines['right'].set_color('white')\n",
    "ax.spines['left'].set_color('white')\n",
    "\n",
    "ax.xaxis.label.set_color('white')\n",
    "ax.tick_params(axis='x', colors='white')\n",
    "ax.yaxis.label.set_color('white')\n",
    "ax.tick_params(axis='y', colors='white')\n",
    "\n",
    "plt.plot(sp.features.columns[1:],\n",
    "         _reco_features[chk_features.sort_values(by=['similarity'])[:100].index].T, c='white', linewidth=0.1)\n",
    "plt.plot(sp.features.columns[1:],\n",
    "         _my_features[chk_idxes[:]].T, c='white', linewidth=1)\n",
    "\n",
    "plt.savefig(\"./visual_images/after-filtering.png\", transparent=True)"
   ]
  },
  {
   "cell_type": "code",
   "execution_count": 211,
   "id": "143e3db8",
   "metadata": {},
   "outputs": [
    {
     "name": "stdout",
     "output_type": "stream",
     "text": [
      "필터링 후 평균 유사도 0.8709602181977231\n"
     ]
    }
   ],
   "source": [
    "print(\"필터링 후 평균 유사도\",chk_features.sort_values(by=['similarity'])[:100]['similarity'].mean())"
   ]
  },
  {
   "cell_type": "code",
   "execution_count": 212,
   "id": "f913a933",
   "metadata": {},
   "outputs": [
    {
     "data": {
      "text/plain": [
       "5quFr5s5PXYfUX5jV2EBZ1    42\n",
       "2SMq0lOqCTHayWa9juoI0d    33\n",
       "3w9HSuLDejveVS9G8Qj8i0    22\n",
       "6guxIn9kHpncfdkrXn2CIQ     3\n",
       "Name: seedId, dtype: int64"
      ]
     },
     "execution_count": 212,
     "metadata": {},
     "output_type": "execute_result"
    }
   ],
   "source": [
    "chk_features.sort_values(by='similarity')[:100]['seedId'].value_counts()"
   ]
  }
 ],
 "metadata": {
  "kernelspec": {
   "display_name": "Python 3 (ipykernel)",
   "language": "python",
   "name": "python3"
  },
  "language_info": {
   "codemirror_mode": {
    "name": "ipython",
    "version": 3
   },
   "file_extension": ".py",
   "mimetype": "text/x-python",
   "name": "python",
   "nbconvert_exporter": "python",
   "pygments_lexer": "ipython3",
   "version": "3.8.12"
  }
 },
 "nbformat": 4,
 "nbformat_minor": 5
}
