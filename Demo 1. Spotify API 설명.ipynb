{
 "cells": [
  {
   "cell_type": "code",
   "execution_count": 28,
   "id": "e08c056a",
   "metadata": {},
   "outputs": [
    {
     "name": "stdout",
     "output_type": "stream",
     "text": [
      "The autoreload extension is already loaded. To reload it, use:\n",
      "  %reload_ext autoreload\n"
     ]
    }
   ],
   "source": [
    "%load_ext autoreload\n",
    "%autoreload 2\n",
    "%reload_ext autoreload\n",
    "\n",
    "import pandas as pd\n",
    "import math as mt\n",
    "import numpy as np\n",
    "\n",
    "import matplotlib\n",
    "import matplotlib.pyplot as plt\n",
    "matplotlib.rc('font', family='AppleGothic')\n",
    "plt.rcParams['axes.unicode_minus'] = False\n",
    "\n",
    "from src import Spotify"
   ]
  },
  {
   "cell_type": "markdown",
   "id": "9e7af01a",
   "metadata": {},
   "source": [
    "# Search API\n",
    "- 음악 검색 API"
   ]
  },
  {
   "cell_type": "code",
   "execution_count": 29,
   "id": "8bfee9e1",
   "metadata": {},
   "outputs": [
    {
     "name": "stdout",
     "output_type": "stream",
     "text": [
      "계속하시려면 아무거나, 종료는 exit를 입력해주세요.exit\n"
     ]
    },
    {
     "data": {
      "text/html": [
       "<div>\n",
       "<style scoped>\n",
       "    .dataframe tbody tr th:only-of-type {\n",
       "        vertical-align: middle;\n",
       "    }\n",
       "\n",
       "    .dataframe tbody tr th {\n",
       "        vertical-align: top;\n",
       "    }\n",
       "\n",
       "    .dataframe thead th {\n",
       "        text-align: right;\n",
       "    }\n",
       "</style>\n",
       "<table border=\"1\" class=\"dataframe\">\n",
       "  <thead>\n",
       "    <tr style=\"text-align: right;\">\n",
       "      <th></th>\n",
       "      <th>trackId</th>\n",
       "      <th>trackName</th>\n",
       "      <th>artistIds</th>\n",
       "      <th>artistNames</th>\n",
       "      <th>image</th>\n",
       "    </tr>\n",
       "  </thead>\n",
       "  <tbody>\n",
       "    <tr>\n",
       "      <th>0</th>\n",
       "      <td>2fzucOTof4pxCDG6u8iiGY</td>\n",
       "      <td>GONE</td>\n",
       "      <td>79g2STpP2iV1xfgHuhrhX0</td>\n",
       "      <td>Leellamarz</td>\n",
       "      <td>https://i.scdn.co/image/ab67616d0000b273d0d9c8...</td>\n",
       "    </tr>\n",
       "  </tbody>\n",
       "</table>\n",
       "</div>"
      ],
      "text/plain": [
       "                  trackId trackName               artistIds artistNames  \\\n",
       "0  2fzucOTof4pxCDG6u8iiGY      GONE  79g2STpP2iV1xfgHuhrhX0  Leellamarz   \n",
       "\n",
       "                                               image  \n",
       "0  https://i.scdn.co/image/ab67616d0000b273d0d9c8...  "
      ]
     },
     "execution_count": 29,
     "metadata": {},
     "output_type": "execute_result"
    }
   ],
   "source": [
    "my_sp = Spotify()\n",
    "my_sp.search()\n",
    "my_sp.sel_tracks.head()"
   ]
  },
  {
   "cell_type": "markdown",
   "id": "eab68ddb",
   "metadata": {},
   "source": [
    "# Artists API\n",
    "- Recommendation API에 사용할 Seed Genre 데이터에 쓰일 값\n",
    "- 음악 자체의 Genre는 제공을 하지 않아서, 가수의 Genre 데이터를 가지고 와야함."
   ]
  },
  {
   "cell_type": "code",
   "execution_count": 30,
   "id": "5daab3f2",
   "metadata": {},
   "outputs": [
    {
     "data": {
      "text/html": [
       "<div>\n",
       "<style scoped>\n",
       "    .dataframe tbody tr th:only-of-type {\n",
       "        vertical-align: middle;\n",
       "    }\n",
       "\n",
       "    .dataframe tbody tr th {\n",
       "        vertical-align: top;\n",
       "    }\n",
       "\n",
       "    .dataframe thead th {\n",
       "        text-align: right;\n",
       "    }\n",
       "</style>\n",
       "<table border=\"1\" class=\"dataframe\">\n",
       "  <thead>\n",
       "    <tr style=\"text-align: right;\">\n",
       "      <th></th>\n",
       "      <th>artistIds</th>\n",
       "      <th>genres</th>\n",
       "    </tr>\n",
       "  </thead>\n",
       "  <tbody>\n",
       "    <tr>\n",
       "      <th>0</th>\n",
       "      <td>79g2STpP2iV1xfgHuhrhX0</td>\n",
       "      <td>k-pop,hip-hop,pop</td>\n",
       "    </tr>\n",
       "  </tbody>\n",
       "</table>\n",
       "</div>"
      ],
      "text/plain": [
       "                artistIds             genres\n",
       "0  79g2STpP2iV1xfgHuhrhX0  k-pop,hip-hop,pop"
      ]
     },
     "execution_count": 30,
     "metadata": {},
     "output_type": "execute_result"
    }
   ],
   "source": [
    "my_sp.get_genres()\n",
    "my_sp.genres.head()"
   ]
  },
  {
   "cell_type": "markdown",
   "id": "0d2878be",
   "metadata": {},
   "source": [
    "# AudioFeatures API\n",
    "- Recommendation API에 사용할 Audio Analysis 데이터에 쓰일 값"
   ]
  },
  {
   "cell_type": "code",
   "execution_count": 31,
   "id": "41233fa9",
   "metadata": {},
   "outputs": [
    {
     "data": {
      "text/html": [
       "<div>\n",
       "<style scoped>\n",
       "    .dataframe tbody tr th:only-of-type {\n",
       "        vertical-align: middle;\n",
       "    }\n",
       "\n",
       "    .dataframe tbody tr th {\n",
       "        vertical-align: top;\n",
       "    }\n",
       "\n",
       "    .dataframe thead th {\n",
       "        text-align: right;\n",
       "    }\n",
       "</style>\n",
       "<table border=\"1\" class=\"dataframe\">\n",
       "  <thead>\n",
       "    <tr style=\"text-align: right;\">\n",
       "      <th></th>\n",
       "      <th>trackId</th>\n",
       "      <th>danceability</th>\n",
       "      <th>energy</th>\n",
       "      <th>key</th>\n",
       "      <th>loudness</th>\n",
       "      <th>speechiness</th>\n",
       "      <th>acousticness</th>\n",
       "      <th>instrumentalness</th>\n",
       "      <th>liveness</th>\n",
       "      <th>valence</th>\n",
       "      <th>tempo</th>\n",
       "    </tr>\n",
       "  </thead>\n",
       "  <tbody>\n",
       "    <tr>\n",
       "      <th>0</th>\n",
       "      <td>2fzucOTof4pxCDG6u8iiGY</td>\n",
       "      <td>0.586</td>\n",
       "      <td>0.738</td>\n",
       "      <td>0</td>\n",
       "      <td>-4.779</td>\n",
       "      <td>0.193</td>\n",
       "      <td>0.251</td>\n",
       "      <td>0</td>\n",
       "      <td>0.13</td>\n",
       "      <td>0.631</td>\n",
       "      <td>155.717</td>\n",
       "    </tr>\n",
       "  </tbody>\n",
       "</table>\n",
       "</div>"
      ],
      "text/plain": [
       "                  trackId  danceability  energy  key  loudness  speechiness  \\\n",
       "0  2fzucOTof4pxCDG6u8iiGY         0.586   0.738    0    -4.779        0.193   \n",
       "\n",
       "   acousticness  instrumentalness  liveness  valence    tempo  \n",
       "0         0.251                 0      0.13    0.631  155.717  "
      ]
     },
     "execution_count": 31,
     "metadata": {},
     "output_type": "execute_result"
    }
   ],
   "source": [
    "my_sp.get_features()\n",
    "my_sp.features.head()"
   ]
  },
  {
   "cell_type": "markdown",
   "id": "baa303ae",
   "metadata": {},
   "source": [
    "# Recommendations API\n",
    "- 위에서 수집한 데이터들을 토대로 Spotify로 부터 추천음악들을 받아옴"
   ]
  },
  {
   "cell_type": "code",
   "execution_count": 32,
   "id": "624bf541",
   "metadata": {},
   "outputs": [
    {
     "data": {
      "text/html": [
       "<div>\n",
       "<style scoped>\n",
       "    .dataframe tbody tr th:only-of-type {\n",
       "        vertical-align: middle;\n",
       "    }\n",
       "\n",
       "    .dataframe tbody tr th {\n",
       "        vertical-align: top;\n",
       "    }\n",
       "\n",
       "    .dataframe thead th {\n",
       "        text-align: right;\n",
       "    }\n",
       "</style>\n",
       "<table border=\"1\" class=\"dataframe\">\n",
       "  <thead>\n",
       "    <tr style=\"text-align: right;\">\n",
       "      <th></th>\n",
       "      <th>trackId</th>\n",
       "      <th>trackName</th>\n",
       "      <th>artistIds</th>\n",
       "      <th>artistName</th>\n",
       "      <th>image</th>\n",
       "    </tr>\n",
       "  </thead>\n",
       "  <tbody>\n",
       "    <tr>\n",
       "      <th>0</th>\n",
       "      <td>1HY5vODWQKJ1a4fdLP2Ck9</td>\n",
       "      <td>Sisi La Famille (Feat. KEEM HYO-EUN, The Quiett)</td>\n",
       "      <td>79g2STpP2iV1xfgHuhrhX0</td>\n",
       "      <td>Leellamarz</td>\n",
       "      <td>https://i.scdn.co/image/ab67616d0000b273c5bc5b...</td>\n",
       "    </tr>\n",
       "    <tr>\n",
       "      <th>1</th>\n",
       "      <td>5kqIPrATaCc2LqxVWzQGbk</td>\n",
       "      <td>7 Years</td>\n",
       "      <td>25u4wHJWxCA9vO0CzxAbK7</td>\n",
       "      <td>Lukas Graham</td>\n",
       "      <td>https://i.scdn.co/image/ab67616d0000b2732d94d0...</td>\n",
       "    </tr>\n",
       "    <tr>\n",
       "      <th>2</th>\n",
       "      <td>2y4lAQpi5VTNLu2ldeTdUH</td>\n",
       "      <td>We Can't Stop</td>\n",
       "      <td>5YGY8feqx7naU7z4HrwZM6</td>\n",
       "      <td>Miley Cyrus</td>\n",
       "      <td>https://i.scdn.co/image/ab67616d0000b2736b18d0...</td>\n",
       "    </tr>\n",
       "    <tr>\n",
       "      <th>3</th>\n",
       "      <td>3ZLyt2ndLFBh148XRYjYYZ</td>\n",
       "      <td>All We Got (feat. Kanye West &amp; Chicago Childre...</td>\n",
       "      <td>1anyVhU62p31KFi8MEzkbf</td>\n",
       "      <td>Chance the Rapper</td>\n",
       "      <td>https://i.scdn.co/image/ab67616d0000b273e71dd1...</td>\n",
       "    </tr>\n",
       "    <tr>\n",
       "      <th>4</th>\n",
       "      <td>6i0V12jOa3mr6uu4WYhUBr</td>\n",
       "      <td>Heathens</td>\n",
       "      <td>3YQKmKGau1PzlVlkL1iodx</td>\n",
       "      <td>Twenty One Pilots</td>\n",
       "      <td>https://i.scdn.co/image/ab67616d0000b2732ca3ba...</td>\n",
       "    </tr>\n",
       "  </tbody>\n",
       "</table>\n",
       "</div>"
      ],
      "text/plain": [
       "                  trackId                                          trackName  \\\n",
       "0  1HY5vODWQKJ1a4fdLP2Ck9   Sisi La Famille (Feat. KEEM HYO-EUN, The Quiett)   \n",
       "1  5kqIPrATaCc2LqxVWzQGbk                                            7 Years   \n",
       "2  2y4lAQpi5VTNLu2ldeTdUH                                      We Can't Stop   \n",
       "3  3ZLyt2ndLFBh148XRYjYYZ  All We Got (feat. Kanye West & Chicago Childre...   \n",
       "4  6i0V12jOa3mr6uu4WYhUBr                                           Heathens   \n",
       "\n",
       "                artistIds         artistName  \\\n",
       "0  79g2STpP2iV1xfgHuhrhX0         Leellamarz   \n",
       "1  25u4wHJWxCA9vO0CzxAbK7       Lukas Graham   \n",
       "2  5YGY8feqx7naU7z4HrwZM6        Miley Cyrus   \n",
       "3  1anyVhU62p31KFi8MEzkbf  Chance the Rapper   \n",
       "4  3YQKmKGau1PzlVlkL1iodx  Twenty One Pilots   \n",
       "\n",
       "                                               image  \n",
       "0  https://i.scdn.co/image/ab67616d0000b273c5bc5b...  \n",
       "1  https://i.scdn.co/image/ab67616d0000b2732d94d0...  \n",
       "2  https://i.scdn.co/image/ab67616d0000b2736b18d0...  \n",
       "3  https://i.scdn.co/image/ab67616d0000b273e71dd1...  \n",
       "4  https://i.scdn.co/image/ab67616d0000b2732ca3ba...  "
      ]
     },
     "execution_count": 32,
     "metadata": {},
     "output_type": "execute_result"
    }
   ],
   "source": [
    "my_sp.get_recommend()\n",
    "my_sp.reco_tracks.head()"
   ]
  }
 ],
 "metadata": {
  "kernelspec": {
   "display_name": "Python 3 (ipykernel)",
   "language": "python",
   "name": "python3"
  },
  "language_info": {
   "codemirror_mode": {
    "name": "ipython",
    "version": 3
   },
   "file_extension": ".py",
   "mimetype": "text/x-python",
   "name": "python",
   "nbconvert_exporter": "python",
   "pygments_lexer": "ipython3",
   "version": "3.8.12"
  }
 },
 "nbformat": 4,
 "nbformat_minor": 5
}
