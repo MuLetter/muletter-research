{
 "cells": [
  {
   "cell_type": "code",
   "execution_count": 1,
   "id": "b7a9d9f1",
   "metadata": {},
   "outputs": [],
   "source": [
    "%load_ext autoreload\n",
    "%autoreload 2\n",
    "%reload_ext autoreload\n",
    "\n",
    "from src import Spotify\n",
    "from src.utils import KMeans, DB"
   ]
  },
  {
   "cell_type": "markdown",
   "id": "350acef3",
   "metadata": {},
   "source": [
    "# My Data Setting"
   ]
  },
  {
   "cell_type": "code",
   "execution_count": 2,
   "id": "ed57527a",
   "metadata": {},
   "outputs": [
    {
     "name": "stdout",
     "output_type": "stream",
     "text": [
      "계속하시려면 아무거나, 종료는 exit를 입력해주세요.exit\n"
     ]
    }
   ],
   "source": [
    "my_sp = Spotify()\n",
    "my_sp.search()"
   ]
  },
  {
   "cell_type": "code",
   "execution_count": 3,
   "id": "c63bde83",
   "metadata": {},
   "outputs": [],
   "source": [
    "db = DB()\n",
    "save_mb = db.save_mailbox(my_sp.sel_tracks)"
   ]
  },
  {
   "cell_type": "markdown",
   "id": "e036f938",
   "metadata": {},
   "source": [
    "# Recommender Init\n",
    "- 실제로는 DB에 들어가서 Recommender가 빼는 형태라서, my_sp를 Recommender에 넣어서 빼는 작업이 필요"
   ]
  },
  {
   "cell_type": "code",
   "execution_count": 60,
   "id": "0a680f1d",
   "metadata": {},
   "outputs": [],
   "source": [
    "import pandas as pd\n",
    "import numpy as np"
   ]
  },
  {
   "cell_type": "code",
   "execution_count": 47,
   "id": "fe49f969",
   "metadata": {},
   "outputs": [
    {
     "data": {
      "text/plain": [
       "ObjectId('6265f7aafe9fef932765c60b')"
      ]
     },
     "execution_count": 47,
     "metadata": {},
     "output_type": "execute_result"
    }
   ],
   "source": [
    "save_mb.inserted_id"
   ]
  },
  {
   "cell_type": "markdown",
   "id": "96cad511",
   "metadata": {},
   "source": [
    "## init_setting\n",
    "- Spotify 로 부터 추천 음악들을 긁어오는 과정"
   ]
  },
  {
   "cell_type": "code",
   "execution_count": 204,
   "id": "827959d9",
   "metadata": {},
   "outputs": [],
   "source": [
    "mail_box_id = str(save_mb.inserted_id)\n",
    "mail_box = db.get_mailbox(mail_box_id)\n",
    "\n",
    "cols = ['trackId', 'trackName', 'artistIds', 'artistNames', 'image']\n",
    "\n",
    "_sel_tracks = mail_box['tracks']\n",
    "sel_tracks = pd.DataFrame(_sel_tracks)[cols]\n",
    "\n",
    "sp = Spotify(sel_tracks)\n",
    "sp.get_genres()\n",
    "sp.get_features()\n",
    "sp.get_recommend()\n",
    "\n",
    "reco_sp = Spotify(sp.reco_tracks)\n",
    "reco_sp.get_features()\n",
    "\n",
    "my_tracks = sp.sel_tracks\n",
    "my_features = sp.features\n",
    "\n",
    "reco_tracks = reco_sp.sel_tracks\n",
    "reco_features = reco_sp.features"
   ]
  },
  {
   "cell_type": "markdown",
   "id": "56390a83",
   "metadata": {},
   "source": [
    "## Data Preprocessing"
   ]
  },
  {
   "cell_type": "code",
   "execution_count": 205,
   "id": "9a4514be",
   "metadata": {},
   "outputs": [
    {
     "data": {
      "text/plain": [
       "array([[0.24263674614305752, 0.716824644549763, 0.7272727272727273, ...,\n",
       "        0.09195859872611464, 0.39045231855987245, 0.19603742746822164],\n",
       "       [0.5890603085553998, 0.7464454976303317, 0.45454545454545453, ...,\n",
       "        0.06488853503184713, 0.9612623903383845, 0.5735452605434265],\n",
       "       [0.8036465638148669, 0.683649289099526, 0.09090909090909091, ...,\n",
       "        0.25159235668789803, 0.6525008545060955, 0.40196701186916095],\n",
       "       ...,\n",
       "       [0.48807854137447404, 0.7713270142180095, 0.09090909090909091,\n",
       "        ..., 0.2914012738853503, 0.10903497778284152,\n",
       "        0.45857213209526737],\n",
       "       [0.6507713884992987, 0.6895734597156398, 0.09090909090909091, ...,\n",
       "        0.46125265392781317, 0.45881280619801756, 0.430637137697968],\n",
       "       [0.5988779803646564, 0.0, 0.18181818181818182, ...,\n",
       "        0.3723460721868365, 0.30614105047282675, 0.3015038076953273]],\n",
       "      dtype=object)"
      ]
     },
     "execution_count": 205,
     "metadata": {},
     "output_type": "execute_result"
    }
   ],
   "source": [
    "features = pd.concat([my_features, reco_features])\n",
    "\n",
    "norm_features = features.values[:, 1:]\n",
    "norm_features = (norm_features - norm_features.min(axis=0)) / \\\n",
    "                (norm_features.max(axis=0) - norm_features.min(axis=0))\n",
    "\n",
    "norm_features"
   ]
  },
  {
   "cell_type": "markdown",
   "id": "d63a31e5",
   "metadata": {},
   "source": [
    "# Reco KMeans\n",
    "- music filtering의 역할이 관건\n",
    "- 너무 많이 추천되거나, 너무 적게 추천되는 경우"
   ]
  },
  {
   "cell_type": "code",
   "execution_count": 207,
   "id": "d7776f14",
   "metadata": {},
   "outputs": [
    {
     "name": "stdout",
     "output_type": "stream",
     "text": [
      "ECV 46%\n",
      "ECV 52%\n",
      "ECV 53%\n",
      "ECV 53%\n",
      "ECV 54%\n",
      "ECV 54%\n",
      "ECV 54%\n",
      "ECV 54%\n",
      "ECV 55%\n",
      "ECV 55%\n",
      "ECV 55%\n",
      "ECV 55%\n",
      "ECV 55%\n",
      "ECV 55%\n",
      "ECV 55%\n"
     ]
    }
   ],
   "source": [
    "kmeans = KMeans(norm_features)\n",
    "kmeans.fit()"
   ]
  },
  {
   "cell_type": "code",
   "execution_count": 208,
   "id": "aff34d54",
   "metadata": {},
   "outputs": [],
   "source": [
    "labels_ = kmeans.labels_\n",
    "clusters_ = kmeans.clusters_\n",
    "\n",
    "cluster_res = pd.DataFrame(\n",
    "    np.column_stack([features['trackId'], labels_]),\n",
    "    columns=['trackId', 'label']\n",
    ")\n",
    "\n",
    "my_labels = np.unique(pd.merge(my_features,cluster_res, on='trackId')['label'].values)"
   ]
  },
  {
   "cell_type": "code",
   "execution_count": 209,
   "id": "647e29ee",
   "metadata": {},
   "outputs": [
    {
     "data": {
      "text/html": [
       "<div>\n",
       "<style scoped>\n",
       "    .dataframe tbody tr th:only-of-type {\n",
       "        vertical-align: middle;\n",
       "    }\n",
       "\n",
       "    .dataframe tbody tr th {\n",
       "        vertical-align: top;\n",
       "    }\n",
       "\n",
       "    .dataframe thead th {\n",
       "        text-align: right;\n",
       "    }\n",
       "</style>\n",
       "<table border=\"1\" class=\"dataframe\">\n",
       "  <thead>\n",
       "    <tr style=\"text-align: right;\">\n",
       "      <th></th>\n",
       "      <th>trackId</th>\n",
       "      <th>label</th>\n",
       "    </tr>\n",
       "  </thead>\n",
       "  <tbody>\n",
       "    <tr>\n",
       "      <th>2</th>\n",
       "      <td>18K3144Ugca0LSMqEi9KTw</td>\n",
       "      <td>6</td>\n",
       "    </tr>\n",
       "    <tr>\n",
       "      <th>7</th>\n",
       "      <td>7bp5DfkdK1OAvNJ1U4HfDA</td>\n",
       "      <td>6</td>\n",
       "    </tr>\n",
       "    <tr>\n",
       "      <th>8</th>\n",
       "      <td>4AtDiqnMxDt8crflZWgZG5</td>\n",
       "      <td>8</td>\n",
       "    </tr>\n",
       "    <tr>\n",
       "      <th>10</th>\n",
       "      <td>0c7QMo952Ga2qAJMdfEcrb</td>\n",
       "      <td>6</td>\n",
       "    </tr>\n",
       "    <tr>\n",
       "      <th>12</th>\n",
       "      <td>0gHcxtyWQT0HrlGxaxP1KT</td>\n",
       "      <td>6</td>\n",
       "    </tr>\n",
       "    <tr>\n",
       "      <th>...</th>\n",
       "      <td>...</td>\n",
       "      <td>...</td>\n",
       "    </tr>\n",
       "    <tr>\n",
       "      <th>166</th>\n",
       "      <td>5dFXrbiBhX3bWwAV4q4T1x</td>\n",
       "      <td>6</td>\n",
       "    </tr>\n",
       "    <tr>\n",
       "      <th>167</th>\n",
       "      <td>1EvB6tE5CHluLZaWm3r0bT</td>\n",
       "      <td>6</td>\n",
       "    </tr>\n",
       "    <tr>\n",
       "      <th>169</th>\n",
       "      <td>5V3cwxCMYUHCf8dtWgbw7e</td>\n",
       "      <td>6</td>\n",
       "    </tr>\n",
       "    <tr>\n",
       "      <th>174</th>\n",
       "      <td>3H1WufSXLnOPckdJnFDbtF</td>\n",
       "      <td>8</td>\n",
       "    </tr>\n",
       "    <tr>\n",
       "      <th>175</th>\n",
       "      <td>1vdBPnFzz85baCwFKkj2AX</td>\n",
       "      <td>6</td>\n",
       "    </tr>\n",
       "  </tbody>\n",
       "</table>\n",
       "<p>69 rows × 2 columns</p>\n",
       "</div>"
      ],
      "text/plain": [
       "                    trackId label\n",
       "2    18K3144Ugca0LSMqEi9KTw     6\n",
       "7    7bp5DfkdK1OAvNJ1U4HfDA     6\n",
       "8    4AtDiqnMxDt8crflZWgZG5     8\n",
       "10   0c7QMo952Ga2qAJMdfEcrb     6\n",
       "12   0gHcxtyWQT0HrlGxaxP1KT     6\n",
       "..                      ...   ...\n",
       "166  5dFXrbiBhX3bWwAV4q4T1x     6\n",
       "167  1EvB6tE5CHluLZaWm3r0bT     6\n",
       "169  5V3cwxCMYUHCf8dtWgbw7e     6\n",
       "174  3H1WufSXLnOPckdJnFDbtF     8\n",
       "175  1vdBPnFzz85baCwFKkj2AX     6\n",
       "\n",
       "[69 rows x 2 columns]"
      ]
     },
     "execution_count": 209,
     "metadata": {},
     "output_type": "execute_result"
    }
   ],
   "source": [
    "label_chk = np.isin(cluster_res['label'], my_labels)\n",
    "recos = cluster_res[label_chk].copy()\n",
    "\n",
    "my_tracks_chk = np.isin(recos['trackId'], my_tracks)\n",
    "recos = recos[~my_tracks_chk]\n",
    "recos"
   ]
  },
  {
   "cell_type": "markdown",
   "id": "7100803a",
   "metadata": {},
   "source": [
    "### 많을 경우"
   ]
  },
  {
   "cell_type": "code",
   "execution_count": 210,
   "id": "23ed3928",
   "metadata": {},
   "outputs": [
    {
     "name": "stdout",
     "output_type": "stream",
     "text": [
      "추천 노래 개수 : 30개\n"
     ]
    },
    {
     "data": {
      "text/html": [
       "<div>\n",
       "<style scoped>\n",
       "    .dataframe tbody tr th:only-of-type {\n",
       "        vertical-align: middle;\n",
       "    }\n",
       "\n",
       "    .dataframe tbody tr th {\n",
       "        vertical-align: top;\n",
       "    }\n",
       "\n",
       "    .dataframe thead th {\n",
       "        text-align: right;\n",
       "    }\n",
       "</style>\n",
       "<table border=\"1\" class=\"dataframe\">\n",
       "  <thead>\n",
       "    <tr style=\"text-align: right;\">\n",
       "      <th></th>\n",
       "      <th>trackId</th>\n",
       "      <th>trackName</th>\n",
       "      <th>artistIds</th>\n",
       "      <th>artistName</th>\n",
       "      <th>image</th>\n",
       "    </tr>\n",
       "  </thead>\n",
       "  <tbody>\n",
       "    <tr>\n",
       "      <th>0</th>\n",
       "      <td>18K3144Ugca0LSMqEi9KTw</td>\n",
       "      <td>Habibi</td>\n",
       "      <td>5DIi2JWfQPTKffaVBlIYRn</td>\n",
       "      <td>Sik-K</td>\n",
       "      <td>https://i.scdn.co/image/ab67616d0000b273487582...</td>\n",
       "    </tr>\n",
       "    <tr>\n",
       "      <th>6</th>\n",
       "      <td>4AtDiqnMxDt8crflZWgZG5</td>\n",
       "      <td>Turn Off Your Phone (Feat. ELO) - Remix</td>\n",
       "      <td>4XDi67ZENZcbfKnvMnTYsI</td>\n",
       "      <td>Jay Park</td>\n",
       "      <td>https://i.scdn.co/image/ab67616d0000b27382ecc5...</td>\n",
       "    </tr>\n",
       "    <tr>\n",
       "      <th>13</th>\n",
       "      <td>5kqIPrATaCc2LqxVWzQGbk</td>\n",
       "      <td>7 Years</td>\n",
       "      <td>25u4wHJWxCA9vO0CzxAbK7</td>\n",
       "      <td>Lukas Graham</td>\n",
       "      <td>https://i.scdn.co/image/ab67616d0000b2732d94d0...</td>\n",
       "    </tr>\n",
       "    <tr>\n",
       "      <th>15</th>\n",
       "      <td>0lpRp9KzzMbC0w1uiL7H7f</td>\n",
       "      <td>Fruit Punch</td>\n",
       "      <td>6y02TEMv71ArWB2qhIaQ5m</td>\n",
       "      <td>Kaiydo</td>\n",
       "      <td>https://i.scdn.co/image/ab67616d0000b2731927f0...</td>\n",
       "    </tr>\n",
       "    <tr>\n",
       "      <th>16</th>\n",
       "      <td>7BKLCZ1jbUBVqRi2FVlTVw</td>\n",
       "      <td>Closer</td>\n",
       "      <td>69GGBxA162lTqCwzJG5jLp,26VFTg2z8YR0cCuwLzESi2</td>\n",
       "      <td>The Chainsmokers,Halsey</td>\n",
       "      <td>https://i.scdn.co/image/ab67616d0000b273495ce6...</td>\n",
       "    </tr>\n",
       "  </tbody>\n",
       "</table>\n",
       "</div>"
      ],
      "text/plain": [
       "                   trackId                                trackName  \\\n",
       "0   18K3144Ugca0LSMqEi9KTw                                   Habibi   \n",
       "6   4AtDiqnMxDt8crflZWgZG5  Turn Off Your Phone (Feat. ELO) - Remix   \n",
       "13  5kqIPrATaCc2LqxVWzQGbk                                  7 Years   \n",
       "15  0lpRp9KzzMbC0w1uiL7H7f                              Fruit Punch   \n",
       "16  7BKLCZ1jbUBVqRi2FVlTVw                                   Closer   \n",
       "\n",
       "                                        artistIds               artistName  \\\n",
       "0                          5DIi2JWfQPTKffaVBlIYRn                    Sik-K   \n",
       "6                          4XDi67ZENZcbfKnvMnTYsI                 Jay Park   \n",
       "13                         25u4wHJWxCA9vO0CzxAbK7             Lukas Graham   \n",
       "15                         6y02TEMv71ArWB2qhIaQ5m                   Kaiydo   \n",
       "16  69GGBxA162lTqCwzJG5jLp,26VFTg2z8YR0cCuwLzESi2  The Chainsmokers,Halsey   \n",
       "\n",
       "                                                image  \n",
       "0   https://i.scdn.co/image/ab67616d0000b273487582...  \n",
       "6   https://i.scdn.co/image/ab67616d0000b27382ecc5...  \n",
       "13  https://i.scdn.co/image/ab67616d0000b2732d94d0...  \n",
       "15  https://i.scdn.co/image/ab67616d0000b2731927f0...  \n",
       "16  https://i.scdn.co/image/ab67616d0000b273495ce6...  "
      ]
     },
     "execution_count": 210,
     "metadata": {},
     "output_type": "execute_result"
    }
   ],
   "source": [
    "MAX_COUNT = 30\n",
    "\n",
    "if len(recos) > MAX_COUNT:\n",
    "    while True:\n",
    "        cnt_df = recos.groupby(\"label\").count()\n",
    "\n",
    "        max_label = cnt_df['trackId'].idxmax()\n",
    "        chk_idxes = recos[recos['label'] == max_label].index\n",
    "\n",
    "        chk_cluster = np.expand_dims(clusters_[max_label], axis=0)\n",
    "        chk_features = norm_features[chk_idxes]\n",
    "\n",
    "        max_idx = euc(chk_cluster, chk_features).argmax()\n",
    "        recos.drop(chk_idxes[max_idx], inplace=True)\n",
    "\n",
    "        if len(recos) <= MAX_COUNT:\n",
    "            break\n",
    "#     break\n",
    "            \n",
    "reco_tracks_chk = np.isin(reco_tracks['trackId'], recos['trackId'])\n",
    "print(\"추천 노래 개수 : {}개\".format(len(reco_tracks[reco_tracks_chk])))\n",
    "reco_tracks[reco_tracks_chk].head()"
   ]
  },
  {
   "cell_type": "markdown",
   "id": "54277968",
   "metadata": {},
   "source": [
    "### 적을 경우"
   ]
  },
  {
   "cell_type": "code",
   "execution_count": 217,
   "id": "6b8110e5",
   "metadata": {},
   "outputs": [],
   "source": [
    "MIN_COUNT = 50\n",
    "\n",
    "if len(recos) < MIN_COUNT:\n",
    "    reco_mem = np.array([])\n",
    "\n",
    "    # Save trackIds\n",
    "    reco_mem = np.append(reco_mem,recos['trackId'].values)\n",
    "    reco_mem\n",
    "\n",
    "    # 대상 제거\n",
    "    reco_tracks = reco_tracks[~np.isin(reco_tracks['trackId'], reco_mem)]\n",
    "    reco_features = reco_features[~np.isin(reco_features['trackId'], reco_mem)]\n",
    "\n",
    "    MAX_COUNT = MIN_COUNT - len(reco_mem)"
   ]
  }
 ],
 "metadata": {
  "kernelspec": {
   "display_name": "Python 3.9",
   "language": "python",
   "name": "base"
  },
  "language_info": {
   "codemirror_mode": {
    "name": "ipython",
    "version": 3
   },
   "file_extension": ".py",
   "mimetype": "text/x-python",
   "name": "python",
   "nbconvert_exporter": "python",
   "pygments_lexer": "ipython3",
   "version": "3.8.12"
  }
 },
 "nbformat": 4,
 "nbformat_minor": 5
}
