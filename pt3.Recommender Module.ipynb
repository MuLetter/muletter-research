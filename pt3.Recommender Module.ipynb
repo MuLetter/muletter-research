{
 "cells": [
  {
   "cell_type": "code",
   "execution_count": 1,
   "id": "b7a9d9f1",
   "metadata": {},
   "outputs": [],
   "source": [
    "%load_ext autoreload\n",
    "%autoreload 2\n",
    "%reload_ext autoreload\n",
    "\n",
    "from src import Spotify\n",
    "from src.utils import KMeans, DB"
   ]
  },
  {
   "cell_type": "markdown",
   "id": "350acef3",
   "metadata": {},
   "source": [
    "# My Data Setting"
   ]
  },
  {
   "cell_type": "code",
   "execution_count": 2,
   "id": "ed57527a",
   "metadata": {},
   "outputs": [
    {
     "name": "stdout",
     "output_type": "stream",
     "text": [
      "계속하시려면 아무거나, 종료는 exit를 입력해주세요.exit\n"
     ]
    }
   ],
   "source": [
    "my_sp = Spotify()\n",
    "my_sp.search()"
   ]
  },
  {
   "cell_type": "code",
   "execution_count": 3,
   "id": "c63bde83",
   "metadata": {},
   "outputs": [],
   "source": [
    "db = DB()\n",
    "save_mb = db.save_mailbox(my_sp.sel_tracks)"
   ]
  },
  {
   "cell_type": "markdown",
   "id": "e036f938",
   "metadata": {},
   "source": [
    "# Recommender Init\n",
    "- 실제로는 DB에 들어가서 Recommender가 빼는 형태라서, my_sp를 Recommender에 넣어서 빼는 작업이 필요"
   ]
  },
  {
   "cell_type": "code",
   "execution_count": 34,
   "id": "4c1e5dc2",
   "metadata": {},
   "outputs": [],
   "source": [
    "import pandas as pd"
   ]
  },
  {
   "cell_type": "code",
   "execution_count": 47,
   "id": "2d10b39e",
   "metadata": {},
   "outputs": [
    {
     "data": {
      "text/plain": [
       "ObjectId('6265f7aafe9fef932765c60b')"
      ]
     },
     "execution_count": 47,
     "metadata": {},
     "output_type": "execute_result"
    }
   ],
   "source": [
    "save_mb.inserted_id"
   ]
  },
  {
   "cell_type": "markdown",
   "id": "7f34f459",
   "metadata": {},
   "source": [
    "## init_setting\n",
    "- Spotify 로 부터 추천 음악들을 긁어오는 과정"
   ]
  },
  {
   "cell_type": "code",
   "execution_count": 48,
   "id": "827959d9",
   "metadata": {},
   "outputs": [],
   "source": [
    "mail_box_id = str(save_mb.inserted_id)\n",
    "mail_box = db.get_mailbox(mail_box_id)\n",
    "\n",
    "cols = ['trackId', 'trackName', 'artistIds', 'artistNames', 'image']\n",
    "\n",
    "_sel_tracks = mail_box['tracks']\n",
    "sel_tracks = pd.DataFrame(_sel_tracks)[cols]\n",
    "\n",
    "sp = Spotify(sel_tracks)\n",
    "sp.get_genres()\n",
    "sp.get_features()\n",
    "sp.get_recommend()\n",
    "\n",
    "reco_sp = Spotify(sp.reco_tracks)\n",
    "reco_sp.get_features()\n",
    "\n",
    "my_tracks = sp.sel_tracks\n",
    "my_features = sp.features\n",
    "\n",
    "reco_tracks = reco_sp.sel_tracks\n",
    "reco_features = reco_sp.features"
   ]
  },
  {
   "cell_type": "markdown",
   "id": "fbc0766e",
   "metadata": {},
   "source": [
    "## Data Preprocessing"
   ]
  },
  {
   "cell_type": "code",
   "execution_count": 54,
   "id": "46ee8bf2",
   "metadata": {},
   "outputs": [
    {
     "data": {
      "text/plain": [
       "array([[0.18497109826589597, 0.7459936770958248, 0.7272727272727273, ...,\n",
       "        0.09711322869955157, 0.38195732838589985, 0.2862043711213043],\n",
       "       [0.541907514450867, 0.7732475744031397, 0.45454545454545453, ...,\n",
       "        0.06852578475336323, 0.9628942486085345, 0.6939675442315846],\n",
       "       [0.758670520231214, 0.5955521639594462, 0.0, ...,\n",
       "        0.0709080717488789, 0.7541743970315399, 0.33915892533631414],\n",
       "       ...,\n",
       "       [0.6936416184971098, 0.5399542134525237, 0.18181818181818182, ...,\n",
       "        0.11294843049327352, 0.3262987012987013, 0.49302702077631727],\n",
       "       [0.6546242774566474, 0.7350921181728988, 0.7272727272727273, ...,\n",
       "        0.04344170403587443, 0.7959183673469389, 0.5543769032108854],\n",
       "       [0.5939306358381504, 0.9400414259239072, 0.5454545454545454, ...,\n",
       "        0.24887892376681614, 0.5987940630797773, 0.6934587364607023]],\n",
       "      dtype=object)"
      ]
     },
     "execution_count": 54,
     "metadata": {},
     "output_type": "execute_result"
    }
   ],
   "source": [
    "features = pd.concat([my_features, reco_features])\n",
    "\n",
    "norm_features = features.values[:, 1:]\n",
    "norm_features = (norm_features - norm_features.min(axis=0)) / \\\n",
    "                (norm_features.max(axis=0) - norm_features.min(axis=0))\n",
    "\n",
    "norm_features"
   ]
  },
  {
   "cell_type": "code",
   "execution_count": null,
   "id": "9fc0f727",
   "metadata": {},
   "outputs": [],
   "source": []
  }
 ],
 "metadata": {
  "kernelspec": {
   "display_name": "Python 3.9",
   "language": "python",
   "name": "base"
  },
  "language_info": {
   "codemirror_mode": {
    "name": "ipython",
    "version": 3
   },
   "file_extension": ".py",
   "mimetype": "text/x-python",
   "name": "python",
   "nbconvert_exporter": "python",
   "pygments_lexer": "ipython3",
   "version": "3.8.12"
  }
 },
 "nbformat": 4,
 "nbformat_minor": 5
}
