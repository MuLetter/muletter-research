{
 "cells": [
  {
   "cell_type": "code",
   "execution_count": 54,
   "id": "cb702723",
   "metadata": {},
   "outputs": [
    {
     "name": "stdout",
     "output_type": "stream",
     "text": [
      "The autoreload extension is already loaded. To reload it, use:\n",
      "  %reload_ext autoreload\n"
     ]
    }
   ],
   "source": [
    "%load_ext autoreload\n",
    "%autoreload 2\n",
    "%reload_ext autoreload"
   ]
  },
  {
   "cell_type": "code",
   "execution_count": 55,
   "id": "157cdf40",
   "metadata": {},
   "outputs": [],
   "source": [
    "from src import SeedZoneController\n",
    "\n",
    "import datetime as dt"
   ]
  },
  {
   "cell_type": "markdown",
   "id": "e633f5d4",
   "metadata": {},
   "source": [
    "# Make New Cluster"
   ]
  },
  {
   "cell_type": "code",
   "execution_count": 56,
   "id": "e4d64c29",
   "metadata": {},
   "outputs": [
    {
     "name": "stdout",
     "output_type": "stream",
     "text": [
      "ECV 52%\n",
      "ECV 56%\n",
      "ECV 57%\n",
      "ECV 58%\n",
      "ECV 58%\n",
      "ECV 58%\n",
      "ECV 59%\n",
      "ECV 59%\n",
      "ECV 59%\n",
      "ECV 59%\n",
      "ECV 59%\n",
      "ECV 59%\n",
      "sorting okay :)\n",
      "Save Okay :)\n"
     ]
    }
   ],
   "source": [
    "sz = SeedZoneController()\n",
    "\n",
    "sz.make_new_cluster()\n",
    "sz.save()"
   ]
  }
 ],
 "metadata": {
  "kernelspec": {
   "display_name": "Python 3 (ipykernel)",
   "language": "python",
   "name": "python3"
  },
  "language_info": {
   "codemirror_mode": {
    "name": "ipython",
    "version": 3
   },
   "file_extension": ".py",
   "mimetype": "text/x-python",
   "name": "python",
   "nbconvert_exporter": "python",
   "pygments_lexer": "ipython3",
   "version": "3.8.12"
  }
 },
 "nbformat": 4,
 "nbformat_minor": 5
}
