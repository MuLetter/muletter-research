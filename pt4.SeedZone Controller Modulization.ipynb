{
 "cells": [
  {
   "cell_type": "code",
   "execution_count": 1,
   "id": "cb702723",
   "metadata": {},
   "outputs": [],
   "source": [
    "%load_ext autoreload\n",
    "%autoreload 2\n",
    "%reload_ext autoreload"
   ]
  },
  {
   "cell_type": "code",
   "execution_count": 17,
   "id": "157cdf40",
   "metadata": {},
   "outputs": [],
   "source": [
    "from src import SeedZoneController\n",
    "\n",
    "import datetime as dt"
   ]
  },
  {
   "cell_type": "markdown",
   "id": "e633f5d4",
   "metadata": {},
   "source": [
    "# Make New Cluster"
   ]
  },
  {
   "cell_type": "code",
   "execution_count": 47,
   "id": "f604bc33",
   "metadata": {},
   "outputs": [
    {
     "name": "stdout",
     "output_type": "stream",
     "text": [
      "ECV 53%\n",
      "ECV 57%\n",
      "ECV 58%\n",
      "ECV 58%\n",
      "ECV 58%\n",
      "ECV 58%\n",
      "ECV 58%\n",
      "ECV 58%\n",
      "ECV 58%\n",
      "sorting okay :)\n",
      "Save Okay :)\n"
     ]
    }
   ],
   "source": [
    "sz = SeedZoneController()\n",
    "\n",
    "sz.make_new_cluster()\n",
    "sz.save()"
   ]
  }
 ],
 "metadata": {
  "kernelspec": {
   "display_name": "Python 3 (ipykernel)",
   "language": "python",
   "name": "python3"
  },
  "language_info": {
   "codemirror_mode": {
    "name": "ipython",
    "version": 3
   },
   "file_extension": ".py",
   "mimetype": "text/x-python",
   "name": "python",
   "nbconvert_exporter": "python",
   "pygments_lexer": "ipython3",
   "version": "3.8.12"
  }
 },
 "nbformat": 4,
 "nbformat_minor": 5
}
