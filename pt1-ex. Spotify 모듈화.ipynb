{
 "cells": [
  {
   "cell_type": "code",
   "execution_count": 1,
   "id": "a7277a41",
   "metadata": {},
   "outputs": [],
   "source": [
    "%load_ext autoreload\n",
    "%autoreload 2\n",
    "%reload_ext autoreload"
   ]
  },
  {
   "cell_type": "code",
   "execution_count": 5,
   "id": "f88bca25",
   "metadata": {},
   "outputs": [],
   "source": [
    "from src import Spotify"
   ]
  },
  {
   "cell_type": "code",
   "execution_count": 12,
   "id": "d3e7a4ae",
   "metadata": {},
   "outputs": [
    {
     "name": "stdout",
     "output_type": "stream",
     "text": [
      "계속하시려면 아무거나, 종료는 exit를 입력해주세요.exit\n"
     ]
    }
   ],
   "source": [
    "sp = Spotify()\n",
    "sp.search()\n",
    "sp.get_genres()\n",
    "sp.get_features()\n",
    "sp.get_recommend()"
   ]
  },
  {
   "cell_type": "code",
   "execution_count": 16,
   "id": "a5f7a9b3",
   "metadata": {},
   "outputs": [
    {
     "data": {
      "text/html": [
       "<div>\n",
       "<style scoped>\n",
       "    .dataframe tbody tr th:only-of-type {\n",
       "        vertical-align: middle;\n",
       "    }\n",
       "\n",
       "    .dataframe tbody tr th {\n",
       "        vertical-align: top;\n",
       "    }\n",
       "\n",
       "    .dataframe thead th {\n",
       "        text-align: right;\n",
       "    }\n",
       "</style>\n",
       "<table border=\"1\" class=\"dataframe\">\n",
       "  <thead>\n",
       "    <tr style=\"text-align: right;\">\n",
       "      <th></th>\n",
       "      <th>trackId</th>\n",
       "      <th>trackName</th>\n",
       "      <th>artistIds</th>\n",
       "      <th>artistNames</th>\n",
       "      <th>image</th>\n",
       "    </tr>\n",
       "  </thead>\n",
       "  <tbody>\n",
       "    <tr>\n",
       "      <th>0</th>\n",
       "      <td>2FWquqPNxte8iqZ3ATQG0p</td>\n",
       "      <td>All I Wanna Do (K) (Feat. Hoody &amp; Loco)</td>\n",
       "      <td>4XDi67ZENZcbfKnvMnTYsI</td>\n",
       "      <td>Jay Park</td>\n",
       "      <td>https://i.scdn.co/image/ab67616d0000b27382ecc5...</td>\n",
       "    </tr>\n",
       "    <tr>\n",
       "      <th>1</th>\n",
       "      <td>4NKQTbmiBtm1MwqBbQQhpM</td>\n",
       "      <td>DRIVE (Feat. GRAY)</td>\n",
       "      <td>4XDi67ZENZcbfKnvMnTYsI</td>\n",
       "      <td>Jay Park</td>\n",
       "      <td>https://i.scdn.co/image/ab67616d0000b27382ecc5...</td>\n",
       "    </tr>\n",
       "  </tbody>\n",
       "</table>\n",
       "</div>"
      ],
      "text/plain": [
       "                  trackId                                trackName  \\\n",
       "0  2FWquqPNxte8iqZ3ATQG0p  All I Wanna Do (K) (Feat. Hoody & Loco)   \n",
       "1  4NKQTbmiBtm1MwqBbQQhpM                       DRIVE (Feat. GRAY)   \n",
       "\n",
       "                artistIds artistNames  \\\n",
       "0  4XDi67ZENZcbfKnvMnTYsI    Jay Park   \n",
       "1  4XDi67ZENZcbfKnvMnTYsI    Jay Park   \n",
       "\n",
       "                                               image  \n",
       "0  https://i.scdn.co/image/ab67616d0000b27382ecc5...  \n",
       "1  https://i.scdn.co/image/ab67616d0000b27382ecc5...  "
      ]
     },
     "execution_count": 16,
     "metadata": {},
     "output_type": "execute_result"
    }
   ],
   "source": [
    "sp.sel_tracks.head()"
   ]
  },
  {
   "cell_type": "code",
   "execution_count": 17,
   "id": "2672831f",
   "metadata": {},
   "outputs": [
    {
     "data": {
      "text/html": [
       "<div>\n",
       "<style scoped>\n",
       "    .dataframe tbody tr th:only-of-type {\n",
       "        vertical-align: middle;\n",
       "    }\n",
       "\n",
       "    .dataframe tbody tr th {\n",
       "        vertical-align: top;\n",
       "    }\n",
       "\n",
       "    .dataframe thead th {\n",
       "        text-align: right;\n",
       "    }\n",
       "</style>\n",
       "<table border=\"1\" class=\"dataframe\">\n",
       "  <thead>\n",
       "    <tr style=\"text-align: right;\">\n",
       "      <th></th>\n",
       "      <th>artistIds</th>\n",
       "      <th>genres</th>\n",
       "    </tr>\n",
       "  </thead>\n",
       "  <tbody>\n",
       "    <tr>\n",
       "      <th>0</th>\n",
       "      <td>4XDi67ZENZcbfKnvMnTYsI</td>\n",
       "      <td>k-pop,pop,hip-hop</td>\n",
       "    </tr>\n",
       "  </tbody>\n",
       "</table>\n",
       "</div>"
      ],
      "text/plain": [
       "                artistIds             genres\n",
       "0  4XDi67ZENZcbfKnvMnTYsI  k-pop,pop,hip-hop"
      ]
     },
     "execution_count": 17,
     "metadata": {},
     "output_type": "execute_result"
    }
   ],
   "source": [
    "sp.genres.head()"
   ]
  },
  {
   "cell_type": "code",
   "execution_count": 18,
   "id": "8076f929",
   "metadata": {},
   "outputs": [
    {
     "data": {
      "text/html": [
       "<div>\n",
       "<style scoped>\n",
       "    .dataframe tbody tr th:only-of-type {\n",
       "        vertical-align: middle;\n",
       "    }\n",
       "\n",
       "    .dataframe tbody tr th {\n",
       "        vertical-align: top;\n",
       "    }\n",
       "\n",
       "    .dataframe thead th {\n",
       "        text-align: right;\n",
       "    }\n",
       "</style>\n",
       "<table border=\"1\" class=\"dataframe\">\n",
       "  <thead>\n",
       "    <tr style=\"text-align: right;\">\n",
       "      <th></th>\n",
       "      <th>trackId</th>\n",
       "      <th>danceability</th>\n",
       "      <th>energy</th>\n",
       "      <th>key</th>\n",
       "      <th>loudness</th>\n",
       "      <th>speechiness</th>\n",
       "      <th>acousticness</th>\n",
       "      <th>instrumentalness</th>\n",
       "      <th>liveness</th>\n",
       "      <th>valence</th>\n",
       "      <th>tempo</th>\n",
       "    </tr>\n",
       "  </thead>\n",
       "  <tbody>\n",
       "    <tr>\n",
       "      <th>0</th>\n",
       "      <td>2FWquqPNxte8iqZ3ATQG0p</td>\n",
       "      <td>0.403</td>\n",
       "      <td>0.724</td>\n",
       "      <td>8</td>\n",
       "      <td>-6.064</td>\n",
       "      <td>0.246</td>\n",
       "      <td>0.377</td>\n",
       "      <td>0</td>\n",
       "      <td>0.0927</td>\n",
       "      <td>0.428</td>\n",
       "      <td>97.133</td>\n",
       "    </tr>\n",
       "    <tr>\n",
       "      <th>1</th>\n",
       "      <td>4NKQTbmiBtm1MwqBbQQhpM</td>\n",
       "      <td>0.650</td>\n",
       "      <td>0.749</td>\n",
       "      <td>5</td>\n",
       "      <td>-3.707</td>\n",
       "      <td>0.041</td>\n",
       "      <td>0.186</td>\n",
       "      <td>0</td>\n",
       "      <td>0.0723</td>\n",
       "      <td>0.929</td>\n",
       "      <td>150.026</td>\n",
       "    </tr>\n",
       "  </tbody>\n",
       "</table>\n",
       "</div>"
      ],
      "text/plain": [
       "                  trackId  danceability  energy  key  loudness  speechiness  \\\n",
       "0  2FWquqPNxte8iqZ3ATQG0p         0.403   0.724    8    -6.064        0.246   \n",
       "1  4NKQTbmiBtm1MwqBbQQhpM         0.650   0.749    5    -3.707        0.041   \n",
       "\n",
       "   acousticness  instrumentalness  liveness  valence    tempo  \n",
       "0         0.377                 0    0.0927    0.428   97.133  \n",
       "1         0.186                 0    0.0723    0.929  150.026  "
      ]
     },
     "execution_count": 18,
     "metadata": {},
     "output_type": "execute_result"
    }
   ],
   "source": [
    "sp.features.head()"
   ]
  },
  {
   "cell_type": "code",
   "execution_count": 14,
   "id": "0d7fbee3",
   "metadata": {},
   "outputs": [
    {
     "data": {
      "text/html": [
       "<div>\n",
       "<style scoped>\n",
       "    .dataframe tbody tr th:only-of-type {\n",
       "        vertical-align: middle;\n",
       "    }\n",
       "\n",
       "    .dataframe tbody tr th {\n",
       "        vertical-align: top;\n",
       "    }\n",
       "\n",
       "    .dataframe thead th {\n",
       "        text-align: right;\n",
       "    }\n",
       "</style>\n",
       "<table border=\"1\" class=\"dataframe\">\n",
       "  <thead>\n",
       "    <tr style=\"text-align: right;\">\n",
       "      <th></th>\n",
       "      <th>trackId</th>\n",
       "      <th>trackName</th>\n",
       "      <th>artistIds</th>\n",
       "      <th>artistName</th>\n",
       "      <th>image</th>\n",
       "    </tr>\n",
       "  </thead>\n",
       "  <tbody>\n",
       "    <tr>\n",
       "      <th>0</th>\n",
       "      <td>3dPq8oL9xLgHhMI1YXbPXk</td>\n",
       "      <td>Wet (feat.Superbee)</td>\n",
       "      <td>1vct46rBqLNRbE9wCibXUH</td>\n",
       "      <td>Jooyoung</td>\n",
       "      <td>https://i.scdn.co/image/ab67616d0000b27383b7c6...</td>\n",
       "    </tr>\n",
       "    <tr>\n",
       "      <th>1</th>\n",
       "      <td>5R0CjjQ1zZXb0dXni5XBAc</td>\n",
       "      <td>Angel</td>\n",
       "      <td>14yLuCwlBqteUdBqx9soJV</td>\n",
       "      <td>SE7EN</td>\n",
       "      <td>https://i.scdn.co/image/ab67616d0000b273734bb3...</td>\n",
       "    </tr>\n",
       "    <tr>\n",
       "      <th>2</th>\n",
       "      <td>2bJvI42r8EF3wxjOuDav4r</td>\n",
       "      <td>Time of Our Lives</td>\n",
       "      <td>0TnOYISbd1XYRBk9myaseg</td>\n",
       "      <td>Pitbull</td>\n",
       "      <td>https://i.scdn.co/image/ab67616d0000b2731e340d...</td>\n",
       "    </tr>\n",
       "    <tr>\n",
       "      <th>3</th>\n",
       "      <td>0iQ7Nc2YhlyGHeUi4R8Gl6</td>\n",
       "      <td>NO ONE</td>\n",
       "      <td>7cVZApDoQZpS447nHTsNqu</td>\n",
       "      <td>LeeHi</td>\n",
       "      <td>https://i.scdn.co/image/ab67616d0000b2732e1db3...</td>\n",
       "    </tr>\n",
       "    <tr>\n",
       "      <th>4</th>\n",
       "      <td>2tY1gxCKslfXLFpFofYmJQ</td>\n",
       "      <td>Brass Monkey</td>\n",
       "      <td>03r4iKL2g2442PT9n2UKsx</td>\n",
       "      <td>Beastie Boys</td>\n",
       "      <td>https://i.scdn.co/image/ab67616d0000b273a7ea08...</td>\n",
       "    </tr>\n",
       "  </tbody>\n",
       "</table>\n",
       "</div>"
      ],
      "text/plain": [
       "                  trackId            trackName               artistIds  \\\n",
       "0  3dPq8oL9xLgHhMI1YXbPXk  Wet (feat.Superbee)  1vct46rBqLNRbE9wCibXUH   \n",
       "1  5R0CjjQ1zZXb0dXni5XBAc                Angel  14yLuCwlBqteUdBqx9soJV   \n",
       "2  2bJvI42r8EF3wxjOuDav4r    Time of Our Lives  0TnOYISbd1XYRBk9myaseg   \n",
       "3  0iQ7Nc2YhlyGHeUi4R8Gl6               NO ONE  7cVZApDoQZpS447nHTsNqu   \n",
       "4  2tY1gxCKslfXLFpFofYmJQ         Brass Monkey  03r4iKL2g2442PT9n2UKsx   \n",
       "\n",
       "     artistName                                              image  \n",
       "0      Jooyoung  https://i.scdn.co/image/ab67616d0000b27383b7c6...  \n",
       "1         SE7EN  https://i.scdn.co/image/ab67616d0000b273734bb3...  \n",
       "2       Pitbull  https://i.scdn.co/image/ab67616d0000b2731e340d...  \n",
       "3         LeeHi  https://i.scdn.co/image/ab67616d0000b2732e1db3...  \n",
       "4  Beastie Boys  https://i.scdn.co/image/ab67616d0000b273a7ea08...  "
      ]
     },
     "execution_count": 14,
     "metadata": {},
     "output_type": "execute_result"
    }
   ],
   "source": [
    "sp.reco_tracks.head()"
   ]
  }
 ],
 "metadata": {
  "kernelspec": {
   "display_name": "Python 3",
   "language": "python",
   "name": "python3"
  },
  "language_info": {
   "codemirror_mode": {
    "name": "ipython",
    "version": 3
   },
   "file_extension": ".py",
   "mimetype": "text/x-python",
   "name": "python",
   "nbconvert_exporter": "python",
   "pygments_lexer": "ipython3",
   "version": "3.9.4"
  }
 },
 "nbformat": 4,
 "nbformat_minor": 5
}
