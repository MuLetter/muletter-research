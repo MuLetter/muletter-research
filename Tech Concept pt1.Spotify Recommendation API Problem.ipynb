{
 "cells": [
  {
   "cell_type": "code",
   "execution_count": 55,
   "id": "14ce4394",
   "metadata": {},
   "outputs": [
    {
     "name": "stdout",
     "output_type": "stream",
     "text": [
      "The autoreload extension is already loaded. To reload it, use:\n",
      "  %reload_ext autoreload\n"
     ]
    }
   ],
   "source": [
    "%load_ext autoreload\n",
    "%autoreload 2\n",
    "%reload_ext autoreload\n",
    "\n",
    "from src import Spotify\n",
    "from urllib.parse import urlencode, urlparse\n",
    "from pprint import pprint"
   ]
  },
  {
   "cell_type": "markdown",
   "id": "2f66fb5c",
   "metadata": {},
   "source": [
    "# Spotify Recommendation API"
   ]
  },
  {
   "cell_type": "code",
   "execution_count": 65,
   "id": "9d336928",
   "metadata": {},
   "outputs": [
    {
     "name": "stdout",
     "output_type": "stream",
     "text": [
      "계속하시려면 아무거나, 종료는 exit를 입력해주세요.exit\n"
     ]
    }
   ],
   "source": [
    "sp = Spotify()\n",
    "\n",
    "sp.search()\n",
    "sp.get_genres()\n",
    "sp.get_features()\n",
    "sp.get_recommend()\n",
    "\n",
    "reco_sp = Spotify(sp.reco_tracks)\n",
    "reco_sp.get_features()"
   ]
  },
  {
   "cell_type": "code",
   "execution_count": 68,
   "id": "5bfc3598",
   "metadata": {},
   "outputs": [
    {
     "data": {
      "text/html": [
       "<div>\n",
       "<style scoped>\n",
       "    .dataframe tbody tr th:only-of-type {\n",
       "        vertical-align: middle;\n",
       "    }\n",
       "\n",
       "    .dataframe tbody tr th {\n",
       "        vertical-align: top;\n",
       "    }\n",
       "\n",
       "    .dataframe thead th {\n",
       "        text-align: right;\n",
       "    }\n",
       "</style>\n",
       "<table border=\"1\" class=\"dataframe\">\n",
       "  <thead>\n",
       "    <tr style=\"text-align: right;\">\n",
       "      <th></th>\n",
       "      <th>trackId</th>\n",
       "      <th>trackName</th>\n",
       "      <th>artistIds</th>\n",
       "      <th>artistName</th>\n",
       "      <th>image</th>\n",
       "    </tr>\n",
       "  </thead>\n",
       "  <tbody>\n",
       "    <tr>\n",
       "      <th>0</th>\n",
       "      <td>1i42QWpNHM55H5Xzy0nfDM</td>\n",
       "      <td>잠실 귀요미</td>\n",
       "      <td>38m6NaoBF8CowoI9HfswXC</td>\n",
       "      <td>STi</td>\n",
       "      <td>https://i.scdn.co/image/ab67616d0000b273f92d3f...</td>\n",
       "    </tr>\n",
       "    <tr>\n",
       "      <th>1</th>\n",
       "      <td>7MRyJPksH3G2cXHN8UKYzP</td>\n",
       "      <td>American Girl</td>\n",
       "      <td>4tX2TplrkIP4v05BNC903e</td>\n",
       "      <td>Tom Petty and the Heartbreakers</td>\n",
       "      <td>https://i.scdn.co/image/ab67616d0000b2737e42a5...</td>\n",
       "    </tr>\n",
       "    <tr>\n",
       "      <th>2</th>\n",
       "      <td>7DotT9A1NUqqJCH13WqTZd</td>\n",
       "      <td>내 낡은 서랍 속의 바다</td>\n",
       "      <td>6UKH4iUhcq2EmANQtM8nDe</td>\n",
       "      <td>Panic</td>\n",
       "      <td>https://i.scdn.co/image/ab67616d0000b2736013dd...</td>\n",
       "    </tr>\n",
       "    <tr>\n",
       "      <th>3</th>\n",
       "      <td>5vollujufHY0jMZxx77VWr</td>\n",
       "      <td>All These Things That I've Done</td>\n",
       "      <td>0C0XlULifJtAgn6ZNCW2eu</td>\n",
       "      <td>The Killers</td>\n",
       "      <td>https://i.scdn.co/image/ab67616d0000b273ccdddd...</td>\n",
       "    </tr>\n",
       "    <tr>\n",
       "      <th>4</th>\n",
       "      <td>7N1rnCmbNyPPhf1ZBvfen3</td>\n",
       "      <td>You're My Everything</td>\n",
       "      <td>4mbvd7ZJ2goftjy1L33LiB</td>\n",
       "      <td>John Park</td>\n",
       "      <td>https://i.scdn.co/image/ab67616d0000b27344aca3...</td>\n",
       "    </tr>\n",
       "  </tbody>\n",
       "</table>\n",
       "</div>"
      ],
      "text/plain": [
       "                  trackId                        trackName  \\\n",
       "0  1i42QWpNHM55H5Xzy0nfDM                           잠실 귀요미   \n",
       "1  7MRyJPksH3G2cXHN8UKYzP                    American Girl   \n",
       "2  7DotT9A1NUqqJCH13WqTZd                    내 낡은 서랍 속의 바다   \n",
       "3  5vollujufHY0jMZxx77VWr  All These Things That I've Done   \n",
       "4  7N1rnCmbNyPPhf1ZBvfen3             You're My Everything   \n",
       "\n",
       "                artistIds                       artistName  \\\n",
       "0  38m6NaoBF8CowoI9HfswXC                              STi   \n",
       "1  4tX2TplrkIP4v05BNC903e  Tom Petty and the Heartbreakers   \n",
       "2  6UKH4iUhcq2EmANQtM8nDe                            Panic   \n",
       "3  0C0XlULifJtAgn6ZNCW2eu                      The Killers   \n",
       "4  4mbvd7ZJ2goftjy1L33LiB                        John Park   \n",
       "\n",
       "                                               image  \n",
       "0  https://i.scdn.co/image/ab67616d0000b273f92d3f...  \n",
       "1  https://i.scdn.co/image/ab67616d0000b2737e42a5...  \n",
       "2  https://i.scdn.co/image/ab67616d0000b2736013dd...  \n",
       "3  https://i.scdn.co/image/ab67616d0000b273ccdddd...  \n",
       "4  https://i.scdn.co/image/ab67616d0000b27344aca3...  "
      ]
     },
     "execution_count": 68,
     "metadata": {},
     "output_type": "execute_result"
    }
   ],
   "source": [
    "reco_sp.sel_tracks.head()"
   ]
  },
  {
   "cell_type": "markdown",
   "id": "e0d0ee3e",
   "metadata": {},
   "source": [
    "# Spotify Recommendation API Problem"
   ]
  },
  {
   "cell_type": "code",
   "execution_count": 24,
   "id": "31887607",
   "metadata": {},
   "outputs": [
    {
     "name": "stdout",
     "output_type": "stream",
     "text": [
      "계속하시려면 아무거나, 종료는 exit를 입력해주세요.exit\n"
     ]
    }
   ],
   "source": [
    "sp = Spotify()\n",
    "sp.search()"
   ]
  },
  {
   "cell_type": "code",
   "execution_count": 25,
   "id": "c8b3ca7c",
   "metadata": {},
   "outputs": [
    {
     "data": {
      "text/html": [
       "<div>\n",
       "<style scoped>\n",
       "    .dataframe tbody tr th:only-of-type {\n",
       "        vertical-align: middle;\n",
       "    }\n",
       "\n",
       "    .dataframe tbody tr th {\n",
       "        vertical-align: top;\n",
       "    }\n",
       "\n",
       "    .dataframe thead th {\n",
       "        text-align: right;\n",
       "    }\n",
       "</style>\n",
       "<table border=\"1\" class=\"dataframe\">\n",
       "  <thead>\n",
       "    <tr style=\"text-align: right;\">\n",
       "      <th></th>\n",
       "      <th>trackId</th>\n",
       "      <th>trackName</th>\n",
       "      <th>artistIds</th>\n",
       "      <th>artistNames</th>\n",
       "      <th>image</th>\n",
       "    </tr>\n",
       "  </thead>\n",
       "  <tbody>\n",
       "    <tr>\n",
       "      <th>0</th>\n",
       "      <td>67Yg0uYQB14o3gQ3RLwD7x</td>\n",
       "      <td>잊어야 한다는 마음으로</td>\n",
       "      <td>0Sr5L3iWPn0k6KnDr8RYS8</td>\n",
       "      <td>Kim Kwang Seok</td>\n",
       "      <td>https://i.scdn.co/image/ab67616d0000b273bf3902...</td>\n",
       "    </tr>\n",
       "  </tbody>\n",
       "</table>\n",
       "</div>"
      ],
      "text/plain": [
       "                  trackId     trackName               artistIds  \\\n",
       "0  67Yg0uYQB14o3gQ3RLwD7x  잊어야 한다는 마음으로  0Sr5L3iWPn0k6KnDr8RYS8   \n",
       "\n",
       "      artistNames                                              image  \n",
       "0  Kim Kwang Seok  https://i.scdn.co/image/ab67616d0000b273bf3902...  "
      ]
     },
     "execution_count": 25,
     "metadata": {},
     "output_type": "execute_result"
    }
   ],
   "source": [
    "sp.sel_tracks.head()"
   ]
  },
  {
   "cell_type": "code",
   "execution_count": 26,
   "id": "7e743397",
   "metadata": {},
   "outputs": [
    {
     "data": {
      "text/html": [
       "<div>\n",
       "<style scoped>\n",
       "    .dataframe tbody tr th:only-of-type {\n",
       "        vertical-align: middle;\n",
       "    }\n",
       "\n",
       "    .dataframe tbody tr th {\n",
       "        vertical-align: top;\n",
       "    }\n",
       "\n",
       "    .dataframe thead th {\n",
       "        text-align: right;\n",
       "    }\n",
       "</style>\n",
       "<table border=\"1\" class=\"dataframe\">\n",
       "  <thead>\n",
       "    <tr style=\"text-align: right;\">\n",
       "      <th></th>\n",
       "      <th>artistIds</th>\n",
       "      <th>genres</th>\n",
       "    </tr>\n",
       "  </thead>\n",
       "  <tbody>\n",
       "    <tr>\n",
       "      <th>0</th>\n",
       "      <td>0Sr5L3iWPn0k6KnDr8RYS8</td>\n",
       "      <td>k-pop,pop,rock,singer-songwriter</td>\n",
       "    </tr>\n",
       "  </tbody>\n",
       "</table>\n",
       "</div>"
      ],
      "text/plain": [
       "                artistIds                            genres\n",
       "0  0Sr5L3iWPn0k6KnDr8RYS8  k-pop,pop,rock,singer-songwriter"
      ]
     },
     "execution_count": 26,
     "metadata": {},
     "output_type": "execute_result"
    }
   ],
   "source": [
    "sp.get_genres()\n",
    "sp.genres.head()"
   ]
  },
  {
   "cell_type": "code",
   "execution_count": 43,
   "id": "7a86f34f",
   "metadata": {},
   "outputs": [
    {
     "data": {
      "text/html": [
       "<div>\n",
       "<style scoped>\n",
       "    .dataframe tbody tr th:only-of-type {\n",
       "        vertical-align: middle;\n",
       "    }\n",
       "\n",
       "    .dataframe tbody tr th {\n",
       "        vertical-align: top;\n",
       "    }\n",
       "\n",
       "    .dataframe thead th {\n",
       "        text-align: right;\n",
       "    }\n",
       "</style>\n",
       "<table border=\"1\" class=\"dataframe\">\n",
       "  <thead>\n",
       "    <tr style=\"text-align: right;\">\n",
       "      <th></th>\n",
       "      <th>trackId</th>\n",
       "      <th>danceability</th>\n",
       "      <th>energy</th>\n",
       "      <th>key</th>\n",
       "      <th>loudness</th>\n",
       "      <th>speechiness</th>\n",
       "      <th>acousticness</th>\n",
       "      <th>instrumentalness</th>\n",
       "      <th>liveness</th>\n",
       "      <th>valence</th>\n",
       "      <th>tempo</th>\n",
       "    </tr>\n",
       "  </thead>\n",
       "  <tbody>\n",
       "    <tr>\n",
       "      <th>0</th>\n",
       "      <td>67Yg0uYQB14o3gQ3RLwD7x</td>\n",
       "      <td>0.622</td>\n",
       "      <td>0.188</td>\n",
       "      <td>7</td>\n",
       "      <td>-19.679</td>\n",
       "      <td>0.0271</td>\n",
       "      <td>0.542</td>\n",
       "      <td>0.000052</td>\n",
       "      <td>0.076</td>\n",
       "      <td>0.146</td>\n",
       "      <td>139.939</td>\n",
       "    </tr>\n",
       "  </tbody>\n",
       "</table>\n",
       "</div>"
      ],
      "text/plain": [
       "                  trackId  danceability  energy  key  loudness  speechiness  \\\n",
       "0  67Yg0uYQB14o3gQ3RLwD7x         0.622   0.188    7   -19.679       0.0271   \n",
       "\n",
       "   acousticness  instrumentalness  liveness  valence    tempo  \n",
       "0         0.542          0.000052     0.076    0.146  139.939  "
      ]
     },
     "execution_count": 43,
     "metadata": {},
     "output_type": "execute_result"
    }
   ],
   "source": [
    "sp.get_features()\n",
    "sp.features.head()"
   ]
  },
  {
   "cell_type": "markdown",
   "id": "a9b2519b",
   "metadata": {},
   "source": [
    "## Error Report - SingersongWriter Report"
   ]
  },
  {
   "cell_type": "code",
   "execution_count": 44,
   "id": "d7ccdb79",
   "metadata": {},
   "outputs": [],
   "source": [
    "res = sp.get_recommend()"
   ]
  },
  {
   "cell_type": "code",
   "execution_count": 46,
   "id": "10f447f8",
   "metadata": {},
   "outputs": [
    {
     "name": "stdout",
     "output_type": "stream",
     "text": [
      "url https://api.spotify.com/v1/recommendations?seed_tracks=67Yg0uYQB14o3gQ3RLwD7x&seed_artists=0Sr5L3iWPn0k6KnDr8RYS8&seed_genres=k-pop%2Cpop%2Crock%2Csinger-songwriter&acousticness=0.542&danceability=0.622&energy=0.188&instrumentalness=5.22e-05&key=7&liveness=0.076&loudness=-19.679&speechiness=0.0271&tempo=139.939&valence=0.146&market=KR&limit=100\n",
      "\n",
      "json {'error': {'status': 400, 'message': 'invalid request'}}\n",
      "\n",
      "reason Bad Request\n"
     ]
    }
   ],
   "source": [
    "print(\"url\", res.url)\n",
    "print(\"\\njson\", res.json())\n",
    "print(\"\\nreason\",res.reason)"
   ]
  },
  {
   "cell_type": "code",
   "execution_count": 63,
   "id": "a07fd196",
   "metadata": {},
   "outputs": [
    {
     "data": {
      "text/plain": [
       "ParseResult(scheme='https', netloc='api.spotify.com', path='/v1/recommendations', params='', query='seed_tracks=67Yg0uYQB14o3gQ3RLwD7x&seed_artists=0Sr5L3iWPn0k6KnDr8RYS8&seed_genres=k-pop%2Cpop%2Crock%2Csinger-songwriter&acousticness=0.542&danceability=0.622&energy=0.188&instrumentalness=5.22e-05&key=7&liveness=0.076&loudness=-19.679&speechiness=0.0271&tempo=139.939&valence=0.146&market=KR&limit=100', fragment='')"
      ]
     },
     "execution_count": 63,
     "metadata": {},
     "output_type": "execute_result"
    }
   ],
   "source": [
    "parsed = urlparse(res.url)\n",
    "\n",
    "parsed"
   ]
  }
 ],
 "metadata": {
  "kernelspec": {
   "display_name": "Python 3 (ipykernel)",
   "language": "python",
   "name": "python3"
  },
  "language_info": {
   "codemirror_mode": {
    "name": "ipython",
    "version": 3
   },
   "file_extension": ".py",
   "mimetype": "text/x-python",
   "name": "python",
   "nbconvert_exporter": "python",
   "pygments_lexer": "ipython3",
   "version": "3.8.12"
  }
 },
 "nbformat": 4,
 "nbformat_minor": 5
}
