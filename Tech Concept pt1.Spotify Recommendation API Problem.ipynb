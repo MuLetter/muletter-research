{
 "cells": [
  {
   "cell_type": "code",
   "execution_count": 1,
   "id": "14ce4394",
   "metadata": {},
   "outputs": [],
   "source": [
    "%load_ext autoreload\n",
    "%autoreload 2\n",
    "%reload_ext autoreload\n",
    "\n",
    "from src import Spotify\n",
    "from urllib.parse import urlencode, urlparse\n",
    "from pprint import pprint"
   ]
  },
  {
   "cell_type": "markdown",
   "id": "2f66fb5c",
   "metadata": {},
   "source": [
    "# Spotify Recommendation API"
   ]
  },
  {
   "cell_type": "code",
   "execution_count": 2,
   "id": "3f44252a",
   "metadata": {},
   "outputs": [
    {
     "name": "stdout",
     "output_type": "stream",
     "text": [
      "계속하시려면 아무거나, 종료는 exit를 입력해주세요.exit\n"
     ]
    }
   ],
   "source": [
    "sp = Spotify()\n",
    "\n",
    "sp.search()"
   ]
  },
  {
   "cell_type": "code",
   "execution_count": 3,
   "id": "55b8a3f3",
   "metadata": {},
   "outputs": [
    {
     "data": {
      "text/html": [
       "<div>\n",
       "<style scoped>\n",
       "    .dataframe tbody tr th:only-of-type {\n",
       "        vertical-align: middle;\n",
       "    }\n",
       "\n",
       "    .dataframe tbody tr th {\n",
       "        vertical-align: top;\n",
       "    }\n",
       "\n",
       "    .dataframe thead th {\n",
       "        text-align: right;\n",
       "    }\n",
       "</style>\n",
       "<table border=\"1\" class=\"dataframe\">\n",
       "  <thead>\n",
       "    <tr style=\"text-align: right;\">\n",
       "      <th></th>\n",
       "      <th>trackId</th>\n",
       "      <th>trackName</th>\n",
       "      <th>artistIds</th>\n",
       "      <th>artistNames</th>\n",
       "      <th>image</th>\n",
       "    </tr>\n",
       "  </thead>\n",
       "  <tbody>\n",
       "    <tr>\n",
       "      <th>0</th>\n",
       "      <td>1OQ3PoRZRtE7RH0NIh3p1O</td>\n",
       "      <td>Drawer</td>\n",
       "      <td>6zn0ihyAApAYV51zpXxdEp</td>\n",
       "      <td>10cm</td>\n",
       "      <td>https://i.scdn.co/image/ab67616d0000b273b22853...</td>\n",
       "    </tr>\n",
       "    <tr>\n",
       "      <th>1</th>\n",
       "      <td>1cayXr914ctuYeJkv3CPUR</td>\n",
       "      <td>Rest</td>\n",
       "      <td>6dhfy4ByARPJdPtMyrUYJK</td>\n",
       "      <td>Yerin Baek</td>\n",
       "      <td>https://i.scdn.co/image/ab67616d0000b273654022...</td>\n",
       "    </tr>\n",
       "    <tr>\n",
       "      <th>2</th>\n",
       "      <td>01jZKFyNcPRUP2gX9zxScj</td>\n",
       "      <td>fall</td>\n",
       "      <td>6aLdhHUqgdKE86xbtNmY8g</td>\n",
       "      <td>Crush</td>\n",
       "      <td>https://i.scdn.co/image/ab67616d0000b273370c14...</td>\n",
       "    </tr>\n",
       "    <tr>\n",
       "      <th>3</th>\n",
       "      <td>2y4hHM6c48Qzk0bqh33XfB</td>\n",
       "      <td>Winter Sleep</td>\n",
       "      <td>3HqSLMAZ3g3d5poNaI7GOU</td>\n",
       "      <td>IU</td>\n",
       "      <td>https://i.scdn.co/image/ab67616d0000b2730d378c...</td>\n",
       "    </tr>\n",
       "  </tbody>\n",
       "</table>\n",
       "</div>"
      ],
      "text/plain": [
       "                  trackId     trackName               artistIds artistNames  \\\n",
       "0  1OQ3PoRZRtE7RH0NIh3p1O        Drawer  6zn0ihyAApAYV51zpXxdEp        10cm   \n",
       "1  1cayXr914ctuYeJkv3CPUR          Rest  6dhfy4ByARPJdPtMyrUYJK  Yerin Baek   \n",
       "2  01jZKFyNcPRUP2gX9zxScj          fall  6aLdhHUqgdKE86xbtNmY8g       Crush   \n",
       "3  2y4hHM6c48Qzk0bqh33XfB  Winter Sleep  3HqSLMAZ3g3d5poNaI7GOU          IU   \n",
       "\n",
       "                                               image  \n",
       "0  https://i.scdn.co/image/ab67616d0000b273b22853...  \n",
       "1  https://i.scdn.co/image/ab67616d0000b273654022...  \n",
       "2  https://i.scdn.co/image/ab67616d0000b273370c14...  \n",
       "3  https://i.scdn.co/image/ab67616d0000b2730d378c...  "
      ]
     },
     "execution_count": 3,
     "metadata": {},
     "output_type": "execute_result"
    }
   ],
   "source": [
    "sp.sel_tracks"
   ]
  },
  {
   "cell_type": "code",
   "execution_count": 4,
   "id": "9d336928",
   "metadata": {},
   "outputs": [
    {
     "name": "stdout",
     "output_type": "stream",
     "text": [
      "계속하시려면 아무거나, 종료는 exit를 입력해주세요.exit\n"
     ]
    }
   ],
   "source": [
    "sp = Spotify()\n",
    "\n",
    "sp.search()\n",
    "sp.get_genres()\n",
    "sp.get_features()\n",
    "sp.get_recommend()\n",
    "\n",
    "reco_sp = Spotify(sp.reco_tracks)\n",
    "reco_sp.get_features()"
   ]
  },
  {
   "cell_type": "markdown",
   "id": "e0d0ee3e",
   "metadata": {},
   "source": [
    "# Spotify Recommendation API Problem"
   ]
  },
  {
   "cell_type": "code",
   "execution_count": 48,
   "id": "31887607",
   "metadata": {},
   "outputs": [
    {
     "name": "stdout",
     "output_type": "stream",
     "text": [
      "계속하시려면 아무거나, 종료는 exit를 입력해주세요.exit\n"
     ]
    }
   ],
   "source": [
    "sp = Spotify()\n",
    "sp.search()"
   ]
  },
  {
   "cell_type": "code",
   "execution_count": 49,
   "id": "c8b3ca7c",
   "metadata": {},
   "outputs": [
    {
     "data": {
      "text/html": [
       "<div>\n",
       "<style scoped>\n",
       "    .dataframe tbody tr th:only-of-type {\n",
       "        vertical-align: middle;\n",
       "    }\n",
       "\n",
       "    .dataframe tbody tr th {\n",
       "        vertical-align: top;\n",
       "    }\n",
       "\n",
       "    .dataframe thead th {\n",
       "        text-align: right;\n",
       "    }\n",
       "</style>\n",
       "<table border=\"1\" class=\"dataframe\">\n",
       "  <thead>\n",
       "    <tr style=\"text-align: right;\">\n",
       "      <th></th>\n",
       "      <th>trackId</th>\n",
       "      <th>trackName</th>\n",
       "      <th>artistIds</th>\n",
       "      <th>artistNames</th>\n",
       "      <th>image</th>\n",
       "    </tr>\n",
       "  </thead>\n",
       "  <tbody>\n",
       "    <tr>\n",
       "      <th>0</th>\n",
       "      <td>67Yg0uYQB14o3gQ3RLwD7x</td>\n",
       "      <td>잊어야 한다는 마음으로</td>\n",
       "      <td>0Sr5L3iWPn0k6KnDr8RYS8</td>\n",
       "      <td>Kim Kwang Seok</td>\n",
       "      <td>https://i.scdn.co/image/ab67616d0000b273bf3902...</td>\n",
       "    </tr>\n",
       "  </tbody>\n",
       "</table>\n",
       "</div>"
      ],
      "text/plain": [
       "                  trackId     trackName               artistIds  \\\n",
       "0  67Yg0uYQB14o3gQ3RLwD7x  잊어야 한다는 마음으로  0Sr5L3iWPn0k6KnDr8RYS8   \n",
       "\n",
       "      artistNames                                              image  \n",
       "0  Kim Kwang Seok  https://i.scdn.co/image/ab67616d0000b273bf3902...  "
      ]
     },
     "execution_count": 49,
     "metadata": {},
     "output_type": "execute_result"
    }
   ],
   "source": [
    "sp.sel_tracks.head()"
   ]
  },
  {
   "cell_type": "code",
   "execution_count": 50,
   "id": "7e743397",
   "metadata": {},
   "outputs": [
    {
     "data": {
      "text/html": [
       "<div>\n",
       "<style scoped>\n",
       "    .dataframe tbody tr th:only-of-type {\n",
       "        vertical-align: middle;\n",
       "    }\n",
       "\n",
       "    .dataframe tbody tr th {\n",
       "        vertical-align: top;\n",
       "    }\n",
       "\n",
       "    .dataframe thead th {\n",
       "        text-align: right;\n",
       "    }\n",
       "</style>\n",
       "<table border=\"1\" class=\"dataframe\">\n",
       "  <thead>\n",
       "    <tr style=\"text-align: right;\">\n",
       "      <th></th>\n",
       "      <th>artistIds</th>\n",
       "      <th>genres</th>\n",
       "    </tr>\n",
       "  </thead>\n",
       "  <tbody>\n",
       "    <tr>\n",
       "      <th>0</th>\n",
       "      <td>0Sr5L3iWPn0k6KnDr8RYS8</td>\n",
       "      <td>k-pop,pop,rock,singer-songwriter</td>\n",
       "    </tr>\n",
       "  </tbody>\n",
       "</table>\n",
       "</div>"
      ],
      "text/plain": [
       "                artistIds                            genres\n",
       "0  0Sr5L3iWPn0k6KnDr8RYS8  k-pop,pop,rock,singer-songwriter"
      ]
     },
     "execution_count": 50,
     "metadata": {},
     "output_type": "execute_result"
    }
   ],
   "source": [
    "sp.get_genres()\n",
    "sp.genres.head()"
   ]
  },
  {
   "cell_type": "code",
   "execution_count": 51,
   "id": "7a86f34f",
   "metadata": {},
   "outputs": [
    {
     "data": {
      "text/html": [
       "<div>\n",
       "<style scoped>\n",
       "    .dataframe tbody tr th:only-of-type {\n",
       "        vertical-align: middle;\n",
       "    }\n",
       "\n",
       "    .dataframe tbody tr th {\n",
       "        vertical-align: top;\n",
       "    }\n",
       "\n",
       "    .dataframe thead th {\n",
       "        text-align: right;\n",
       "    }\n",
       "</style>\n",
       "<table border=\"1\" class=\"dataframe\">\n",
       "  <thead>\n",
       "    <tr style=\"text-align: right;\">\n",
       "      <th></th>\n",
       "      <th>trackId</th>\n",
       "      <th>danceability</th>\n",
       "      <th>energy</th>\n",
       "      <th>key</th>\n",
       "      <th>loudness</th>\n",
       "      <th>speechiness</th>\n",
       "      <th>acousticness</th>\n",
       "      <th>instrumentalness</th>\n",
       "      <th>liveness</th>\n",
       "      <th>valence</th>\n",
       "      <th>tempo</th>\n",
       "    </tr>\n",
       "  </thead>\n",
       "  <tbody>\n",
       "    <tr>\n",
       "      <th>0</th>\n",
       "      <td>67Yg0uYQB14o3gQ3RLwD7x</td>\n",
       "      <td>0.622</td>\n",
       "      <td>0.188</td>\n",
       "      <td>7</td>\n",
       "      <td>-19.679</td>\n",
       "      <td>0.0271</td>\n",
       "      <td>0.542</td>\n",
       "      <td>0.000052</td>\n",
       "      <td>0.076</td>\n",
       "      <td>0.146</td>\n",
       "      <td>139.939</td>\n",
       "    </tr>\n",
       "  </tbody>\n",
       "</table>\n",
       "</div>"
      ],
      "text/plain": [
       "                  trackId  danceability  energy  key  loudness  speechiness  \\\n",
       "0  67Yg0uYQB14o3gQ3RLwD7x         0.622   0.188    7   -19.679       0.0271   \n",
       "\n",
       "   acousticness  instrumentalness  liveness  valence    tempo  \n",
       "0         0.542          0.000052     0.076    0.146  139.939  "
      ]
     },
     "execution_count": 51,
     "metadata": {},
     "output_type": "execute_result"
    }
   ],
   "source": [
    "sp.get_features()\n",
    "sp.features.head()"
   ]
  },
  {
   "cell_type": "markdown",
   "id": "a9b2519b",
   "metadata": {},
   "source": [
    "## Error Report - SingersongWriter Report"
   ]
  },
  {
   "cell_type": "code",
   "execution_count": 57,
   "id": "d7ccdb79",
   "metadata": {},
   "outputs": [],
   "source": [
    "res = sp.get_recommend()"
   ]
  },
  {
   "cell_type": "code",
   "execution_count": 58,
   "id": "10f447f8",
   "metadata": {},
   "outputs": [
    {
     "name": "stdout",
     "output_type": "stream",
     "text": [
      "url https://api.spotify.com/v1/recommendations?seed_tracks=67Yg0uYQB14o3gQ3RLwD7x&seed_artists=0Sr5L3iWPn0k6KnDr8RYS8&seed_genres=k-pop%2Cpop%2Crock%2Csinger-songwriter&acousticness=0.542&danceability=0.622&energy=0.188&instrumentalness=5.22e-05&key=7&liveness=0.076&loudness=-19.679&speechiness=0.0271&tempo=139.939&valence=0.146&market=KR&limit=100\n",
      "\n",
      "json {'error': {'status': 400, 'message': 'invalid request'}}\n",
      "\n",
      "reason Bad Request\n"
     ]
    }
   ],
   "source": [
    "print(\"url\", res.url)\n",
    "print(\"\\njson\", res.json())\n",
    "print(\"\\nreason\",res.reason)"
   ]
  },
  {
   "cell_type": "code",
   "execution_count": 59,
   "id": "a07fd196",
   "metadata": {},
   "outputs": [
    {
     "data": {
      "text/plain": [
       "ParseResult(scheme='https', netloc='api.spotify.com', path='/v1/recommendations', params='', query='seed_tracks=67Yg0uYQB14o3gQ3RLwD7x&seed_artists=0Sr5L3iWPn0k6KnDr8RYS8&seed_genres=k-pop%2Cpop%2Crock%2Csinger-songwriter&acousticness=0.542&danceability=0.622&energy=0.188&instrumentalness=5.22e-05&key=7&liveness=0.076&loudness=-19.679&speechiness=0.0271&tempo=139.939&valence=0.146&market=KR&limit=100', fragment='')"
      ]
     },
     "execution_count": 59,
     "metadata": {},
     "output_type": "execute_result"
    }
   ],
   "source": [
    "parsed = urlparse(res.url)\n",
    "\n",
    "parsed"
   ]
  }
 ],
 "metadata": {
  "kernelspec": {
   "display_name": "Python 3 (ipykernel)",
   "language": "python",
   "name": "python3"
  },
  "language_info": {
   "codemirror_mode": {
    "name": "ipython",
    "version": 3
   },
   "file_extension": ".py",
   "mimetype": "text/x-python",
   "name": "python",
   "nbconvert_exporter": "python",
   "pygments_lexer": "ipython3",
   "version": "3.8.12"
  }
 },
 "nbformat": 4,
 "nbformat_minor": 5
}
