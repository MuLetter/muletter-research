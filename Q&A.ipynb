{
 "cells": [
  {
   "cell_type": "markdown",
   "id": "ab9aa408",
   "metadata": {},
   "source": [
    "# 예상 질문 모음"
   ]
  },
  {
   "cell_type": "markdown",
   "id": "e5dac8d1",
   "metadata": {},
   "source": [
    "### 1. 매번 Spotify API를 호출하면 무리가 있지 않나?\n",
    "##### 당연히 무리가 있습니다.\n",
    "**Solution** : API를 최대한 호출하지 않게 하기 위해서 audio-features, 가수별 장르정보와 같은 경우에는 Spotify에서 매번 가지고오지 않고SeedZone Database에 사용자가 추천음악 프로세스에 사용한 음악들의 정보를 쌓아놓듯이, 추천 프로세스에 사용된 음악의 audio-features, 가수별 장르정보는 MuLetter 내부 Database에 저장시킬 예정입니다."
   ]
  },
  {
   "cell_type": "markdown",
   "id": "a5233c12",
   "metadata": {},
   "source": [
    "### 2. SeedZone Observer는 관리자가 실행시키는 것 인가?\n",
    "##### 아닙니다.\n",
    "SeedZone Observer에 Observer를 붙여서 네이밍 한 것에는 이유가 있습니다. 사용자들이 우체통을 등록하거나 편지에 답장을 해주면 SeedZone Database에 추천 프로세스에 쓰일 음악을 넣는 과정에서 SeedZone Observer가 SeedZone Database에 있는 Seed 음악수를 체크합니다.<br/>\n",
    "그리고 앞서 발표했던 KMeans Based Recommender에서 Rule of Thumb 수식으로 K개수를 선정했는데, 음악이 계속 추가되어 Rule of Thumb 수식에 의해 기존 SeedZone Clustering 정보보다 많은 수의 K를 만들어낼 수 있으면 SeedZone Clustering이 동작합니다.<br/>\n",
    "추가적으로 음악이 계속 추가될 때 새로 추가된 음악에게 현재 SeedZone Clustering 정보를 토대로 라벨을 부여해주는데, 이 과정에서 ECV도 계속해서 업데이트 시킵니다. SeedZone Observer는 ECV 수치가 많이 낮아졌을 때, 그 때에도 SeedZone Clustering을 동작 시킵니다.<br/>\n",
    "<br/>\n",
    "추가적으로 SeedZone 클러스터링 작업이 진행될 때마다 프로세스가 종료되면 모든 Coord Generator에게 새로운 클러스터링 정보의 생성을 알리고 Coord Generator는 모든 우체통들의 좌표를 새 Clustering 정보에 맞춰서 재 부여 합니다."
   ]
  },
  {
   "cell_type": "markdown",
   "id": "e043f993",
   "metadata": {},
   "source": [
    "### 3. 많은 클러스터링 알고리즘 중에 왜 KMeans Clustering을 채택했나? or ECV 관련 질문\n",
    "장점에서도 언급했듯이 사이킷런의 의존도를 없앨 수 있다는 점에서 채택했습니다. 그리고 장점의 연장선으로 말씀드렸던게 ECV라는 품질평가를 사용했다라는 점 인데요. 저희 추천 시스템에서 클러스터링 알고리즘은 필터링의 역할만 수행하기 때문에 평가 수치 자체가 그렇게 중요하지 않아요.<br/>\n",
    "근데 ECV는 사이킷런에서 제공하지 않는 품질평가 방식입니다. 직접 구현했기 때문에 라이브러리에서 지원하지 않는 방식을 도입할 수 있었고,<br/> 저희는 남길 수 있는 프로젝트를 진행하자가 공동의 목표인데, KMeans Process를 이해하고 직접구현할 수 있다는, 넓은 의미로 풀어내면 알고리즘의 대한 이해도를 남기면 좋을 거 같아서와 같은 이유로 클러스터링 알고리즘 중에 가장 쉬운 KMeans Clustering을 채택했습니다."
   ]
  },
  {
   "cell_type": "markdown",
   "id": "b035d96e",
   "metadata": {},
   "source": [
    "### 4. Coord Generator가 클러스터 성향을 좌표계로 변환시키는 과정을 자세하게 설명?\n",
    "##### Detail 하게 프로그램 구현하기"
   ]
  },
  {
   "cell_type": "markdown",
   "id": "9ff7619d",
   "metadata": {},
   "source": [
    "### 5. 해당 추천 프로그램을 어떻게 탑재할건가? <br/> 추천 프로세스가 오래걸릴텐데 사용자한테는 어떻게 제공해줄 것 인가?\n",
    "##### child-process library 소개 프로그램 구현하기"
   ]
  },
  {
   "cell_type": "markdown",
   "id": "19460cbd",
   "metadata": {},
   "source": [
    "### 6. 추천 음악은 한번만 제공이 되는가?\n",
    "발표 시간 상, 내용에는 넣지 않았는데요. 편지 UI에 좋아요 표시가 붙게될거에요. 사용자는 자신이 받은 추천음악 플레이리스트에서 마음에 들었던 음악들에 좋아요를 눌러서 MuLetter 시스템에게 답장을 해주면 MuLetter 시스템은 사용자가 좋아요를 누른 음악을 토대로 추천음악프로세스를 다시 진행하고, 사용자에게 새 편지를 작성해줍니다."
   ]
  }
 ],
 "metadata": {
  "kernelspec": {
   "display_name": "Python 3 (ipykernel)",
   "language": "python",
   "name": "python3"
  },
  "language_info": {
   "codemirror_mode": {
    "name": "ipython",
    "version": 3
   },
   "file_extension": ".py",
   "mimetype": "text/x-python",
   "name": "python",
   "nbconvert_exporter": "python",
   "pygments_lexer": "ipython3",
   "version": "3.8.12"
  }
 },
 "nbformat": 4,
 "nbformat_minor": 5
}
