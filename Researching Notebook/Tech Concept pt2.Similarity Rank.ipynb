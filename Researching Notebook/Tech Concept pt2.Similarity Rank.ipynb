{
 "cells": [
  {
   "cell_type": "code",
   "execution_count": 1,
   "id": "8dc84f98",
   "metadata": {},
   "outputs": [],
   "source": [
    "%load_ext autoreload\n",
    "%autoreload 2\n",
    "%reload_ext autoreload\n",
    "\n",
    "import numpy as np\n",
    "from src import Spotify\n",
    "from urllib.parse import urlencode, urlparse\n",
    "from pprint import pprint\n",
    "import matplotlib\n",
    "import matplotlib.pyplot as plt\n",
    "matplotlib.rc('font', family='AppleGothic')\n",
    "plt.rcParams['axes.unicode_minus'] = False"
   ]
  },
  {
   "cell_type": "code",
   "execution_count": 2,
   "id": "98b8a23f",
   "metadata": {},
   "outputs": [
    {
     "name": "stdout",
     "output_type": "stream",
     "text": [
      "계속하시려면 아무거나, 종료는 exit를 입력해주세요.exit\n"
     ]
    }
   ],
   "source": [
    "sp = Spotify()\n",
    "\n",
    "sp.search()\n",
    "sp.get_genres()\n",
    "sp.get_features()\n",
    "sp.get_recommend(get_bak=True)\n",
    "\n",
    "reco_sp = Spotify(sp.reco_tracks)\n",
    "reco_sp.get_features()"
   ]
  },
  {
   "cell_type": "code",
   "execution_count": 3,
   "id": "1133b527",
   "metadata": {},
   "outputs": [
    {
     "data": {
      "text/html": [
       "<div>\n",
       "<style scoped>\n",
       "    .dataframe tbody tr th:only-of-type {\n",
       "        vertical-align: middle;\n",
       "    }\n",
       "\n",
       "    .dataframe tbody tr th {\n",
       "        vertical-align: top;\n",
       "    }\n",
       "\n",
       "    .dataframe thead th {\n",
       "        text-align: right;\n",
       "    }\n",
       "</style>\n",
       "<table border=\"1\" class=\"dataframe\">\n",
       "  <thead>\n",
       "    <tr style=\"text-align: right;\">\n",
       "      <th></th>\n",
       "      <th>trackId</th>\n",
       "      <th>trackName</th>\n",
       "      <th>artistIds</th>\n",
       "      <th>artistNames</th>\n",
       "      <th>image</th>\n",
       "    </tr>\n",
       "  </thead>\n",
       "  <tbody>\n",
       "    <tr>\n",
       "      <th>0</th>\n",
       "      <td>3w9HSuLDejveVS9G8Qj8i0</td>\n",
       "      <td>Beer (Prod.Way Ched)</td>\n",
       "      <td>0LyfQWJT6nXafLPZqxe9Of</td>\n",
       "      <td>Various Artists</td>\n",
       "      <td>https://i.scdn.co/image/ab67616d0000b27388875b...</td>\n",
       "    </tr>\n",
       "    <tr>\n",
       "      <th>1</th>\n",
       "      <td>2SMq0lOqCTHayWa9juoI0d</td>\n",
       "      <td>We Are</td>\n",
       "      <td>5a8EJtOEbUJDF4RX3mKK02</td>\n",
       "      <td>Woo</td>\n",
       "      <td>https://i.scdn.co/image/ab67616d0000b27380af1b...</td>\n",
       "    </tr>\n",
       "    <tr>\n",
       "      <th>2</th>\n",
       "      <td>5quFr5s5PXYfUX5jV2EBZ1</td>\n",
       "      <td>GANADARA (Feat. IU)</td>\n",
       "      <td>4XDi67ZENZcbfKnvMnTYsI</td>\n",
       "      <td>Jay Park</td>\n",
       "      <td>https://i.scdn.co/image/ab67616d0000b2738c0def...</td>\n",
       "    </tr>\n",
       "    <tr>\n",
       "      <th>3</th>\n",
       "      <td>6guxIn9kHpncfdkrXn2CIQ</td>\n",
       "      <td>Blue Room</td>\n",
       "      <td>3rxeQlsv0Sc2nyYaZ5W71T</td>\n",
       "      <td>Chet Baker</td>\n",
       "      <td>https://i.scdn.co/image/ab67616d0000b2734ca893...</td>\n",
       "    </tr>\n",
       "  </tbody>\n",
       "</table>\n",
       "</div>"
      ],
      "text/plain": [
       "                  trackId             trackName               artistIds  \\\n",
       "0  3w9HSuLDejveVS9G8Qj8i0  Beer (Prod.Way Ched)  0LyfQWJT6nXafLPZqxe9Of   \n",
       "1  2SMq0lOqCTHayWa9juoI0d                We Are  5a8EJtOEbUJDF4RX3mKK02   \n",
       "2  5quFr5s5PXYfUX5jV2EBZ1   GANADARA (Feat. IU)  4XDi67ZENZcbfKnvMnTYsI   \n",
       "3  6guxIn9kHpncfdkrXn2CIQ             Blue Room  3rxeQlsv0Sc2nyYaZ5W71T   \n",
       "\n",
       "       artistNames                                              image  \n",
       "0  Various Artists  https://i.scdn.co/image/ab67616d0000b27388875b...  \n",
       "1              Woo  https://i.scdn.co/image/ab67616d0000b27380af1b...  \n",
       "2         Jay Park  https://i.scdn.co/image/ab67616d0000b2738c0def...  \n",
       "3       Chet Baker  https://i.scdn.co/image/ab67616d0000b2734ca893...  "
      ]
     },
     "execution_count": 3,
     "metadata": {},
     "output_type": "execute_result"
    }
   ],
   "source": [
    "sp.sel_tracks.head()"
   ]
  },
  {
   "cell_type": "code",
   "execution_count": 39,
   "id": "f60123c9",
   "metadata": {},
   "outputs": [
    {
     "data": {
      "text/html": [
       "<div>\n",
       "<style scoped>\n",
       "    .dataframe tbody tr th:only-of-type {\n",
       "        vertical-align: middle;\n",
       "    }\n",
       "\n",
       "    .dataframe tbody tr th {\n",
       "        vertical-align: top;\n",
       "    }\n",
       "\n",
       "    .dataframe thead th {\n",
       "        text-align: right;\n",
       "    }\n",
       "</style>\n",
       "<table border=\"1\" class=\"dataframe\">\n",
       "  <thead>\n",
       "    <tr style=\"text-align: right;\">\n",
       "      <th></th>\n",
       "      <th>artistIds</th>\n",
       "      <th>genres</th>\n",
       "    </tr>\n",
       "  </thead>\n",
       "  <tbody>\n",
       "    <tr>\n",
       "      <th>0</th>\n",
       "      <td>0LyfQWJT6nXafLPZqxe9Of</td>\n",
       "      <td>jazz</td>\n",
       "    </tr>\n",
       "    <tr>\n",
       "      <th>1</th>\n",
       "      <td>5a8EJtOEbUJDF4RX3mKK02</td>\n",
       "      <td>k-pop,hip-hop</td>\n",
       "    </tr>\n",
       "    <tr>\n",
       "      <th>2</th>\n",
       "      <td>4XDi67ZENZcbfKnvMnTYsI</td>\n",
       "      <td>k-pop,pop,hip-hop</td>\n",
       "    </tr>\n",
       "    <tr>\n",
       "      <th>3</th>\n",
       "      <td>3rxeQlsv0Sc2nyYaZ5W71T</td>\n",
       "      <td>jazz</td>\n",
       "    </tr>\n",
       "  </tbody>\n",
       "</table>\n",
       "</div>"
      ],
      "text/plain": [
       "                artistIds             genres\n",
       "0  0LyfQWJT6nXafLPZqxe9Of               jazz\n",
       "1  5a8EJtOEbUJDF4RX3mKK02      k-pop,hip-hop\n",
       "2  4XDi67ZENZcbfKnvMnTYsI  k-pop,pop,hip-hop\n",
       "3  3rxeQlsv0Sc2nyYaZ5W71T               jazz"
      ]
     },
     "execution_count": 39,
     "metadata": {},
     "output_type": "execute_result"
    }
   ],
   "source": [
    "sp.genres"
   ]
  },
  {
   "cell_type": "code",
   "execution_count": 4,
   "id": "2eecbe61",
   "metadata": {},
   "outputs": [
    {
     "data": {
      "text/html": [
       "<div>\n",
       "<style scoped>\n",
       "    .dataframe tbody tr th:only-of-type {\n",
       "        vertical-align: middle;\n",
       "    }\n",
       "\n",
       "    .dataframe tbody tr th {\n",
       "        vertical-align: top;\n",
       "    }\n",
       "\n",
       "    .dataframe thead th {\n",
       "        text-align: right;\n",
       "    }\n",
       "</style>\n",
       "<table border=\"1\" class=\"dataframe\">\n",
       "  <thead>\n",
       "    <tr style=\"text-align: right;\">\n",
       "      <th></th>\n",
       "      <th>trackId</th>\n",
       "      <th>trackName</th>\n",
       "      <th>artistIds</th>\n",
       "      <th>artistName</th>\n",
       "      <th>image</th>\n",
       "      <th>seedId</th>\n",
       "    </tr>\n",
       "  </thead>\n",
       "  <tbody>\n",
       "    <tr>\n",
       "      <th>0</th>\n",
       "      <td>50c0knPGjaJAuE4hRg28Qq</td>\n",
       "      <td>Quando Você Olha Pra Ela</td>\n",
       "      <td>1b8kpp4DUwt1hWaxTiWQhD</td>\n",
       "      <td>Gal Costa</td>\n",
       "      <td>https://i.scdn.co/image/ab67616d0000b273128778...</td>\n",
       "      <td>3w9HSuLDejveVS9G8Qj8i0</td>\n",
       "    </tr>\n",
       "    <tr>\n",
       "      <th>1</th>\n",
       "      <td>267lVml7gJ9xefwgO6E2Ag</td>\n",
       "      <td>Shhh / Peaceful</td>\n",
       "      <td>0kbYTNQb4Pb1rPbbaF0pT4</td>\n",
       "      <td>Miles Davis</td>\n",
       "      <td>https://i.scdn.co/image/ab67616d0000b2737a4a3c...</td>\n",
       "      <td>3w9HSuLDejveVS9G8Qj8i0</td>\n",
       "    </tr>\n",
       "    <tr>\n",
       "      <th>2</th>\n",
       "      <td>11vaRXRIFXJTRr3BuzNbk5</td>\n",
       "      <td>He's Younger Than You Are - From \"Alfie\" Score</td>\n",
       "      <td>1VEzN9lxvG6KPR3QQGsebR</td>\n",
       "      <td>Sonny Rollins</td>\n",
       "      <td>https://i.scdn.co/image/ab67616d0000b273f7efcb...</td>\n",
       "      <td>3w9HSuLDejveVS9G8Qj8i0</td>\n",
       "    </tr>\n",
       "    <tr>\n",
       "      <th>3</th>\n",
       "      <td>4dKYLUMalJeUiXyhHPZbpw</td>\n",
       "      <td>Stranger on the Shore</td>\n",
       "      <td>1ji3dMtmN0ZHKrGTzLbfbO</td>\n",
       "      <td>Acker Bilk &amp; His Paramount Jazz Band</td>\n",
       "      <td>https://i.scdn.co/image/ab67616d0000b2731f332d...</td>\n",
       "      <td>3w9HSuLDejveVS9G8Qj8i0</td>\n",
       "    </tr>\n",
       "    <tr>\n",
       "      <th>4</th>\n",
       "      <td>2iGE15tDX1YR1uegNyxaB3</td>\n",
       "      <td>wish</td>\n",
       "      <td>3hvinNZRzTLoREmqFiKr1b</td>\n",
       "      <td>CHANGMO</td>\n",
       "      <td>https://i.scdn.co/image/ab67616d0000b273e0891e...</td>\n",
       "      <td>3w9HSuLDejveVS9G8Qj8i0</td>\n",
       "    </tr>\n",
       "  </tbody>\n",
       "</table>\n",
       "</div>"
      ],
      "text/plain": [
       "                  trackId                                       trackName  \\\n",
       "0  50c0knPGjaJAuE4hRg28Qq                        Quando Você Olha Pra Ela   \n",
       "1  267lVml7gJ9xefwgO6E2Ag                                 Shhh / Peaceful   \n",
       "2  11vaRXRIFXJTRr3BuzNbk5  He's Younger Than You Are - From \"Alfie\" Score   \n",
       "3  4dKYLUMalJeUiXyhHPZbpw                           Stranger on the Shore   \n",
       "4  2iGE15tDX1YR1uegNyxaB3                                            wish   \n",
       "\n",
       "                artistIds                            artistName  \\\n",
       "0  1b8kpp4DUwt1hWaxTiWQhD                             Gal Costa   \n",
       "1  0kbYTNQb4Pb1rPbbaF0pT4                           Miles Davis   \n",
       "2  1VEzN9lxvG6KPR3QQGsebR                         Sonny Rollins   \n",
       "3  1ji3dMtmN0ZHKrGTzLbfbO  Acker Bilk & His Paramount Jazz Band   \n",
       "4  3hvinNZRzTLoREmqFiKr1b                               CHANGMO   \n",
       "\n",
       "                                               image                  seedId  \n",
       "0  https://i.scdn.co/image/ab67616d0000b273128778...  3w9HSuLDejveVS9G8Qj8i0  \n",
       "1  https://i.scdn.co/image/ab67616d0000b2737a4a3c...  3w9HSuLDejveVS9G8Qj8i0  \n",
       "2  https://i.scdn.co/image/ab67616d0000b273f7efcb...  3w9HSuLDejveVS9G8Qj8i0  \n",
       "3  https://i.scdn.co/image/ab67616d0000b2731f332d...  3w9HSuLDejveVS9G8Qj8i0  \n",
       "4  https://i.scdn.co/image/ab67616d0000b273e0891e...  3w9HSuLDejveVS9G8Qj8i0  "
      ]
     },
     "execution_count": 4,
     "metadata": {},
     "output_type": "execute_result"
    }
   ],
   "source": [
    "reco_sp.sel_tracks.head()"
   ]
  },
  {
   "cell_type": "code",
   "execution_count": 24,
   "id": "3dd21a71",
   "metadata": {},
   "outputs": [],
   "source": [
    "from sklearn.metrics import euclidean_distances as euc\n",
    "\n",
    "my_features = sp.features.iloc[:, 1:].to_numpy()\n",
    "reco_features = reco_sp.features.iloc[:,1:].to_numpy()\n",
    "\n",
    "all_features = np.append(my_features, reco_features, axis=0)\n",
    "_min = all_features.min(axis=0)\n",
    "_max = all_features.max(axis=0)\n",
    "\n",
    "_my_features = (my_features - _min) / (_max - _min)\n",
    "_reco_features = (reco_features - _min) / (_max - _min)"
   ]
  },
  {
   "cell_type": "code",
   "execution_count": 38,
   "id": "19a3cbe1",
   "metadata": {},
   "outputs": [
    {
     "data": {
      "image/png": "[encoded data removed]",
      "text/plain": [
       "<Figure size 1152x576 with 1 Axes>"
      ]
     },
     "metadata": {
      "needs_background": "light"
     },
     "output_type": "display_data"
    }
   ],
   "source": [
    "fig = plt.figure(figsize=(16,8))\n",
    "ax = fig.add_subplot(111)\n",
    "\n",
    "plt.plot(sp.features.columns[1:],_my_features[2], color='g')\n",
    "\n",
    "# plt.savefig(\"./visual_images/audio-features-ex.png\", transparent=True)\n",
    "plt.show()"
   ]
  },
  {
   "cell_type": "code",
   "execution_count": 7,
   "id": "6c857111",
   "metadata": {},
   "outputs": [
    {
     "data": {
      "image/png": "[encoded data removed]",
      "text/plain": [
       "<Figure size 1152x576 with 1 Axes>"
      ]
     },
     "metadata": {
      "needs_background": "light"
     },
     "output_type": "display_data"
    }
   ],
   "source": [
    "fig = plt.figure(figsize=(16,8))\n",
    "ax = fig.add_subplot(111)\n",
    "\n",
    "plt.plot(sp.features.columns[1:],_my_features[1], color='g')\n",
    "\n",
    "# plt.savefig(\"./visual_images/audio-features-ex.png\", transparent=True)\n",
    "plt.show()"
   ]
  },
  {
   "cell_type": "code",
   "execution_count": 25,
   "id": "f3f0ae50",
   "metadata": {},
   "outputs": [
    {
     "data": {
      "image/png": "[encoded data removed]",
      "text/plain": [
       "<Figure size 1152x864 with 1 Axes>"
      ]
     },
     "metadata": {
      "needs_background": "dark"
     },
     "output_type": "display_data"
    }
   ],
   "source": [
    "fig = plt.figure(figsize=(16,12))\n",
    "ax = fig.add_subplot(111)\n",
    "\n",
    "ax.spines['bottom'].set_color('white')\n",
    "ax.spines['top'].set_color('white')\n",
    "ax.spines['right'].set_color('white')\n",
    "ax.spines['left'].set_color('white')\n",
    "\n",
    "ax.xaxis.label.set_color('white')\n",
    "ax.tick_params(axis='x', colors='white')\n",
    "ax.yaxis.label.set_color('white')\n",
    "ax.tick_params(axis='y', colors='white')\n",
    "\n",
    "plt.barh(sp.features.columns[1:],_my_features[0], color='white')\n",
    "\n",
    "plt.savefig(\"./visual_images/audio-features-ex.png\", transparent=True)"
   ]
  },
  {
   "cell_type": "code",
   "execution_count": 26,
   "id": "f4e8078d",
   "metadata": {},
   "outputs": [
    {
     "data": {
      "image/png": "[encoded data removed]",
      "text/plain": [
       "<Figure size 1152x864 with 1 Axes>"
      ]
     },
     "metadata": {
      "needs_background": "dark"
     },
     "output_type": "display_data"
    }
   ],
   "source": [
    "fig = plt.figure(figsize=(16,12))\n",
    "ax = fig.add_subplot(111)\n",
    "\n",
    "ax.spines['bottom'].set_color('white')\n",
    "ax.spines['top'].set_color('white')\n",
    "ax.spines['right'].set_color('white')\n",
    "ax.spines['left'].set_color('white')\n",
    "\n",
    "ax.xaxis.label.set_color('white')\n",
    "ax.tick_params(axis='x', colors='white')\n",
    "ax.yaxis.label.set_color('white')\n",
    "ax.tick_params(axis='y', colors='white')\n",
    "\n",
    "plt.plot(sp.features.columns[1:],reco_features.T, color='white', linewidth=0.1)\n",
    "plt.plot(sp.features.columns[1:],my_features.T, color='white', linewidth=2)\n",
    "\n",
    "plt.savefig(\"./visual_images/min-max-norm-ex.png\", transparent=True)"
   ]
  },
  {
   "cell_type": "code",
   "execution_count": 27,
   "id": "a7f34b78",
   "metadata": {},
   "outputs": [
    {
     "data": {
      "image/png": "[encoded data removed]",
      "text/plain": [
       "<Figure size 1152x864 with 1 Axes>"
      ]
     },
     "metadata": {
      "needs_background": "dark"
     },
     "output_type": "display_data"
    }
   ],
   "source": [
    "fig = plt.figure(figsize=(16,12))\n",
    "ax = fig.add_subplot(111)\n",
    "\n",
    "ax.spines['bottom'].set_color('white')\n",
    "ax.spines['top'].set_color('white')\n",
    "ax.spines['right'].set_color('white')\n",
    "ax.spines['left'].set_color('white')\n",
    "\n",
    "ax.xaxis.label.set_color('white')\n",
    "ax.tick_params(axis='x', colors='white')\n",
    "ax.yaxis.label.set_color('white')\n",
    "ax.tick_params(axis='y', colors='white')\n",
    "\n",
    "plt.plot(sp.features.columns[1:],_reco_features.T, color='white', linewidth=0.1)\n",
    "plt.plot(sp.features.columns[1:],_my_features.T, color='white', linewidth=2)\n",
    "\n",
    "plt.savefig(\"./visual_images/euc-ex.png\", transparent=True)"
   ]
  },
  {
   "cell_type": "code",
   "execution_count": 40,
   "id": "834ef514",
   "metadata": {},
   "outputs": [
    {
     "data": {
      "text/plain": [
       "array([2, 0, 1, 3])"
      ]
     },
     "execution_count": 40,
     "metadata": {},
     "output_type": "execute_result"
    }
   ],
   "source": [
    "chk = euc(_my_features, _my_features)\n",
    "chk_idxes = chk[chk != 0].reshape(-1,len(my_features) - 1).mean(axis=1).argsort()\n",
    "chk_idxes"
   ]
  },
  {
   "cell_type": "code",
   "execution_count": 42,
   "id": "10573ae4",
   "metadata": {},
   "outputs": [
    {
     "data": {
      "text/plain": [
       "array([0.73211663, 0.82205822, 0.69150267, 1.22251392])"
      ]
     },
     "execution_count": 42,
     "metadata": {},
     "output_type": "execute_result"
    }
   ],
   "source": [
    "chk.mean(axis=0)"
   ]
  },
  {
   "cell_type": "code",
   "execution_count": 29,
   "id": "71eca502",
   "metadata": {},
   "outputs": [
    {
     "data": {
      "image/png": "[encoded data removed]",
      "text/plain": [
       "<Figure size 1152x864 with 1 Axes>"
      ]
     },
     "metadata": {
      "needs_background": "dark"
     },
     "output_type": "display_data"
    }
   ],
   "source": [
    "fig = plt.figure(figsize=(16,12))\n",
    "ax = fig.add_subplot(111)\n",
    "\n",
    "ax.spines['bottom'].set_color('white')\n",
    "ax.spines['top'].set_color('white')\n",
    "ax.spines['right'].set_color('white')\n",
    "ax.spines['left'].set_color('white')\n",
    "\n",
    "ax.xaxis.label.set_color('white')\n",
    "ax.tick_params(axis='x', colors='white')\n",
    "ax.yaxis.label.set_color('white')\n",
    "ax.tick_params(axis='y', colors='white')\n",
    "\n",
    "plt.plot(sp.features.columns[1:],_reco_features.T, c='white', linewidth=0.05)\n",
    "plt.plot(sp.features.columns[1:],_my_features.T, c='white', linewidth=1)\n",
    "\n",
    "plt.savefig(\"./visual_images/before-filtering.png\", transparent=True)"
   ]
  },
  {
   "cell_type": "code",
   "execution_count": 30,
   "id": "7b23efea",
   "metadata": {},
   "outputs": [
    {
     "data": {
      "text/html": [
       "<div>\n",
       "<style scoped>\n",
       "    .dataframe tbody tr th:only-of-type {\n",
       "        vertical-align: middle;\n",
       "    }\n",
       "\n",
       "    .dataframe tbody tr th {\n",
       "        vertical-align: top;\n",
       "    }\n",
       "\n",
       "    .dataframe thead th {\n",
       "        text-align: right;\n",
       "    }\n",
       "</style>\n",
       "<table border=\"1\" class=\"dataframe\">\n",
       "  <thead>\n",
       "    <tr style=\"text-align: right;\">\n",
       "      <th></th>\n",
       "      <th>trackId</th>\n",
       "      <th>trackName</th>\n",
       "      <th>artistIds</th>\n",
       "      <th>artistName</th>\n",
       "      <th>image</th>\n",
       "      <th>seedId</th>\n",
       "      <th>similarity</th>\n",
       "    </tr>\n",
       "  </thead>\n",
       "  <tbody>\n",
       "    <tr>\n",
       "      <th>0</th>\n",
       "      <td>50c0knPGjaJAuE4hRg28Qq</td>\n",
       "      <td>Quando Você Olha Pra Ela</td>\n",
       "      <td>1b8kpp4DUwt1hWaxTiWQhD</td>\n",
       "      <td>Gal Costa</td>\n",
       "      <td>https://i.scdn.co/image/ab67616d0000b273128778...</td>\n",
       "      <td>3w9HSuLDejveVS9G8Qj8i0</td>\n",
       "      <td>1.181731</td>\n",
       "    </tr>\n",
       "    <tr>\n",
       "      <th>1</th>\n",
       "      <td>267lVml7gJ9xefwgO6E2Ag</td>\n",
       "      <td>Shhh / Peaceful</td>\n",
       "      <td>0kbYTNQb4Pb1rPbbaF0pT4</td>\n",
       "      <td>Miles Davis</td>\n",
       "      <td>https://i.scdn.co/image/ab67616d0000b2737a4a3c...</td>\n",
       "      <td>3w9HSuLDejveVS9G8Qj8i0</td>\n",
       "      <td>1.127070</td>\n",
       "    </tr>\n",
       "    <tr>\n",
       "      <th>2</th>\n",
       "      <td>11vaRXRIFXJTRr3BuzNbk5</td>\n",
       "      <td>He's Younger Than You Are - From \"Alfie\" Score</td>\n",
       "      <td>1VEzN9lxvG6KPR3QQGsebR</td>\n",
       "      <td>Sonny Rollins</td>\n",
       "      <td>https://i.scdn.co/image/ab67616d0000b273f7efcb...</td>\n",
       "      <td>3w9HSuLDejveVS9G8Qj8i0</td>\n",
       "      <td>1.299918</td>\n",
       "    </tr>\n",
       "    <tr>\n",
       "      <th>3</th>\n",
       "      <td>4dKYLUMalJeUiXyhHPZbpw</td>\n",
       "      <td>Stranger on the Shore</td>\n",
       "      <td>1ji3dMtmN0ZHKrGTzLbfbO</td>\n",
       "      <td>Acker Bilk &amp; His Paramount Jazz Band</td>\n",
       "      <td>https://i.scdn.co/image/ab67616d0000b2731f332d...</td>\n",
       "      <td>3w9HSuLDejveVS9G8Qj8i0</td>\n",
       "      <td>1.370490</td>\n",
       "    </tr>\n",
       "    <tr>\n",
       "      <th>4</th>\n",
       "      <td>2iGE15tDX1YR1uegNyxaB3</td>\n",
       "      <td>wish</td>\n",
       "      <td>3hvinNZRzTLoREmqFiKr1b</td>\n",
       "      <td>CHANGMO</td>\n",
       "      <td>https://i.scdn.co/image/ab67616d0000b273e0891e...</td>\n",
       "      <td>3w9HSuLDejveVS9G8Qj8i0</td>\n",
       "      <td>0.886472</td>\n",
       "    </tr>\n",
       "  </tbody>\n",
       "</table>\n",
       "</div>"
      ],
      "text/plain": [
       "                  trackId                                       trackName  \\\n",
       "0  50c0knPGjaJAuE4hRg28Qq                        Quando Você Olha Pra Ela   \n",
       "1  267lVml7gJ9xefwgO6E2Ag                                 Shhh / Peaceful   \n",
       "2  11vaRXRIFXJTRr3BuzNbk5  He's Younger Than You Are - From \"Alfie\" Score   \n",
       "3  4dKYLUMalJeUiXyhHPZbpw                           Stranger on the Shore   \n",
       "4  2iGE15tDX1YR1uegNyxaB3                                            wish   \n",
       "\n",
       "                artistIds                            artistName  \\\n",
       "0  1b8kpp4DUwt1hWaxTiWQhD                             Gal Costa   \n",
       "1  0kbYTNQb4Pb1rPbbaF0pT4                           Miles Davis   \n",
       "2  1VEzN9lxvG6KPR3QQGsebR                         Sonny Rollins   \n",
       "3  1ji3dMtmN0ZHKrGTzLbfbO  Acker Bilk & His Paramount Jazz Band   \n",
       "4  3hvinNZRzTLoREmqFiKr1b                               CHANGMO   \n",
       "\n",
       "                                               image                  seedId  \\\n",
       "0  https://i.scdn.co/image/ab67616d0000b273128778...  3w9HSuLDejveVS9G8Qj8i0   \n",
       "1  https://i.scdn.co/image/ab67616d0000b2737a4a3c...  3w9HSuLDejveVS9G8Qj8i0   \n",
       "2  https://i.scdn.co/image/ab67616d0000b273f7efcb...  3w9HSuLDejveVS9G8Qj8i0   \n",
       "3  https://i.scdn.co/image/ab67616d0000b2731f332d...  3w9HSuLDejveVS9G8Qj8i0   \n",
       "4  https://i.scdn.co/image/ab67616d0000b273e0891e...  3w9HSuLDejveVS9G8Qj8i0   \n",
       "\n",
       "   similarity  \n",
       "0    1.181731  \n",
       "1    1.127070  \n",
       "2    1.299918  \n",
       "3    1.370490  \n",
       "4    0.886472  "
      ]
     },
     "execution_count": 30,
     "metadata": {},
     "output_type": "execute_result"
    }
   ],
   "source": [
    "chk_features = reco_sp.sel_tracks.copy()\n",
    "chk_features.reset_index(inplace=True)\n",
    "chk_features.drop(\"index\", axis=1, inplace=True)\n",
    "chk_features['similarity'] = euc(_reco_features,_my_features).mean(axis=1)\n",
    "\n",
    "chk_features.head()"
   ]
  },
  {
   "cell_type": "code",
   "execution_count": 31,
   "id": "a992100d",
   "metadata": {},
   "outputs": [
    {
     "name": "stdout",
     "output_type": "stream",
     "text": [
      "필터링 전 평균 유사도 1.0891038680616119\n"
     ]
    }
   ],
   "source": [
    "print(\"필터링 전 평균 유사도\",chk_features['similarity'].mean())"
   ]
  },
  {
   "cell_type": "code",
   "execution_count": 32,
   "id": "fdde8e9e",
   "metadata": {},
   "outputs": [
    {
     "data": {
      "text/html": [
       "<div>\n",
       "<style scoped>\n",
       "    .dataframe tbody tr th:only-of-type {\n",
       "        vertical-align: middle;\n",
       "    }\n",
       "\n",
       "    .dataframe tbody tr th {\n",
       "        vertical-align: top;\n",
       "    }\n",
       "\n",
       "    .dataframe thead th {\n",
       "        text-align: right;\n",
       "    }\n",
       "</style>\n",
       "<table border=\"1\" class=\"dataframe\">\n",
       "  <thead>\n",
       "    <tr style=\"text-align: right;\">\n",
       "      <th></th>\n",
       "      <th>trackId</th>\n",
       "      <th>trackName</th>\n",
       "      <th>artistIds</th>\n",
       "      <th>artistName</th>\n",
       "      <th>image</th>\n",
       "      <th>seedId</th>\n",
       "      <th>similarity</th>\n",
       "    </tr>\n",
       "  </thead>\n",
       "  <tbody>\n",
       "    <tr>\n",
       "      <th>117</th>\n",
       "      <td>1hqukerMJf9N1qHo2sijii</td>\n",
       "      <td>To Life</td>\n",
       "      <td>4XDi67ZENZcbfKnvMnTYsI</td>\n",
       "      <td>Jay Park</td>\n",
       "      <td>https://i.scdn.co/image/ab67616d0000b273978aeb...</td>\n",
       "      <td>2SMq0lOqCTHayWa9juoI0d</td>\n",
       "      <td>0.744070</td>\n",
       "    </tr>\n",
       "    <tr>\n",
       "      <th>73</th>\n",
       "      <td>4M9NbNJnOpVCN5jbNln2TJ</td>\n",
       "      <td>SUMMERIDE</td>\n",
       "      <td>4XDi67ZENZcbfKnvMnTYsI</td>\n",
       "      <td>Jay Park</td>\n",
       "      <td>https://i.scdn.co/image/ab67616d0000b2733b6cb6...</td>\n",
       "      <td>3w9HSuLDejveVS9G8Qj8i0</td>\n",
       "      <td>0.767031</td>\n",
       "    </tr>\n",
       "    <tr>\n",
       "      <th>241</th>\n",
       "      <td>2vzn8usBcuNL93DnTjEK0z</td>\n",
       "      <td>LOSER</td>\n",
       "      <td>4Kxlr1PRlDKEB0ekOCyHgX</td>\n",
       "      <td>BIGBANG</td>\n",
       "      <td>https://i.scdn.co/image/ab67616d0000b273fd0d9a...</td>\n",
       "      <td>5quFr5s5PXYfUX5jV2EBZ1</td>\n",
       "      <td>0.789916</td>\n",
       "    </tr>\n",
       "  </tbody>\n",
       "</table>\n",
       "</div>"
      ],
      "text/plain": [
       "                    trackId  trackName               artistIds artistName  \\\n",
       "117  1hqukerMJf9N1qHo2sijii    To Life  4XDi67ZENZcbfKnvMnTYsI   Jay Park   \n",
       "73   4M9NbNJnOpVCN5jbNln2TJ  SUMMERIDE  4XDi67ZENZcbfKnvMnTYsI   Jay Park   \n",
       "241  2vzn8usBcuNL93DnTjEK0z      LOSER  4Kxlr1PRlDKEB0ekOCyHgX    BIGBANG   \n",
       "\n",
       "                                                 image  \\\n",
       "117  https://i.scdn.co/image/ab67616d0000b273978aeb...   \n",
       "73   https://i.scdn.co/image/ab67616d0000b2733b6cb6...   \n",
       "241  https://i.scdn.co/image/ab67616d0000b273fd0d9a...   \n",
       "\n",
       "                     seedId  similarity  \n",
       "117  2SMq0lOqCTHayWa9juoI0d    0.744070  \n",
       "73   3w9HSuLDejveVS9G8Qj8i0    0.767031  \n",
       "241  5quFr5s5PXYfUX5jV2EBZ1    0.789916  "
      ]
     },
     "execution_count": 32,
     "metadata": {},
     "output_type": "execute_result"
    }
   ],
   "source": [
    "chk_features.sort_values(by=['similarity'])[:3]"
   ]
  },
  {
   "cell_type": "code",
   "execution_count": 33,
   "id": "48ed9beb",
   "metadata": {},
   "outputs": [
    {
     "data": {
      "image/png": "[encoded data removed]",
      "text/plain": [
       "<Figure size 1152x864 with 1 Axes>"
      ]
     },
     "metadata": {
      "needs_background": "dark"
     },
     "output_type": "display_data"
    }
   ],
   "source": [
    "fig = plt.figure(figsize=(16,12))\n",
    "ax = fig.add_subplot(111)\n",
    "\n",
    "ax.spines['bottom'].set_color('white')\n",
    "ax.spines['top'].set_color('white')\n",
    "ax.spines['right'].set_color('white')\n",
    "ax.spines['left'].set_color('white')\n",
    "\n",
    "ax.xaxis.label.set_color('white')\n",
    "ax.tick_params(axis='x', colors='white')\n",
    "ax.yaxis.label.set_color('white')\n",
    "ax.tick_params(axis='y', colors='white')\n",
    "\n",
    "plt.plot(sp.features.columns[1:],\n",
    "         _reco_features[chk_features.sort_values(by=['similarity'])[:100].index].T, c='white', linewidth=0.1)\n",
    "plt.plot(sp.features.columns[1:],\n",
    "         _my_features[chk_idxes[:]].T, c='white', linewidth=1)\n",
    "\n",
    "plt.savefig(\"./visual_images/after-filtering.png\", transparent=True)"
   ]
  },
  {
   "cell_type": "code",
   "execution_count": 34,
   "id": "143e3db8",
   "metadata": {},
   "outputs": [
    {
     "name": "stdout",
     "output_type": "stream",
     "text": [
      "필터링 후 평균 유사도 0.8716046003973136\n"
     ]
    }
   ],
   "source": [
    "print(\"필터링 후 평균 유사도\",chk_features.sort_values(by=['similarity'])[:100]['similarity'].mean())"
   ]
  },
  {
   "cell_type": "code",
   "execution_count": 35,
   "id": "f913a933",
   "metadata": {},
   "outputs": [
    {
     "data": {
      "text/plain": [
       "5quFr5s5PXYfUX5jV2EBZ1    44\n",
       "2SMq0lOqCTHayWa9juoI0d    33\n",
       "3w9HSuLDejveVS9G8Qj8i0    20\n",
       "6guxIn9kHpncfdkrXn2CIQ     3\n",
       "Name: seedId, dtype: int64"
      ]
     },
     "execution_count": 35,
     "metadata": {},
     "output_type": "execute_result"
    }
   ],
   "source": [
    "chk_features.sort_values(by='similarity')[:100]['seedId'].value_counts()"
   ]
  },
  {
   "cell_type": "code",
   "execution_count": null,
   "id": "4d82b110",
   "metadata": {},
   "outputs": [],
   "source": []
  }
 ],
 "metadata": {
  "kernelspec": {
   "display_name": "Python 3 (ipykernel)",
   "language": "python",
   "name": "python3"
  },
  "language_info": {
   "codemirror_mode": {
    "name": "ipython",
    "version": 3
   },
   "file_extension": ".py",
   "mimetype": "text/x-python",
   "name": "python",
   "nbconvert_exporter": "python",
   "pygments_lexer": "ipython3",
   "version": "3.8.12"
  }
 },
 "nbformat": 4,
 "nbformat_minor": 5
}
