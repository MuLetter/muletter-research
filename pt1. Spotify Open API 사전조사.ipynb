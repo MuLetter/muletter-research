{
 "cells": [
  {
   "cell_type": "markdown",
   "id": "4b0e5141",
   "metadata": {},
   "source": [
    "# Token\n",
    "- url : https://accounts.spotify.com/api/token\n",
    "- headers :\n",
    "    - Authorization : base64로 인코딩된 client_id:client_secret 형식의 문자열\n",
    "- body :\n",
    "    - grant_type : clident_credentials"
   ]
  },
  {
   "cell_type": "code",
   "execution_count": 15,
   "id": "29b1b1c1",
   "metadata": {},
   "outputs": [
    {
     "data": {
      "text/plain": [
       "{'access_token': 'BQC_Ns4kwuDyIyCvUJLdc-uoqqX65gOtfH_ZscFDnaQGbzIlSEp2mLaBJNgfiGLV7K04Y-4SoHpi_AidbnQ',\n",
       " 'token_type': 'Bearer',\n",
       " 'expires_in': 3600}"
      ]
     },
     "execution_count": 15,
     "metadata": {},
     "output_type": "execute_result"
    }
   ],
   "source": [
    "import json\n",
    "import requests as req\n",
    "import base64\n",
    "\n",
    "# Step 1. Setting AuthOption\n",
    "json_file = open(\"auth.json\")\n",
    "auth = json.load(json_file)\n",
    "auth_data = \"{}:{}\".format(\n",
    "    auth['CLIENT_ID'],\n",
    "    auth['CLIENT_SECRET']\n",
    ")\n",
    "authorization = \"Basic \" + \\\n",
    "        base64.b64encode(auth_data.encode('ascii')).decode(\"ascii\")\n",
    "\n",
    "# Step 2. Setting Request Datas\n",
    "token_url = \"https://accounts.spotify.com/api/token\"\n",
    "headers = {\n",
    "    \"Authorization\": authorization\n",
    "}\n",
    "data = {\n",
    "    \"grant_type\": \"client_credentials\"\n",
    "}\n",
    "\n",
    "# Step 3. Request\n",
    "res = req.post(token_url, data=data, headers=headers)\n",
    "token = res.json()['access_token']\n",
    "\n",
    "res.json()"
   ]
  },
  {
   "cell_type": "markdown",
   "id": "85356cf6",
   "metadata": {},
   "source": [
    "# Search"
   ]
  },
  {
   "cell_type": "code",
   "execution_count": 17,
   "id": "c289a9a1",
   "metadata": {},
   "outputs": [],
   "source": [
    "import requests as req\n",
    "from functools import reduce\n",
    "from urllib.parse import urlencode\n",
    "from IPython.display import clear_output\n",
    "import pandas as pd\n",
    "\n",
    "# Step 1. Setting Request Datas\n",
    "search_url = \"https://api.spotify.com/v1/search\"\n",
    "query = urlencode({\n",
    "    \"q\": \"10cm 서랍\",\n",
    "    \"type\": \"track\",\n",
    "    \"market\": \"KR\"\n",
    "})\n",
    "headers = {\n",
    "    \"Authorization\": \"Bearer {}\".format(token)\n",
    "}\n",
    "\n",
    "res = req.get(\"{}?{}\".format(search_url, query), headers=headers)"
   ]
  },
  {
   "cell_type": "markdown",
   "id": "cc586b75",
   "metadata": {},
   "source": [
    "### Search Program"
   ]
  },
  {
   "cell_type": "code",
   "execution_count": null,
   "id": "4a46298b",
   "metadata": {},
   "outputs": [],
   "source": [
    "sel_tracks = pd.DataFrame(\n",
    "        columns=['trackId', 'trackName', 'artistIds', 'artistNames', \"image\"])\n"
   ]
  }
 ],
 "metadata": {
  "kernelspec": {
   "display_name": "Python 3",
   "language": "python",
   "name": "python3"
  },
  "language_info": {
   "codemirror_mode": {
    "name": "ipython",
    "version": 3
   },
   "file_extension": ".py",
   "mimetype": "text/x-python",
   "name": "python",
   "nbconvert_exporter": "python",
   "pygments_lexer": "ipython3",
   "version": "3.9.4"
  }
 },
 "nbformat": 4,
 "nbformat_minor": 5
}
