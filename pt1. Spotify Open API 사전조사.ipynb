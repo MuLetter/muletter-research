{
 "cells": [
  {
   "cell_type": "code",
   "execution_count": 1,
   "id": "78567d6a",
   "metadata": {},
   "outputs": [],
   "source": [
    "%load_ext autoreload\n",
    "%autoreload 2\n",
    "%reload_ext autoreload"
   ]
  },
  {
   "cell_type": "markdown",
   "id": "e545e76d",
   "metadata": {},
   "source": [
    "# Token"
   ]
  },
  {
   "cell_type": "code",
   "execution_count": 2,
   "id": "df377d66",
   "metadata": {},
   "outputs": [
    {
     "data": {
      "text/plain": [
       "{'access_token': 'BQAwCO3Dxm1KZJnjcQ06yERUSqctY3GY1X2j7MlAD38-iypbMSz3Jjt7hz3OhK1KGJAcWLkZ-GFHiKMDOYU',\n",
       " 'token_type': 'Bearer',\n",
       " 'expires_in': 3600}"
      ]
     },
     "execution_count": 2,
     "metadata": {},
     "output_type": "execute_result"
    }
   ],
   "source": [
    "import json\n",
    "import requests as req\n",
    "import base64\n",
    "\n",
    "# Step 1. Setting AuthOption\n",
    "json_file = open(\"auth.json\")\n",
    "auth = json.load(json_file)\n",
    "auth_data = \"{}:{}\".format(\n",
    "    auth['CLIENT_ID'],\n",
    "    auth['CLIENT_SECRET']\n",
    ")\n",
    "authorization = \"Basic \" + \\\n",
    "        base64.b64encode(auth_data.encode('ascii')).decode(\"ascii\")\n",
    "\n",
    "# Step 2. Setting Request Datas\n",
    "token_url = \"https://accounts.spotify.com/api/token\"\n",
    "headers = {\n",
    "    \"Authorization\": authorization\n",
    "}\n",
    "data = {\n",
    "    \"grant_type\": \"client_credentials\"\n",
    "}\n",
    "\n",
    "# Step 3. Request\n",
    "res = req.post(token_url, data=data, headers=headers)\n",
    "token = res.json()['access_token']\n",
    "\n",
    "res.json()"
   ]
  },
  {
   "cell_type": "markdown",
   "id": "a6323473",
   "metadata": {},
   "source": [
    "# Search"
   ]
  },
  {
   "cell_type": "code",
   "execution_count": 3,
   "id": "3193b504",
   "metadata": {},
   "outputs": [],
   "source": [
    "import requests as req\n",
    "from functools import reduce\n",
    "from urllib.parse import urlencode\n",
    "from IPython.display import clear_output\n",
    "import pandas as pd\n",
    "\n",
    "# Step 1. Setting Request Datas\n",
    "search_url = \"https://api.spotify.com/v1/search\"\n",
    "query = urlencode({\n",
    "    \"q\": \"10cm 서랍\",\n",
    "    \"type\": \"track\",\n",
    "    \"market\": \"KR\"\n",
    "})\n",
    "headers = {\n",
    "    \"Authorization\": \"Bearer {}\".format(token)\n",
    "}\n",
    "\n",
    "res = req.get(\"{}?{}\".format(search_url, query), headers=headers)"
   ]
  },
  {
   "cell_type": "markdown",
   "id": "794a98da",
   "metadata": {},
   "source": [
    "### Search Program"
   ]
  },
  {
   "cell_type": "code",
   "execution_count": 7,
   "id": "820f8ae1",
   "metadata": {},
   "outputs": [
    {
     "name": "stdout",
     "output_type": "stream",
     "text": [
      "계속하시려면 아무거나, 종료는 exit를 입력해주세요.exit\n"
     ]
    },
    {
     "data": {
      "text/html": [
       "<div>\n",
       "<style scoped>\n",
       "    .dataframe tbody tr th:only-of-type {\n",
       "        vertical-align: middle;\n",
       "    }\n",
       "\n",
       "    .dataframe tbody tr th {\n",
       "        vertical-align: top;\n",
       "    }\n",
       "\n",
       "    .dataframe thead th {\n",
       "        text-align: right;\n",
       "    }\n",
       "</style>\n",
       "<table border=\"1\" class=\"dataframe\">\n",
       "  <thead>\n",
       "    <tr style=\"text-align: right;\">\n",
       "      <th></th>\n",
       "      <th>trackId</th>\n",
       "      <th>trackName</th>\n",
       "      <th>artistIds</th>\n",
       "      <th>artistNames</th>\n",
       "      <th>image</th>\n",
       "    </tr>\n",
       "  </thead>\n",
       "  <tbody>\n",
       "    <tr>\n",
       "      <th>0</th>\n",
       "      <td>2FWquqPNxte8iqZ3ATQG0p</td>\n",
       "      <td>All I Wanna Do (K) (Feat. Hoody &amp; Loco)</td>\n",
       "      <td>4XDi67ZENZcbfKnvMnTYsI</td>\n",
       "      <td>Jay Park</td>\n",
       "      <td>https://i.scdn.co/image/ab67616d0000b27382ecc5...</td>\n",
       "    </tr>\n",
       "    <tr>\n",
       "      <th>1</th>\n",
       "      <td>4NKQTbmiBtm1MwqBbQQhpM</td>\n",
       "      <td>DRIVE (Feat. GRAY)</td>\n",
       "      <td>4XDi67ZENZcbfKnvMnTYsI</td>\n",
       "      <td>Jay Park</td>\n",
       "      <td>https://i.scdn.co/image/ab67616d0000b27382ecc5...</td>\n",
       "    </tr>\n",
       "  </tbody>\n",
       "</table>\n",
       "</div>"
      ],
      "text/plain": [
       "                  trackId                                trackName  \\\n",
       "0  2FWquqPNxte8iqZ3ATQG0p  All I Wanna Do (K) (Feat. Hoody & Loco)   \n",
       "1  4NKQTbmiBtm1MwqBbQQhpM                       DRIVE (Feat. GRAY)   \n",
       "\n",
       "                artistIds artistNames  \\\n",
       "0  4XDi67ZENZcbfKnvMnTYsI    Jay Park   \n",
       "1  4XDi67ZENZcbfKnvMnTYsI    Jay Park   \n",
       "\n",
       "                                               image  \n",
       "0  https://i.scdn.co/image/ab67616d0000b27382ecc5...  \n",
       "1  https://i.scdn.co/image/ab67616d0000b27382ecc5...  "
      ]
     },
     "execution_count": 7,
     "metadata": {},
     "output_type": "execute_result"
    }
   ],
   "source": [
    "sel_tracks = pd.DataFrame(\n",
    "        columns=['trackId', 'trackName', 'artistIds', 'artistNames', \"image\"])\n",
    "\n",
    "while True:\n",
    "    q = input(\"검색어를 입력해주세요.\")\n",
    "    offset = 0\n",
    "    limit = 10\n",
    "    \n",
    "    while True:\n",
    "        search_url = \"https://api.spotify.com/v1/search\"\n",
    "        query = urlencode({\n",
    "            \"q\": q,\n",
    "            \"type\": \"track\",\n",
    "            \"market\": \"KR\",\n",
    "            \"limit\": limit,\n",
    "            \"offset\": offset\n",
    "        })\n",
    "        headers = {\n",
    "            \"Authorization\": \"Bearer {}\".format(token)\n",
    "        }\n",
    "        res = req.get(\"{}?{}\".format(search_url, query), headers=headers)\n",
    "        result = res.json()['tracks']\n",
    "        _result = list()\n",
    "        \n",
    "        for item in result['items']:\n",
    "            _id = item[\"id\"]\n",
    "            _name = item[\"name\"]\n",
    "            album = item['album']\n",
    "            images = album[\"images\"]\n",
    "\n",
    "            if len(images) == 0:\n",
    "                _image = \"\"\n",
    "            else:\n",
    "                _image = images[0]['url']\n",
    "\n",
    "            artist_list = album['artists']\n",
    "            artists = reduce(\n",
    "                lambda acc, cur: cur[1]['name'] if cur[0] == 0 else acc +\n",
    "                \",\" + cur[1]['name'],\n",
    "                enumerate(artist_list),\n",
    "                \"\"\n",
    "            )\n",
    "            artists_id = reduce(\n",
    "                lambda acc, cur: cur[1]['id'] if cur[0] == 0 else acc +\n",
    "                \",\" + cur[1]['id'],\n",
    "                enumerate(artist_list),\n",
    "                \"\"\n",
    "            )\n",
    "            _result.append({\n",
    "                \"trackId\": _id,\n",
    "                \"trackName\": _name,\n",
    "                \"artistIds\": artists_id.split(\",\")[0],\n",
    "                \"artistNames\": artists.split(\",\")[0],\n",
    "                \"image\": _image\n",
    "            })\n",
    "        \n",
    "        for idx, _ in enumerate(_result):\n",
    "            print(\"\\t{}.{} - {} ({})\".format(idx + 1, _['artistNames'],\n",
    "                                             _['trackName'], _['trackId']))\n",
    "        _total = (offset + 1)\n",
    "        _total = result['total'] if  _total > result['total'] else _total\n",
    "        print(\"{}/{}\".format(_total, result['total']))\n",
    "        _action = input(\"선택은 번호입력을 해주세요.\" +\n",
    "                            \"\\n종료는 exit, 다음페이지는 next를 입력해주세요.\")\n",
    "        \n",
    "        if _action == \"exit\":\n",
    "            clear_output()\n",
    "            break\n",
    "        elif _action == \"next\":\n",
    "            offset += limit\n",
    "            clear_output()\n",
    "        else:\n",
    "            _action = int(_action) - 1\n",
    "            sel_tracks = sel_tracks.append(\n",
    "                _result[_action], ignore_index=True)\n",
    "            clear_output()\n",
    "            break\n",
    "    \n",
    "    _action = input(\"계속하시려면 아무거나, 종료는 exit를 입력해주세요.\")\n",
    "\n",
    "    if _action == \"exit\":\n",
    "        break\n",
    "    else:\n",
    "        clear_output(wait=True)\n",
    "        \n",
    "sel_tracks.head()"
   ]
  },
  {
   "cell_type": "markdown",
   "id": "6ca5383b",
   "metadata": {},
   "source": [
    "# Artists"
   ]
  },
  {
   "cell_type": "code",
   "execution_count": 8,
   "id": "d7ed767a",
   "metadata": {},
   "outputs": [],
   "source": [
    "import pandas as pd\n",
    "import requests as req\n",
    "from urllib.parse import urlencode\n",
    "import math as mt\n",
    "from functools import reduce\n",
    "\n",
    "# 1. Data Parsing\n",
    "ids = reduce(\n",
    "    lambda acc, cur: acc + cur + \",\",sel_tracks['artistIds'].values, \"\")[:-1]\n",
    "\n",
    "# 2. Data Preprocessing (중복 가수명 제거)\n",
    "ids = list(set(ids.split(\",\")))\n",
    "ids = reduce(\n",
    "    lambda acc, cur: acc + cur + \",\",ids, \"\")[:-1]\n",
    "\n",
    "# 3. Setting Request Datas\n",
    "artists_url = \"https://api.spotify.com/v1/artists\"\n",
    "query = urlencode({\n",
    "    \"ids\": ids\n",
    "})\n",
    "headers = {\n",
    "    \"Authorization\": \"Bearer {}\".format(token)\n",
    "}\n",
    "res = req.get(\"{}?{}\".format(artists_url, query), headers=headers)"
   ]
  },
  {
   "cell_type": "markdown",
   "id": "6715e630",
   "metadata": {},
   "source": [
    "## 아이고 나 바빠 ㅠㅠㅠ"
   ]
  },
  {
   "cell_type": "code",
   "execution_count": 12,
   "id": "bc35d21b",
   "metadata": {},
   "outputs": [
    {
     "data": {
      "text/html": [
       "<div>\n",
       "<style scoped>\n",
       "    .dataframe tbody tr th:only-of-type {\n",
       "        vertical-align: middle;\n",
       "    }\n",
       "\n",
       "    .dataframe tbody tr th {\n",
       "        vertical-align: top;\n",
       "    }\n",
       "\n",
       "    .dataframe thead th {\n",
       "        text-align: right;\n",
       "    }\n",
       "</style>\n",
       "<table border=\"1\" class=\"dataframe\">\n",
       "  <thead>\n",
       "    <tr style=\"text-align: right;\">\n",
       "      <th></th>\n",
       "      <th>artistId</th>\n",
       "      <th>genres</th>\n",
       "    </tr>\n",
       "  </thead>\n",
       "  <tbody>\n",
       "    <tr>\n",
       "      <th>0</th>\n",
       "      <td>4XDi67ZENZcbfKnvMnTYsI</td>\n",
       "      <td>k-pop,pop,hip-hop</td>\n",
       "    </tr>\n",
       "  </tbody>\n",
       "</table>\n",
       "</div>"
      ],
      "text/plain": [
       "                 artistId             genres\n",
       "0  4XDi67ZENZcbfKnvMnTYsI  k-pop,pop,hip-hop"
      ]
     },
     "execution_count": 12,
     "metadata": {},
     "output_type": "execute_result"
    }
   ],
   "source": [
    "from src.Spotify.get_genres import get_genres\n",
    "\n",
    "get_genres(token, sel_tracks)"
   ]
  },
  {
   "cell_type": "markdown",
   "id": "6dbf9155",
   "metadata": {},
   "source": [
    "# Audio Features"
   ]
  },
  {
   "cell_type": "code",
   "execution_count": 16,
   "id": "b45e9a4d",
   "metadata": {},
   "outputs": [],
   "source": [
    "import pandas as pd\n",
    "import requests as req\n",
    "from urllib.parse import urlencode\n",
    "import math as mt\n",
    "\n",
    "# 1. Data Parsing\n",
    "ids = reduce(\n",
    "    lambda acc, cur: acc + cur + \",\",sel_tracks['trackId'].values, \"\")[:-1]\n",
    "\n",
    "# 2. Setting Request Datas\n",
    "features_url = \"https://api.spotify.com/v1/audio-features\"\n",
    "query = urlencode({\n",
    "    \"ids\": ids\n",
    "})\n",
    "headers = {\n",
    "    \"authorization\": \"Bearer {}\".format(token)\n",
    "}\n",
    "res = req.get(\"{}?{}\".format(features_url, query), headers=headers)"
   ]
  },
  {
   "cell_type": "markdown",
   "id": "bc1d8a45",
   "metadata": {},
   "source": [
    "## 아이고 나 바빠 ㅠㅠㅠ"
   ]
  },
  {
   "cell_type": "code",
   "execution_count": 17,
   "id": "ca37b47b",
   "metadata": {},
   "outputs": [
    {
     "ename": "TypeError",
     "evalue": "string indices must be integers",
     "output_type": "error",
     "traceback": [
      "\u001b[0;31m---------------------------------------------------------------------------\u001b[0m",
      "\u001b[0;31mTypeError\u001b[0m                                 Traceback (most recent call last)",
      "\u001b[0;32m<ipython-input-17-742a0688b36a>\u001b[0m in \u001b[0;36m<module>\u001b[0;34m\u001b[0m\n\u001b[1;32m      1\u001b[0m \u001b[0;32mfrom\u001b[0m \u001b[0msrc\u001b[0m\u001b[0;34m.\u001b[0m\u001b[0mSpotify\u001b[0m\u001b[0;34m.\u001b[0m\u001b[0mget_features\u001b[0m \u001b[0;32mimport\u001b[0m \u001b[0mget_features\u001b[0m\u001b[0;34m\u001b[0m\u001b[0;34m\u001b[0m\u001b[0m\n\u001b[1;32m      2\u001b[0m \u001b[0;34m\u001b[0m\u001b[0m\n\u001b[0;32m----> 3\u001b[0;31m \u001b[0mget_features\u001b[0m\u001b[0;34m(\u001b[0m\u001b[0mtoken\u001b[0m\u001b[0;34m,\u001b[0m \u001b[0msel_tracks\u001b[0m\u001b[0;34m)\u001b[0m\u001b[0;34m\u001b[0m\u001b[0;34m\u001b[0m\u001b[0m\n\u001b[0m",
      "\u001b[0;32m~/Desktop/idoformegusto/development/MuLetter/muletter-research/src/Spotify/get_features.py\u001b[0m in \u001b[0;36mget_features\u001b[0;34m(token, sel_tracks)\u001b[0m\n\u001b[1;32m      8\u001b[0m     \u001b[0mfeatures_uri\u001b[0m \u001b[0;34m=\u001b[0m \u001b[0;34m\"https://api.spotify.com/v1/audio-features\"\u001b[0m\u001b[0;34m\u001b[0m\u001b[0;34m\u001b[0m\u001b[0m\n\u001b[1;32m      9\u001b[0m     headers = {\n\u001b[0;32m---> 10\u001b[0;31m         \u001b[0;34m\"authorization\"\u001b[0m\u001b[0;34m:\u001b[0m \u001b[0;34m\"Bearer {}\"\u001b[0m\u001b[0;34m.\u001b[0m\u001b[0mformat\u001b[0m\u001b[0;34m(\u001b[0m\u001b[0mtoken\u001b[0m\u001b[0;34m[\u001b[0m\u001b[0;34m'access_token'\u001b[0m\u001b[0;34m]\u001b[0m\u001b[0;34m)\u001b[0m\u001b[0;34m\u001b[0m\u001b[0;34m\u001b[0m\u001b[0m\n\u001b[0m\u001b[1;32m     11\u001b[0m     }\n\u001b[1;32m     12\u001b[0m     \u001b[0mcnt\u001b[0m \u001b[0;34m=\u001b[0m \u001b[0mmt\u001b[0m\u001b[0;34m.\u001b[0m\u001b[0mfloor\u001b[0m\u001b[0;34m(\u001b[0m\u001b[0;34m(\u001b[0m\u001b[0mlen\u001b[0m\u001b[0;34m(\u001b[0m\u001b[0msel_tracks\u001b[0m\u001b[0;34m)\u001b[0m \u001b[0;34m-\u001b[0m \u001b[0;36m1\u001b[0m\u001b[0;34m)\u001b[0m \u001b[0;34m/\u001b[0m \u001b[0;36m100\u001b[0m\u001b[0;34m)\u001b[0m \u001b[0;34m+\u001b[0m \u001b[0;36m1\u001b[0m\u001b[0;34m\u001b[0m\u001b[0;34m\u001b[0m\u001b[0m\n",
      "\u001b[0;31mTypeError\u001b[0m: string indices must be integers"
     ]
    }
   ],
   "source": [
    "from src.Spotify.get_features import get_features\n",
    "\n",
    "get_features(token, sel_tracks)"
   ]
  },
  {
   "cell_type": "code",
   "execution_count": null,
   "id": "0cb582cc",
   "metadata": {},
   "outputs": [],
   "source": []
  }
 ],
 "metadata": {
  "kernelspec": {
   "display_name": "Python 3",
   "language": "python",
   "name": "python3"
  },
  "language_info": {
   "codemirror_mode": {
    "name": "ipython",
    "version": 3
   },
   "file_extension": ".py",
   "mimetype": "text/x-python",
   "name": "python",
   "nbconvert_exporter": "python",
   "pygments_lexer": "ipython3",
   "version": "3.9.4"
  }
 },
 "nbformat": 4,
 "nbformat_minor": 5
}
