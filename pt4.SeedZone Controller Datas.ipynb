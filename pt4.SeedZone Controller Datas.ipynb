{
 "cells": [
  {
   "cell_type": "code",
   "execution_count": 1,
   "id": "9f5c97b9",
   "metadata": {},
   "outputs": [],
   "source": [
    "import json\n",
    "import pandas as pd\n",
    "from pymongo import MongoClient as mc"
   ]
  },
  {
   "cell_type": "code",
   "execution_count": 2,
   "id": "8507ef9e",
   "metadata": {},
   "outputs": [],
   "source": [
    "with open(\"datas/test_dataset.json\", \"r\") as json_file:\n",
    "    json_data = json.load(json_file)"
   ]
  },
  {
   "cell_type": "code",
   "execution_count": 3,
   "id": "34495fbc",
   "metadata": {},
   "outputs": [
    {
     "data": {
      "text/html": [
       "<div>\n",
       "<style scoped>\n",
       "    .dataframe tbody tr th:only-of-type {\n",
       "        vertical-align: middle;\n",
       "    }\n",
       "\n",
       "    .dataframe tbody tr th {\n",
       "        vertical-align: top;\n",
       "    }\n",
       "\n",
       "    .dataframe thead th {\n",
       "        text-align: right;\n",
       "    }\n",
       "</style>\n",
       "<table border=\"1\" class=\"dataframe\">\n",
       "  <thead>\n",
       "    <tr style=\"text-align: right;\">\n",
       "      <th></th>\n",
       "      <th>trackId</th>\n",
       "      <th>danceability</th>\n",
       "      <th>energy</th>\n",
       "      <th>key</th>\n",
       "      <th>loudness</th>\n",
       "      <th>speechiness</th>\n",
       "      <th>acousticness</th>\n",
       "      <th>instrumentalness</th>\n",
       "      <th>liveness</th>\n",
       "      <th>valence</th>\n",
       "      <th>tempo</th>\n",
       "    </tr>\n",
       "  </thead>\n",
       "  <tbody>\n",
       "    <tr>\n",
       "      <th>116</th>\n",
       "      <td>1vuDBx9G8oiinlw2KWlU0X</td>\n",
       "      <td>0.604</td>\n",
       "      <td>0.638</td>\n",
       "      <td>1.0</td>\n",
       "      <td>-6.413</td>\n",
       "      <td>0.2370</td>\n",
       "      <td>0.533</td>\n",
       "      <td>0.000000</td>\n",
       "      <td>0.111</td>\n",
       "      <td>0.104</td>\n",
       "      <td>80.695</td>\n",
       "    </tr>\n",
       "    <tr>\n",
       "      <th>156</th>\n",
       "      <td>2IgbYlOlFpiSFYnsqB39lM</td>\n",
       "      <td>0.597</td>\n",
       "      <td>0.486</td>\n",
       "      <td>8.0</td>\n",
       "      <td>-5.893</td>\n",
       "      <td>0.0986</td>\n",
       "      <td>0.331</td>\n",
       "      <td>0.000000</td>\n",
       "      <td>0.140</td>\n",
       "      <td>0.397</td>\n",
       "      <td>137.680</td>\n",
       "    </tr>\n",
       "    <tr>\n",
       "      <th>80</th>\n",
       "      <td>0b8HcbULuUTZI07s1q7o4K</td>\n",
       "      <td>0.629</td>\n",
       "      <td>0.430</td>\n",
       "      <td>10.0</td>\n",
       "      <td>-10.550</td>\n",
       "      <td>0.0324</td>\n",
       "      <td>0.850</td>\n",
       "      <td>0.000016</td>\n",
       "      <td>0.117</td>\n",
       "      <td>0.451</td>\n",
       "      <td>76.983</td>\n",
       "    </tr>\n",
       "    <tr>\n",
       "      <th>145</th>\n",
       "      <td>3jC91SiXyGAKUKH7ZcHtwL</td>\n",
       "      <td>0.802</td>\n",
       "      <td>0.693</td>\n",
       "      <td>5.0</td>\n",
       "      <td>-8.135</td>\n",
       "      <td>0.0621</td>\n",
       "      <td>0.114</td>\n",
       "      <td>0.011800</td>\n",
       "      <td>0.264</td>\n",
       "      <td>0.825</td>\n",
       "      <td>106.998</td>\n",
       "    </tr>\n",
       "    <tr>\n",
       "      <th>45</th>\n",
       "      <td>1jIMjbzcGCcCQn5iMu9CUc</td>\n",
       "      <td>0.714</td>\n",
       "      <td>0.442</td>\n",
       "      <td>6.0</td>\n",
       "      <td>-5.909</td>\n",
       "      <td>0.0605</td>\n",
       "      <td>0.742</td>\n",
       "      <td>0.000000</td>\n",
       "      <td>0.114</td>\n",
       "      <td>0.546</td>\n",
       "      <td>108.039</td>\n",
       "    </tr>\n",
       "  </tbody>\n",
       "</table>\n",
       "</div>"
      ],
      "text/plain": [
       "                    trackId  danceability  energy   key  loudness  \\\n",
       "116  1vuDBx9G8oiinlw2KWlU0X         0.604   0.638   1.0    -6.413   \n",
       "156  2IgbYlOlFpiSFYnsqB39lM         0.597   0.486   8.0    -5.893   \n",
       "80   0b8HcbULuUTZI07s1q7o4K         0.629   0.430  10.0   -10.550   \n",
       "145  3jC91SiXyGAKUKH7ZcHtwL         0.802   0.693   5.0    -8.135   \n",
       "45   1jIMjbzcGCcCQn5iMu9CUc         0.714   0.442   6.0    -5.909   \n",
       "\n",
       "     speechiness  acousticness  instrumentalness  liveness  valence    tempo  \n",
       "116       0.2370         0.533          0.000000     0.111    0.104   80.695  \n",
       "156       0.0986         0.331          0.000000     0.140    0.397  137.680  \n",
       "80        0.0324         0.850          0.000016     0.117    0.451   76.983  \n",
       "145       0.0621         0.114          0.011800     0.264    0.825  106.998  \n",
       "45        0.0605         0.742          0.000000     0.114    0.546  108.039  "
      ]
     },
     "execution_count": 3,
     "metadata": {},
     "output_type": "execute_result"
    }
   ],
   "source": [
    "features = pd.DataFrame()\n",
    "\n",
    "for d in json_data:\n",
    "    features = features.append(d, ignore_index=True)\n",
    "\n",
    "features = features.sample(n=len(features))\n",
    "features.head()"
   ]
  },
  {
   "cell_type": "code",
   "execution_count": 4,
   "id": "f2f402b5",
   "metadata": {},
   "outputs": [],
   "source": [
    "mongo_uri = \"mongodb://localhost:27017\"\n",
    "conn = mc(mongo_uri).TestMuLetter\n",
    "seed_zone = conn.SeedZone"
   ]
  },
  {
   "cell_type": "code",
   "execution_count": 6,
   "id": "1b0cb854",
   "metadata": {},
   "outputs": [],
   "source": [
    "for idx, row in features.iterrows():\n",
    "    seed_zone.insert_one(row.to_dict())"
   ]
  }
 ],
 "metadata": {
  "kernelspec": {
   "display_name": "Python 3 (ipykernel)",
   "language": "python",
   "name": "python3"
  },
  "language_info": {
   "codemirror_mode": {
    "name": "ipython",
    "version": 3
   },
   "file_extension": ".py",
   "mimetype": "text/x-python",
   "name": "python",
   "nbconvert_exporter": "python",
   "pygments_lexer": "ipython3",
   "version": "3.8.12"
  }
 },
 "nbformat": 4,
 "nbformat_minor": 5
}
