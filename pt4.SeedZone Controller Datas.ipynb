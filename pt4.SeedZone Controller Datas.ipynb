{
 "cells": [
  {
   "cell_type": "code",
   "execution_count": 9,
   "id": "9f5c97b9",
   "metadata": {},
   "outputs": [],
   "source": [
    "import json\n",
    "import pandas as pd\n",
    "from pymongo import MongoClient as mc"
   ]
  },
  {
   "cell_type": "code",
   "execution_count": 7,
   "id": "8507ef9e",
   "metadata": {},
   "outputs": [],
   "source": [
    "with open(\"datas/test_dataset.json\", \"r\") as json_file:\n",
    "    json_data = json.load(json_file)"
   ]
  },
  {
   "cell_type": "code",
   "execution_count": 8,
   "id": "34495fbc",
   "metadata": {},
   "outputs": [
    {
     "data": {
      "text/html": [
       "<div>\n",
       "<style scoped>\n",
       "    .dataframe tbody tr th:only-of-type {\n",
       "        vertical-align: middle;\n",
       "    }\n",
       "\n",
       "    .dataframe tbody tr th {\n",
       "        vertical-align: top;\n",
       "    }\n",
       "\n",
       "    .dataframe thead th {\n",
       "        text-align: right;\n",
       "    }\n",
       "</style>\n",
       "<table border=\"1\" class=\"dataframe\">\n",
       "  <thead>\n",
       "    <tr style=\"text-align: right;\">\n",
       "      <th></th>\n",
       "      <th>trackId</th>\n",
       "      <th>danceability</th>\n",
       "      <th>energy</th>\n",
       "      <th>key</th>\n",
       "      <th>loudness</th>\n",
       "      <th>speechiness</th>\n",
       "      <th>acousticness</th>\n",
       "      <th>instrumentalness</th>\n",
       "      <th>liveness</th>\n",
       "      <th>valence</th>\n",
       "      <th>tempo</th>\n",
       "    </tr>\n",
       "  </thead>\n",
       "  <tbody>\n",
       "    <tr>\n",
       "      <th>236</th>\n",
       "      <td>1c3WMOE7Q0dCFN6bjT8KWo</td>\n",
       "      <td>0.763</td>\n",
       "      <td>0.465</td>\n",
       "      <td>11.0</td>\n",
       "      <td>-9.070</td>\n",
       "      <td>0.0461</td>\n",
       "      <td>0.3480</td>\n",
       "      <td>0.000874</td>\n",
       "      <td>0.1010</td>\n",
       "      <td>0.757</td>\n",
       "      <td>108.025</td>\n",
       "    </tr>\n",
       "    <tr>\n",
       "      <th>205</th>\n",
       "      <td>63Voq4pFih68SpKmQShfS4</td>\n",
       "      <td>0.802</td>\n",
       "      <td>0.262</td>\n",
       "      <td>2.0</td>\n",
       "      <td>-9.355</td>\n",
       "      <td>0.0369</td>\n",
       "      <td>0.9120</td>\n",
       "      <td>0.587000</td>\n",
       "      <td>0.1460</td>\n",
       "      <td>0.551</td>\n",
       "      <td>114.896</td>\n",
       "    </tr>\n",
       "    <tr>\n",
       "      <th>14</th>\n",
       "      <td>2eLe81VDUQ5f0xFfc9cMWz</td>\n",
       "      <td>0.861</td>\n",
       "      <td>0.552</td>\n",
       "      <td>1.0</td>\n",
       "      <td>-6.712</td>\n",
       "      <td>0.0777</td>\n",
       "      <td>0.2930</td>\n",
       "      <td>0.000000</td>\n",
       "      <td>0.3740</td>\n",
       "      <td>0.697</td>\n",
       "      <td>108.036</td>\n",
       "    </tr>\n",
       "    <tr>\n",
       "      <th>166</th>\n",
       "      <td>1nTfhIRbAsSLRMb3eTJZxZ</td>\n",
       "      <td>0.970</td>\n",
       "      <td>0.473</td>\n",
       "      <td>10.0</td>\n",
       "      <td>-9.618</td>\n",
       "      <td>0.1150</td>\n",
       "      <td>0.0358</td>\n",
       "      <td>0.000119</td>\n",
       "      <td>0.0641</td>\n",
       "      <td>0.960</td>\n",
       "      <td>105.997</td>\n",
       "    </tr>\n",
       "    <tr>\n",
       "      <th>111</th>\n",
       "      <td>4yMeebFYtbx7BP4GOiBfTK</td>\n",
       "      <td>0.500</td>\n",
       "      <td>0.753</td>\n",
       "      <td>11.0</td>\n",
       "      <td>-6.338</td>\n",
       "      <td>0.3330</td>\n",
       "      <td>0.2630</td>\n",
       "      <td>0.000000</td>\n",
       "      <td>0.2640</td>\n",
       "      <td>0.630</td>\n",
       "      <td>113.811</td>\n",
       "    </tr>\n",
       "  </tbody>\n",
       "</table>\n",
       "</div>"
      ],
      "text/plain": [
       "                    trackId  danceability  energy   key  loudness  \\\n",
       "236  1c3WMOE7Q0dCFN6bjT8KWo         0.763   0.465  11.0    -9.070   \n",
       "205  63Voq4pFih68SpKmQShfS4         0.802   0.262   2.0    -9.355   \n",
       "14   2eLe81VDUQ5f0xFfc9cMWz         0.861   0.552   1.0    -6.712   \n",
       "166  1nTfhIRbAsSLRMb3eTJZxZ         0.970   0.473  10.0    -9.618   \n",
       "111  4yMeebFYtbx7BP4GOiBfTK         0.500   0.753  11.0    -6.338   \n",
       "\n",
       "     speechiness  acousticness  instrumentalness  liveness  valence    tempo  \n",
       "236       0.0461        0.3480          0.000874    0.1010    0.757  108.025  \n",
       "205       0.0369        0.9120          0.587000    0.1460    0.551  114.896  \n",
       "14        0.0777        0.2930          0.000000    0.3740    0.697  108.036  \n",
       "166       0.1150        0.0358          0.000119    0.0641    0.960  105.997  \n",
       "111       0.3330        0.2630          0.000000    0.2640    0.630  113.811  "
      ]
     },
     "execution_count": 8,
     "metadata": {},
     "output_type": "execute_result"
    }
   ],
   "source": [
    "features = pd.DataFrame()\n",
    "\n",
    "for d in json_data:\n",
    "    features = features.append(d, ignore_index=True)\n",
    "\n",
    "features = features.sample(n=len(features))\n",
    "features.head()"
   ]
  },
  {
   "cell_type": "code",
   "execution_count": 10,
   "id": "f2f402b5",
   "metadata": {},
   "outputs": [],
   "source": [
    "mongo_uri = \"mongodb://localhost:27017\"\n",
    "conn = mc(mongo_uri).TestMuLetter\n",
    "seed_zone = conn.SeedZone"
   ]
  },
  {
   "cell_type": "code",
   "execution_count": 12,
   "id": "1b0cb854",
   "metadata": {},
   "outputs": [],
   "source": [
    "for idx, row in features.iterrows():\n",
    "    seed_zone.insert_one(row.to_dict())"
   ]
  }
 ],
 "metadata": {
  "kernelspec": {
   "display_name": "Python 3 (ipykernel)",
   "language": "python",
   "name": "python3"
  },
  "language_info": {
   "codemirror_mode": {
    "name": "ipython",
    "version": 3
   },
   "file_extension": ".py",
   "mimetype": "text/x-python",
   "name": "python",
   "nbconvert_exporter": "python",
   "pygments_lexer": "ipython3",
   "version": "3.8.12"
  }
 },
 "nbformat": 4,
 "nbformat_minor": 5
}
