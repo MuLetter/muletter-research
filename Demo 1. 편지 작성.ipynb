{
 "cells": [
  {
   "cell_type": "code",
   "execution_count": 1,
   "id": "063908c1",
   "metadata": {},
   "outputs": [],
   "source": [
    "%load_ext autoreload\n",
    "%autoreload 2\n",
    "%reload_ext autoreload\n",
    "\n",
    "from demo import Spotify"
   ]
  },
  {
   "cell_type": "code",
   "execution_count": 48,
   "id": "60f083a4",
   "metadata": {},
   "outputs": [
    {
     "name": "stdout",
     "output_type": "stream",
     "text": [
      "계속하시려면 아무거나, 종료는 exit를 입력해주세요.exit\n"
     ]
    }
   ],
   "source": [
    "sp = Spotify()\n",
    "sp.search()\n",
    "sp.get_genres()\n",
    "sp.get_features()\n",
    "sp.set_seed()\n",
    "sp.get_recommend()"
   ]
  },
  {
   "cell_type": "markdown",
   "id": "3c83df75",
   "metadata": {},
   "source": [
    "# Demo1. 편지작성"
   ]
  }
 ],
 "metadata": {
  "kernelspec": {
   "display_name": "Python 3 (ipykernel)",
   "language": "python",
   "name": "python3"
  },
  "language_info": {
   "codemirror_mode": {
    "name": "ipython",
    "version": 3
   },
   "file_extension": ".py",
   "mimetype": "text/x-python",
   "name": "python",
   "nbconvert_exporter": "python",
   "pygments_lexer": "ipython3",
   "version": "3.8.12"
  }
 },
 "nbformat": 4,
 "nbformat_minor": 5
}
