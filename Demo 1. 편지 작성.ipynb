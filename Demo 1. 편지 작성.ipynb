{
 "cells": [
  {
   "cell_type": "code",
   "execution_count": 1,
   "id": "58dc88e8",
   "metadata": {},
   "outputs": [],
   "source": [
    "from demo import Spotify"
   ]
  },
  {
   "cell_type": "markdown",
   "id": "0dbffcf2",
   "metadata": {},
   "source": [
    "# Demo1. 편지작성"
   ]
  },
  {
   "cell_type": "code",
   "execution_count": 4,
   "id": "505636de",
   "metadata": {},
   "outputs": [
    {
     "name": "stdout",
     "output_type": "stream",
     "text": [
      "계속하시려면 아무거나, 종료는 exit를 입력해주세요.exit\n"
     ]
    }
   ],
   "source": [
    "sp = Spotify()\n",
    "sp.search()"
   ]
  },
  {
   "cell_type": "code",
   "execution_count": 5,
   "id": "e332b72c",
   "metadata": {},
   "outputs": [
    {
     "data": {
      "text/html": [
       "<div>\n",
       "<style scoped>\n",
       "    .dataframe tbody tr th:only-of-type {\n",
       "        vertical-align: middle;\n",
       "    }\n",
       "\n",
       "    .dataframe tbody tr th {\n",
       "        vertical-align: top;\n",
       "    }\n",
       "\n",
       "    .dataframe thead th {\n",
       "        text-align: right;\n",
       "    }\n",
       "</style>\n",
       "<table border=\"1\" class=\"dataframe\">\n",
       "  <thead>\n",
       "    <tr style=\"text-align: right;\">\n",
       "      <th></th>\n",
       "      <th>trackId</th>\n",
       "      <th>trackName</th>\n",
       "      <th>artistIds</th>\n",
       "      <th>artistNames</th>\n",
       "      <th>image</th>\n",
       "    </tr>\n",
       "  </thead>\n",
       "  <tbody>\n",
       "    <tr>\n",
       "      <th>0</th>\n",
       "      <td>1OQ3PoRZRtE7RH0NIh3p1O</td>\n",
       "      <td>Drawer</td>\n",
       "      <td>6zn0ihyAApAYV51zpXxdEp</td>\n",
       "      <td>10cm</td>\n",
       "      <td>https://i.scdn.co/image/ab67616d0000b273b22853...</td>\n",
       "    </tr>\n",
       "    <tr>\n",
       "      <th>1</th>\n",
       "      <td>67Yg0uYQB14o3gQ3RLwD7x</td>\n",
       "      <td>잊어야 한다는 마음으로</td>\n",
       "      <td>0Sr5L3iWPn0k6KnDr8RYS8</td>\n",
       "      <td>Kim Kwang Seok</td>\n",
       "      <td>https://i.scdn.co/image/ab67616d0000b273bf3902...</td>\n",
       "    </tr>\n",
       "  </tbody>\n",
       "</table>\n",
       "</div>"
      ],
      "text/plain": [
       "                  trackId     trackName               artistIds  \\\n",
       "0  1OQ3PoRZRtE7RH0NIh3p1O        Drawer  6zn0ihyAApAYV51zpXxdEp   \n",
       "1  67Yg0uYQB14o3gQ3RLwD7x  잊어야 한다는 마음으로  0Sr5L3iWPn0k6KnDr8RYS8   \n",
       "\n",
       "      artistNames                                              image  \n",
       "0            10cm  https://i.scdn.co/image/ab67616d0000b273b22853...  \n",
       "1  Kim Kwang Seok  https://i.scdn.co/image/ab67616d0000b273bf3902...  "
      ]
     },
     "execution_count": 5,
     "metadata": {},
     "output_type": "execute_result"
    }
   ],
   "source": [
    "sp.sel_tracks"
   ]
  },
  {
   "cell_type": "code",
   "execution_count": null,
   "id": "e2f1193f",
   "metadata": {},
   "outputs": [],
   "source": []
  }
 ],
 "metadata": {
  "kernelspec": {
   "display_name": "Python 3 (ipykernel)",
   "language": "python",
   "name": "python3"
  },
  "language_info": {
   "codemirror_mode": {
    "name": "ipython",
    "version": 3
   },
   "file_extension": ".py",
   "mimetype": "text/x-python",
   "name": "python",
   "nbconvert_exporter": "python",
   "pygments_lexer": "ipython3",
   "version": "3.8.12"
  }
 },
 "nbformat": 4,
 "nbformat_minor": 5
}
