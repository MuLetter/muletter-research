{
 "cells": [
  {
   "cell_type": "code",
   "execution_count": 2,
   "id": "3a647daa",
   "metadata": {},
   "outputs": [
    {
     "name": "stdout",
     "output_type": "stream",
     "text": [
      "The autoreload extension is already loaded. To reload it, use:\n",
      "  %reload_ext autoreload\n"
     ]
    }
   ],
   "source": [
    "%load_ext autoreload\n",
    "%autoreload 2\n",
    "%reload_ext autoreload\n",
    "\n",
    "from src import Spotify, Recommender"
   ]
  },
  {
   "cell_type": "markdown",
   "id": "07ac517e",
   "metadata": {},
   "source": [
    "# Init Setting"
   ]
  },
  {
   "cell_type": "code",
   "execution_count": 9,
   "id": "09326fef",
   "metadata": {},
   "outputs": [],
   "source": [
    "mail_box_id = \"6265f7aafe9fef932765c60b\"\n",
    "\n",
    "reco = Recommender(mail_box_id)\n",
    "reco.init_setting()"
   ]
  },
  {
   "cell_type": "markdown",
   "id": "e619d12d",
   "metadata": {},
   "source": [
    "# Data Preprocessing"
   ]
  },
  {
   "cell_type": "code",
   "execution_count": 10,
   "id": "ea6807f5",
   "metadata": {},
   "outputs": [
    {
     "data": {
      "text/plain": [
       "array([[0.23537414965986397, 0.716824644549763, 0.7272727272727273,\n",
       "        0.6564106384563808, 0.3366321323643111, 0.40530792252441944, 0.0,\n",
       "        0.07816377171215881, 0.3802325581395348, 0.1747001726816113],\n",
       "       [0.5714285714285715, 0.7464454976303317, 0.45454545454545453,\n",
       "        0.8320047679356328, 0.019638162981289627, 0.19990794639813397,\n",
       "        0.0, 0.05515452289645838, 0.9627906976744187, 0.5917617466863266],\n",
       "       [0.8408163265306122, 0.5995260663507109, 0.8181818181818182,\n",
       "        0.5749087387320271, 0.06138858821710222, 0.10742418751404732,\n",
       "        0.00021428571428571427, 0.10669975186104216, 0.5581395348837209,\n",
       "        0.38633370918524235],\n",
       "       [0.7959183673469388, 0.7476303317535545, 0.09090909090909091,\n",
       "        0.8825150860463383, 0.04592546775939385, 0.042900634804219406,\n",
       "        0.0, 0.03598014888337468, 0.5930232558139535,\n",
       "        0.22122958769308407],\n",
       "       [0.5782312925170069, 0.6481042654028437, 0.45454545454545453,\n",
       "        0.7126573791253817, 0.050873666305860515, 0.14398753404961645,\n",
       "        2.2943722943722943e-05, 0.05064290548161515, 0.1988372093023256,\n",
       "        0.22078014240319183]], dtype=object)"
      ]
     },
     "execution_count": 10,
     "metadata": {},
     "output_type": "execute_result"
    }
   ],
   "source": [
    "reco.data_preprocessing()\n",
    "\n",
    "reco.norm_features[:5]"
   ]
  },
  {
   "cell_type": "code",
   "execution_count": null,
   "id": "f57e895d",
   "metadata": {},
   "outputs": [],
   "source": []
  }
 ],
 "metadata": {
  "kernelspec": {
   "display_name": "Python 3 (ipykernel)",
   "language": "python",
   "name": "python3"
  },
  "language_info": {
   "codemirror_mode": {
    "name": "ipython",
    "version": 3
   },
   "file_extension": ".py",
   "mimetype": "text/x-python",
   "name": "python",
   "nbconvert_exporter": "python",
   "pygments_lexer": "ipython3",
   "version": "3.8.12"
  }
 },
 "nbformat": 4,
 "nbformat_minor": 5
}
