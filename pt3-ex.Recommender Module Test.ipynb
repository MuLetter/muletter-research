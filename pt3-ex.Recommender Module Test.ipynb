{
 "cells": [
  {
   "cell_type": "code",
   "execution_count": 21,
   "id": "b19e26f3",
   "metadata": {},
   "outputs": [
    {
     "name": "stdout",
     "output_type": "stream",
     "text": [
      "The autoreload extension is already loaded. To reload it, use:\n",
      "  %reload_ext autoreload\n"
     ]
    }
   ],
   "source": [
    "%load_ext autoreload\n",
    "%autoreload 2\n",
    "%reload_ext autoreload\n",
    "\n",
    "from src import Spotify, Recommender\n",
    "from src.utils import KMeans\n",
    "from IPython.display import clear_output"
   ]
  },
  {
   "cell_type": "markdown",
   "id": "cbb7eb6c",
   "metadata": {},
   "source": [
    "# Init Setting"
   ]
  },
  {
   "cell_type": "code",
   "execution_count": 53,
   "id": "c22174f0",
   "metadata": {
    "scrolled": false
   },
   "outputs": [],
   "source": [
    "mail_box_id = \"6265f7aafe9fef932765c60b\"\n",
    "\n",
    "reco = Recommender(mail_box_id)\n",
    "reco.init_setting()"
   ]
  },
  {
   "cell_type": "markdown",
   "id": "869472a2",
   "metadata": {},
   "source": [
    "# Data Preprocessing"
   ]
  },
  {
   "cell_type": "code",
   "execution_count": 54,
   "id": "11a80455",
   "metadata": {},
   "outputs": [
    {
     "data": {
      "text/plain": [
       "array([[0.2440056417489422, 0.7185385656292285, 0.7272727272727273,\n",
       "        0.6774241856982404, 0.5043798985707699, 0.38384324972272943, 0.0,\n",
       "        0.07816377171215881, 0.41805087698919735, 0.181445337953345],\n",
       "       [0.5923836389280678, 0.7523680649526386, 0.45454545454545453,\n",
       "        0.853912392362411, 0.031811894882434306, 0.18932103599883082,\n",
       "        0.0, 0.05515452289645838, 1.0, 0.5869203584597577],\n",
       "       [0.8039492242595205, 0.5317997293640053, 0.0, 0.5815799326095096,\n",
       "        0.34301521438450894, 0.037573340475998904, 0.0,\n",
       "        0.05707196029776674, 0.7909164827506099, 0.2341027390434429],\n",
       "       [0.7531734837799718, 0.3748308525033829, 0.36363636363636365,\n",
       "        0.7090228378884313, 0.03711387736284002, 0.5427200316124059, 0.0,\n",
       "        0.12361831716670425, 0.8513183877337671, 0.35586866696819397],\n",
       "       [0.6318758815232723, 0.780784844384303, 0.8181818181818182,\n",
       "        0.802096593036316, 0.4490548639926233, 0.005828537325350114, 0.0,\n",
       "        0.09654861267764492, 0.3994656754559182, 0.1267641264268247]],\n",
       "      dtype=object)"
      ]
     },
     "execution_count": 54,
     "metadata": {},
     "output_type": "execute_result"
    }
   ],
   "source": [
    "reco.data_preprocessing()\n",
    "\n",
    "reco.norm_features[:5]"
   ]
  },
  {
   "cell_type": "markdown",
   "id": "cccd238e",
   "metadata": {},
   "source": [
    "# Reco KMeans\n",
    "- music filtering의 역할이 관건\n",
    "- 너무 많이 추천되거나, 너무 적게 추천되는 경우"
   ]
  },
  {
   "cell_type": "code",
   "execution_count": 55,
   "id": "6bf3c590",
   "metadata": {},
   "outputs": [
    {
     "name": "stdout",
     "output_type": "stream",
     "text": [
      "Start!\n",
      "ECV 40%\n",
      "ECV 47%\n",
      "ECV 50%\n",
      "ECV 51%\n",
      "ECV 51%\n",
      "ECV 51%\n",
      "ECV 51%\n",
      "ECV 52%\n",
      "ECV 52%\n",
      "ECV 52%\n",
      "ECV 52%\n",
      "ECV 52%\n",
      "ECV 52%\n",
      "[Recommender] Reco Musics Setting Okay :)\n"
     ]
    },
    {
     "data": {
      "text/html": [
       "<div>\n",
       "<style scoped>\n",
       "    .dataframe tbody tr th:only-of-type {\n",
       "        vertical-align: middle;\n",
       "    }\n",
       "\n",
       "    .dataframe tbody tr th {\n",
       "        vertical-align: top;\n",
       "    }\n",
       "\n",
       "    .dataframe thead th {\n",
       "        text-align: right;\n",
       "    }\n",
       "</style>\n",
       "<table border=\"1\" class=\"dataframe\">\n",
       "  <thead>\n",
       "    <tr style=\"text-align: right;\">\n",
       "      <th></th>\n",
       "      <th>trackId</th>\n",
       "      <th>trackName</th>\n",
       "      <th>artistIds</th>\n",
       "      <th>artistName</th>\n",
       "      <th>image</th>\n",
       "    </tr>\n",
       "  </thead>\n",
       "  <tbody>\n",
       "    <tr>\n",
       "      <th>114</th>\n",
       "      <td>7n1940b6kHcaEewFSZXnXa</td>\n",
       "      <td>Better Not (with Wafia)</td>\n",
       "      <td>7wg1qvie3KqDNQbAkTdbX0</td>\n",
       "      <td>Louis The Child</td>\n",
       "      <td>https://i.scdn.co/image/ab67616d0000b27353c069...</td>\n",
       "    </tr>\n",
       "    <tr>\n",
       "      <th>34</th>\n",
       "      <td>2tY1gxCKslfXLFpFofYmJQ</td>\n",
       "      <td>Brass Monkey</td>\n",
       "      <td>03r4iKL2g2442PT9n2UKsx</td>\n",
       "      <td>Beastie Boys</td>\n",
       "      <td>https://i.scdn.co/image/ab67616d0000b273a7ea08...</td>\n",
       "    </tr>\n",
       "    <tr>\n",
       "      <th>184</th>\n",
       "      <td>5c58c6sKc2JK3o75ZBSeL1</td>\n",
       "      <td>Gangnam Style (강남스타일)</td>\n",
       "      <td>0LyfQWJT6nXafLPZqxe9Of</td>\n",
       "      <td>Various Artists</td>\n",
       "      <td>https://i.scdn.co/image/ab67616d0000b27320c8eb...</td>\n",
       "    </tr>\n",
       "    <tr>\n",
       "      <th>4</th>\n",
       "      <td>65w0pdINTiQjWBaE4Rws9Y</td>\n",
       "      <td>Loving U</td>\n",
       "      <td>2wTLheTmMcFCA4hdY8hZJP</td>\n",
       "      <td>SISTAR</td>\n",
       "      <td>https://i.scdn.co/image/ab67616d0000b2732fb531...</td>\n",
       "    </tr>\n",
       "    <tr>\n",
       "      <th>171</th>\n",
       "      <td>6rDaCGqcQB1urhpCrrD599</td>\n",
       "      <td>Album of the Year - Freestyle</td>\n",
       "      <td>6l3HvQ5sa6mXTsMTB19rO5</td>\n",
       "      <td>J. Cole</td>\n",
       "      <td>https://i.scdn.co/image/ab67616d0000b273baefbd...</td>\n",
       "    </tr>\n",
       "  </tbody>\n",
       "</table>\n",
       "</div>"
      ],
      "text/plain": [
       "                    trackId                      trackName  \\\n",
       "114  7n1940b6kHcaEewFSZXnXa        Better Not (with Wafia)   \n",
       "34   2tY1gxCKslfXLFpFofYmJQ                   Brass Monkey   \n",
       "184  5c58c6sKc2JK3o75ZBSeL1          Gangnam Style (강남스타일)   \n",
       "4    65w0pdINTiQjWBaE4Rws9Y                       Loving U   \n",
       "171  6rDaCGqcQB1urhpCrrD599  Album of the Year - Freestyle   \n",
       "\n",
       "                  artistIds       artistName  \\\n",
       "114  7wg1qvie3KqDNQbAkTdbX0  Louis The Child   \n",
       "34   03r4iKL2g2442PT9n2UKsx     Beastie Boys   \n",
       "184  0LyfQWJT6nXafLPZqxe9Of  Various Artists   \n",
       "4    2wTLheTmMcFCA4hdY8hZJP           SISTAR   \n",
       "171  6l3HvQ5sa6mXTsMTB19rO5          J. Cole   \n",
       "\n",
       "                                                 image  \n",
       "114  https://i.scdn.co/image/ab67616d0000b27353c069...  \n",
       "34   https://i.scdn.co/image/ab67616d0000b273a7ea08...  \n",
       "184  https://i.scdn.co/image/ab67616d0000b27320c8eb...  \n",
       "4    https://i.scdn.co/image/ab67616d0000b2732fb531...  \n",
       "171  https://i.scdn.co/image/ab67616d0000b273baefbd...  "
      ]
     },
     "execution_count": 55,
     "metadata": {},
     "output_type": "execute_result"
    }
   ],
   "source": [
    "reco.reco_musics()\n",
    "\n",
    "reco.reco_musics_df.head()"
   ]
  }
 ],
 "metadata": {
  "kernelspec": {
   "display_name": "Python 3 (ipykernel)",
   "language": "python",
   "name": "python3"
  },
  "language_info": {
   "codemirror_mode": {
    "name": "ipython",
    "version": 3
   },
   "file_extension": ".py",
   "mimetype": "text/x-python",
   "name": "python",
   "nbconvert_exporter": "python",
   "pygments_lexer": "ipython3",
   "version": "3.8.12"
  }
 },
 "nbformat": 4,
 "nbformat_minor": 5
}
