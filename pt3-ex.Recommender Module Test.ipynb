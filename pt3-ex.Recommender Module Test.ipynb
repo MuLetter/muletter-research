{
 "cells": [
  {
   "cell_type": "code",
   "execution_count": 44,
   "id": "b19e26f3",
   "metadata": {},
   "outputs": [
    {
     "name": "stdout",
     "output_type": "stream",
     "text": [
      "The autoreload extension is already loaded. To reload it, use:\n",
      "  %reload_ext autoreload\n"
     ]
    }
   ],
   "source": [
    "%load_ext autoreload\n",
    "%autoreload 2\n",
    "%reload_ext autoreload\n",
    "\n",
    "from src import Spotify, Recommender\n",
    "from src.utils import KMeans"
   ]
  },
  {
   "cell_type": "markdown",
   "id": "cbb7eb6c",
   "metadata": {},
   "source": [
    "# Init Setting"
   ]
  },
  {
   "cell_type": "code",
   "execution_count": 64,
   "id": "c22174f0",
   "metadata": {},
   "outputs": [],
   "source": [
    "mail_box_id = \"6265f7aafe9fef932765c60b\"\n",
    "\n",
    "reco = Recommender(mail_box_id)\n",
    "reco.init_setting()"
   ]
  },
  {
   "cell_type": "markdown",
   "id": "869472a2",
   "metadata": {},
   "source": [
    "# Data Preprocessing"
   ]
  },
  {
   "cell_type": "code",
   "execution_count": 65,
   "id": "11a80455",
   "metadata": {},
   "outputs": [
    {
     "data": {
      "text/plain": [
       "array([[0.19248120300751884, 0.7339912045478924, 0.7272727272727273,\n",
       "        0.7980514844832655, 0.45974134334584893, 0.3924273309739088, 0.0,\n",
       "        0.07816377171215881, 0.38859629035951454, 0.2858066203967314],\n",
       "       [0.5639097744360902, 0.7608066073152419, 0.45454545454545453,\n",
       "        0.8970310334691134, 0.03212348769294952, 0.1933769368332854, 0.0,\n",
       "        0.05515452289645838, 0.9622166246851386, 0.6927948169464921],\n",
       "       [0.6646616541353384, 0.9796202938968143, 0.0, 1.0,\n",
       "        0.12307050479766374, 0.1589860310393557, 0.0, 0.3649898488608166,\n",
       "        0.8511564002747881, 0.5155737831058309],\n",
       "       [0.675187969924812, 0.9088276305910116, 0.5454545454545454,\n",
       "        0.7555536891613824, 0.7663746349603672, 0.1391852064913356, 0.0,\n",
       "        0.09993232573877735, 0.751545683535608, 0.23819270248226404],\n",
       "       [0.4616541353383458, 0.6760699345704173, 1.0, 0.7717633225549069,\n",
       "        0.04735085523571131, 0.0008399718203002223,\n",
       "        0.0007209051724137931, 0.0920369952628017, 0.32218914586672776,\n",
       "        0.38475862175097336]], dtype=object)"
      ]
     },
     "execution_count": 65,
     "metadata": {},
     "output_type": "execute_result"
    }
   ],
   "source": [
    "reco.data_preprocessing()\n",
    "\n",
    "reco.norm_features[:5]"
   ]
  },
  {
   "cell_type": "markdown",
   "id": "cccd238e",
   "metadata": {},
   "source": [
    "# Reco KMeans\n",
    "- music filtering의 역할이 관건\n",
    "- 너무 많이 추천되거나, 너무 적게 추천되는 경우"
   ]
  },
  {
   "cell_type": "code",
   "execution_count": 67,
   "id": "6bf3c590",
   "metadata": {},
   "outputs": [
    {
     "name": "stdout",
     "output_type": "stream",
     "text": [
      "Start!\n",
      "ECV 50%\n",
      "ECV 51%\n",
      "ECV 53%\n",
      "ECV 53%\n",
      "ECV 53%\n",
      "ECV 53%\n",
      "ECV 53%\n",
      "ECV 53%\n",
      "추천 노래 개수 : 62개\n"
     ]
    },
    {
     "data": {
      "text/html": [
       "<div>\n",
       "<style scoped>\n",
       "    .dataframe tbody tr th:only-of-type {\n",
       "        vertical-align: middle;\n",
       "    }\n",
       "\n",
       "    .dataframe tbody tr th {\n",
       "        vertical-align: top;\n",
       "    }\n",
       "\n",
       "    .dataframe thead th {\n",
       "        text-align: right;\n",
       "    }\n",
       "</style>\n",
       "<table border=\"1\" class=\"dataframe\">\n",
       "  <thead>\n",
       "    <tr style=\"text-align: right;\">\n",
       "      <th></th>\n",
       "      <th>trackId</th>\n",
       "      <th>trackName</th>\n",
       "      <th>artistIds</th>\n",
       "      <th>artistName</th>\n",
       "      <th>image</th>\n",
       "    </tr>\n",
       "  </thead>\n",
       "  <tbody>\n",
       "    <tr>\n",
       "      <th>0</th>\n",
       "      <td>4p1mcA5wVKjzUfdxPoxSax</td>\n",
       "      <td>기대해</td>\n",
       "      <td>13kJgvU22LHMsJtGWLmx7W</td>\n",
       "      <td>Girl's Day</td>\n",
       "      <td>https://i.scdn.co/image/ab67616d0000b273542e41...</td>\n",
       "    </tr>\n",
       "    <tr>\n",
       "      <th>1</th>\n",
       "      <td>14Ai4sTxWbQpNymhpQKuES</td>\n",
       "      <td>You Ain't a Killer</td>\n",
       "      <td>2Xu7q46Hf02xOoEIm4E1Qs</td>\n",
       "      <td>Big Pun</td>\n",
       "      <td>https://i.scdn.co/image/ab67616d0000b2738c7a8e...</td>\n",
       "    </tr>\n",
       "    <tr>\n",
       "      <th>3</th>\n",
       "      <td>6Rx0ORYPP3GH9rTvGS5Vy8</td>\n",
       "      <td>CALL ME BABY</td>\n",
       "      <td>3cjEqqelV9zb4BYE3qDQ4O</td>\n",
       "      <td>EXO</td>\n",
       "      <td>https://i.scdn.co/image/ab67616d0000b273f8b83b...</td>\n",
       "    </tr>\n",
       "    <tr>\n",
       "      <th>6</th>\n",
       "      <td>1hqukerMJf9N1qHo2sijii</td>\n",
       "      <td>To Life</td>\n",
       "      <td>4XDi67ZENZcbfKnvMnTYsI</td>\n",
       "      <td>Jay Park</td>\n",
       "      <td>https://i.scdn.co/image/ab67616d0000b273978aeb...</td>\n",
       "    </tr>\n",
       "    <tr>\n",
       "      <th>7</th>\n",
       "      <td>4vLqN0bIxIQjlet2mIMBnx</td>\n",
       "      <td>Ring Ding Dong</td>\n",
       "      <td>2hRQKC0gqlZGPrmUKbcchR</td>\n",
       "      <td>SHINee</td>\n",
       "      <td>https://i.scdn.co/image/ab67616d0000b273a7fcbf...</td>\n",
       "    </tr>\n",
       "  </tbody>\n",
       "</table>\n",
       "</div>"
      ],
      "text/plain": [
       "                  trackId           trackName               artistIds  \\\n",
       "0  4p1mcA5wVKjzUfdxPoxSax                 기대해  13kJgvU22LHMsJtGWLmx7W   \n",
       "1  14Ai4sTxWbQpNymhpQKuES  You Ain't a Killer  2Xu7q46Hf02xOoEIm4E1Qs   \n",
       "3  6Rx0ORYPP3GH9rTvGS5Vy8        CALL ME BABY  3cjEqqelV9zb4BYE3qDQ4O   \n",
       "6  1hqukerMJf9N1qHo2sijii             To Life  4XDi67ZENZcbfKnvMnTYsI   \n",
       "7  4vLqN0bIxIQjlet2mIMBnx      Ring Ding Dong  2hRQKC0gqlZGPrmUKbcchR   \n",
       "\n",
       "   artistName                                              image  \n",
       "0  Girl's Day  https://i.scdn.co/image/ab67616d0000b273542e41...  \n",
       "1     Big Pun  https://i.scdn.co/image/ab67616d0000b2738c7a8e...  \n",
       "3         EXO  https://i.scdn.co/image/ab67616d0000b273f8b83b...  \n",
       "6    Jay Park  https://i.scdn.co/image/ab67616d0000b273978aeb...  \n",
       "7      SHINee  https://i.scdn.co/image/ab67616d0000b273a7fcbf...  "
      ]
     },
     "execution_count": 67,
     "metadata": {},
     "output_type": "execute_result"
    }
   ],
   "source": [
    "reco_musics = reco.reco_musics()\n",
    "\n",
    "print(\"추천 노래 개수 : {}개\".format(len(reco_musics)))\n",
    "reco_musics.head()"
   ]
  }
 ],
 "metadata": {
  "kernelspec": {
   "display_name": "Python 3 (ipykernel)",
   "language": "python",
   "name": "python3"
  },
  "language_info": {
   "codemirror_mode": {
    "name": "ipython",
    "version": 3
   },
   "file_extension": ".py",
   "mimetype": "text/x-python",
   "name": "python",
   "nbconvert_exporter": "python",
   "pygments_lexer": "ipython3",
   "version": "3.8.12"
  }
 },
 "nbformat": 4,
 "nbformat_minor": 5
}
