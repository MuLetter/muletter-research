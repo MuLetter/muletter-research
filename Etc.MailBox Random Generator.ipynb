{
 "cells": [
  {
   "cell_type": "code",
   "execution_count": 32,
   "id": "d42a2ab9",
   "metadata": {},
   "outputs": [
    {
     "name": "stdout",
     "output_type": "stream",
     "text": [
      "The autoreload extension is already loaded. To reload it, use:\n",
      "  %reload_ext autoreload\n"
     ]
    }
   ],
   "source": [
    "%load_ext autoreload\n",
    "%autoreload 2\n",
    "%reload_ext autoreload\n",
    "\n",
    "import json\n",
    "import pandas as pd\n",
    "import random as ran\n",
    "\n",
    "from demo import Spotify\n",
    "from demo.lib import DB"
   ]
  },
  {
   "cell_type": "markdown",
   "id": "fbd805a9",
   "metadata": {},
   "source": [
    "## Save SeedZone Features"
   ]
  },
  {
   "cell_type": "code",
   "execution_count": 69,
   "id": "db385f9d",
   "metadata": {},
   "outputs": [],
   "source": [
    "db = DB()\n",
    "\n",
    "with open(\"./datas/test_dataset.json\",'r') as f:\n",
    "    json_dump = json.load(f)\n",
    "dataset = pd.DataFrame(json_dump)\n",
    "dataset = dataset[['trackId','acousticness', 'danceability', 'energy',\n",
    "        'instrumentalness', 'key', 'liveness', 'loudness',\n",
    "        'speechiness', 'tempo', 'valence']]\n",
    "dataset.head()\n",
    "\n",
    "db.save_seedzone(dataset)"
   ]
  },
  {
   "cell_type": "markdown",
   "id": "895b2a76",
   "metadata": {},
   "source": [
    "## Spotify Get Track Test"
   ]
  },
  {
   "cell_type": "code",
   "execution_count": 70,
   "id": "12ee65f7",
   "metadata": {},
   "outputs": [
    {
     "data": {
      "text/html": [
       "<div>\n",
       "<style scoped>\n",
       "    .dataframe tbody tr th:only-of-type {\n",
       "        vertical-align: middle;\n",
       "    }\n",
       "\n",
       "    .dataframe tbody tr th {\n",
       "        vertical-align: top;\n",
       "    }\n",
       "\n",
       "    .dataframe thead th {\n",
       "        text-align: right;\n",
       "    }\n",
       "</style>\n",
       "<table border=\"1\" class=\"dataframe\">\n",
       "  <thead>\n",
       "    <tr style=\"text-align: right;\">\n",
       "      <th></th>\n",
       "      <th>id</th>\n",
       "      <th>name</th>\n",
       "      <th>artistIds</th>\n",
       "      <th>artistNames</th>\n",
       "      <th>image</th>\n",
       "    </tr>\n",
       "  </thead>\n",
       "  <tbody>\n",
       "    <tr>\n",
       "      <th>0</th>\n",
       "      <td>47UUNYT0lsDnX9EYHIBf3L</td>\n",
       "      <td>Right Here Right Now</td>\n",
       "      <td>0siBQaURCli5wn2lqv8WZg</td>\n",
       "      <td>DPR LIVE</td>\n",
       "      <td>https://i.scdn.co/image/ab67616d0000b273b89724...</td>\n",
       "    </tr>\n",
       "    <tr>\n",
       "      <th>1</th>\n",
       "      <td>3xXRjV2u9mc95tBW0cqhKE</td>\n",
       "      <td>널 위한 커피</td>\n",
       "      <td>0myzJ6Vyf7To1kWoJTseat</td>\n",
       "      <td>Oh So Yeon</td>\n",
       "      <td>https://i.scdn.co/image/ab67616d0000b2731f4347...</td>\n",
       "    </tr>\n",
       "    <tr>\n",
       "      <th>2</th>\n",
       "      <td>0oFZoq1mYDPIFaPuOicXFM</td>\n",
       "      <td>I think about your love</td>\n",
       "      <td>2ZfPsqiVnez4fHcov44FuX</td>\n",
       "      <td>BREADGIMJI</td>\n",
       "      <td>https://i.scdn.co/image/ab67616d0000b2731c60e9...</td>\n",
       "    </tr>\n",
       "    <tr>\n",
       "      <th>3</th>\n",
       "      <td>2oBMZYteeO8DyXV9gDx6Za</td>\n",
       "      <td>Feel My Rhythm</td>\n",
       "      <td>1z4g3DjTBBZKhvAroFlhOM</td>\n",
       "      <td>Red Velvet</td>\n",
       "      <td>https://i.scdn.co/image/ab67616d0000b2738c4a28...</td>\n",
       "    </tr>\n",
       "    <tr>\n",
       "      <th>4</th>\n",
       "      <td>5VMFjdoJquu5BH6Ti3GYSZ</td>\n",
       "      <td>For You</td>\n",
       "      <td>5r7uTezbOPCO32i7RljvaA</td>\n",
       "      <td>Bily Acoustie</td>\n",
       "      <td>https://i.scdn.co/image/ab67616d0000b273132104...</td>\n",
       "    </tr>\n",
       "  </tbody>\n",
       "</table>\n",
       "</div>"
      ],
      "text/plain": [
       "                       id                     name               artistIds  \\\n",
       "0  47UUNYT0lsDnX9EYHIBf3L     Right Here Right Now  0siBQaURCli5wn2lqv8WZg   \n",
       "1  3xXRjV2u9mc95tBW0cqhKE                  널 위한 커피  0myzJ6Vyf7To1kWoJTseat   \n",
       "2  0oFZoq1mYDPIFaPuOicXFM  I think about your love  2ZfPsqiVnez4fHcov44FuX   \n",
       "3  2oBMZYteeO8DyXV9gDx6Za           Feel My Rhythm  1z4g3DjTBBZKhvAroFlhOM   \n",
       "4  5VMFjdoJquu5BH6Ti3GYSZ                  For You  5r7uTezbOPCO32i7RljvaA   \n",
       "\n",
       "     artistNames                                              image  \n",
       "0       DPR LIVE  https://i.scdn.co/image/ab67616d0000b273b89724...  \n",
       "1     Oh So Yeon  https://i.scdn.co/image/ab67616d0000b2731f4347...  \n",
       "2     BREADGIMJI  https://i.scdn.co/image/ab67616d0000b2731c60e9...  \n",
       "3     Red Velvet  https://i.scdn.co/image/ab67616d0000b2738c4a28...  \n",
       "4  Bily Acoustie  https://i.scdn.co/image/ab67616d0000b273132104...  "
      ]
     },
     "execution_count": 70,
     "metadata": {},
     "output_type": "execute_result"
    }
   ],
   "source": [
    "sp = Spotify()\n",
    "\n",
    "ran_tracks_ids = dataset.sample(n=ran.randrange(round(len(dataset) * 0.1), round(len(dataset) * 0.5)))['trackId'].values\n",
    "\n",
    "for track_id in ran_tracks_ids:\n",
    "    sp.get_track(track_id)\n",
    "    \n",
    "sp.sel_tracks.head()"
   ]
  },
  {
   "cell_type": "markdown",
   "id": "8e4b3019",
   "metadata": {},
   "source": [
    "# MailBox Auto Generate"
   ]
  },
  {
   "cell_type": "code",
   "execution_count": 72,
   "id": "c85f6ac4",
   "metadata": {},
   "outputs": [
    {
     "name": "stdout",
     "output_type": "stream",
     "text": [
      "mailbox 자동생성 우체통 23 save okay\n",
      "mailbox 자동생성 우체통 24 save okay\n",
      "mailbox 자동생성 우체통 25 save okay\n",
      "mailbox 자동생성 우체통 26 save okay\n",
      "mailbox 자동생성 우체통 27 save okay\n",
      "mailbox 자동생성 우체통 28 save okay\n",
      "mailbox 자동생성 우체통 29 save okay\n",
      "mailbox 자동생성 우체통 30 save okay\n",
      "mailbox 자동생성 우체통 31 save okay\n",
      "mailbox 자동생성 우체통 32 save okay\n",
      "mailbox 자동생성 우체통 33 save okay\n",
      "mailbox 자동생성 우체통 34 save okay\n",
      "mailbox 자동생성 우체통 35 save okay\n",
      "mailbox 자동생성 우체통 36 save okay\n",
      "mailbox 자동생성 우체통 37 save okay\n",
      "mailbox 자동생성 우체통 38 save okay\n",
      "mailbox 자동생성 우체통 39 save okay\n",
      "mailbox 자동생성 우체통 40 save okay\n"
     ]
    }
   ],
   "source": [
    "db = DB()\n",
    "\n",
    "for number in range(23, 41):\n",
    "    title = \"자동생성 우체통 {}\".format(number)\n",
    "    \n",
    "    sp = Spotify()\n",
    "    ran_tracks_ids = dataset.sample(n=ran.randrange(round(len(dataset) * 0.1), round(len(dataset) * 0.5)))['trackId'].values\n",
    "    for track_id in ran_tracks_ids:\n",
    "        sp.get_track(track_id)\n",
    "        \n",
    "    db.save_mailbox(sp.sel_tracks,title)\n",
    "    print(\"mailbox {} save okay\".format(title))"
   ]
  }
 ],
 "metadata": {
  "kernelspec": {
   "display_name": "Python 3 (ipykernel)",
   "language": "python",
   "name": "python3"
  },
  "language_info": {
   "codemirror_mode": {
    "name": "ipython",
    "version": 3
   },
   "file_extension": ".py",
   "mimetype": "text/x-python",
   "name": "python",
   "nbconvert_exporter": "python",
   "pygments_lexer": "ipython3",
   "version": "3.8.12"
  }
 },
 "nbformat": 4,
 "nbformat_minor": 5
}
