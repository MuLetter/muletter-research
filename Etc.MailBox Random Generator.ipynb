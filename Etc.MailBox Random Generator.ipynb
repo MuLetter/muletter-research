{
 "cells": [
  {
   "cell_type": "code",
   "execution_count": 24,
   "id": "c2134f33",
   "metadata": {},
   "outputs": [
    {
     "name": "stdout",
     "output_type": "stream",
     "text": [
      "The autoreload extension is already loaded. To reload it, use:\n",
      "  %reload_ext autoreload\n"
     ]
    }
   ],
   "source": [
    "%load_ext autoreload\n",
    "%autoreload 2\n",
    "%reload_ext autoreload\n",
    "\n",
    "import json\n",
    "import pandas as pd\n",
    "\n",
    "from demo.lib import DB"
   ]
  },
  {
   "cell_type": "markdown",
   "id": "a208e164",
   "metadata": {},
   "source": [
    "## Save SeedZone Features"
   ]
  },
  {
   "cell_type": "code",
   "execution_count": 26,
   "id": "a931c0b6",
   "metadata": {},
   "outputs": [],
   "source": [
    "db = DB()\n",
    "\n",
    "with open(\"./datas/test_dataset.json\",'r') as f:\n",
    "    json_dump = json.load(f)\n",
    "dataset = pd.DataFrame(json_dump)\n",
    "dataset = dataset[['trackId','acousticness', 'danceability', 'energy',\n",
    "        'instrumentalness', 'key', 'liveness', 'loudness',\n",
    "        'speechiness', 'tempo', 'valence']]\n",
    "dataset.head()\n",
    "\n",
    "db.save_seedzone(dataset)"
   ]
  },
  {
   "cell_type": "code",
   "execution_count": null,
   "id": "ca9890ae",
   "metadata": {},
   "outputs": [],
   "source": []
  }
 ],
 "metadata": {
  "kernelspec": {
   "display_name": "Python 3 (ipykernel)",
   "language": "python",
   "name": "python3"
  },
  "language_info": {
   "codemirror_mode": {
    "name": "ipython",
    "version": 3
   },
   "file_extension": ".py",
   "mimetype": "text/x-python",
   "name": "python",
   "nbconvert_exporter": "python",
   "pygments_lexer": "ipython3",
   "version": "3.8.12"
  }
 },
 "nbformat": 4,
 "nbformat_minor": 5
}
