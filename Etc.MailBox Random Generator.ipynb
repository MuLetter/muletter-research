{
 "cells": [
  {
   "cell_type": "code",
   "execution_count": 1,
   "id": "2ab11a1f",
   "metadata": {},
   "outputs": [],
   "source": [
    "%load_ext autoreload\n",
    "%autoreload 2\n",
    "%reload_ext autoreload\n",
    "\n",
    "import json\n",
    "import pandas as pd\n",
    "import random as ran\n",
    "\n",
    "from demo import Spotify\n",
    "from demo.lib import DB"
   ]
  },
  {
   "cell_type": "markdown",
   "id": "c8376ac0",
   "metadata": {},
   "source": [
    "## Save SeedZone Features"
   ]
  },
  {
   "cell_type": "code",
   "execution_count": 2,
   "id": "122e2d0f",
   "metadata": {},
   "outputs": [],
   "source": [
    "db = DB()\n",
    "\n",
    "with open(\"./datas/test_dataset.json\",'r') as f:\n",
    "    json_dump = json.load(f)\n",
    "dataset = pd.DataFrame(json_dump)\n",
    "dataset = dataset[['trackId','acousticness', 'danceability', 'energy',\n",
    "        'instrumentalness', 'key', 'liveness', 'loudness',\n",
    "        'speechiness', 'tempo', 'valence']]\n",
    "dataset.head()\n",
    "\n",
    "db.save_seedzone(dataset)"
   ]
  },
  {
   "cell_type": "markdown",
   "id": "434fd89f",
   "metadata": {},
   "source": [
    "## Spotify Get Track Test"
   ]
  },
  {
   "cell_type": "code",
   "execution_count": 84,
   "id": "afeebd56",
   "metadata": {},
   "outputs": [
    {
     "data": {
      "text/html": [
       "<div>\n",
       "<style scoped>\n",
       "    .dataframe tbody tr th:only-of-type {\n",
       "        vertical-align: middle;\n",
       "    }\n",
       "\n",
       "    .dataframe tbody tr th {\n",
       "        vertical-align: top;\n",
       "    }\n",
       "\n",
       "    .dataframe thead th {\n",
       "        text-align: right;\n",
       "    }\n",
       "</style>\n",
       "<table border=\"1\" class=\"dataframe\">\n",
       "  <thead>\n",
       "    <tr style=\"text-align: right;\">\n",
       "      <th></th>\n",
       "      <th>trackId</th>\n",
       "      <th>trackName</th>\n",
       "      <th>artistIds</th>\n",
       "      <th>artistNames</th>\n",
       "      <th>image</th>\n",
       "    </tr>\n",
       "  </thead>\n",
       "  <tbody>\n",
       "    <tr>\n",
       "      <th>0</th>\n",
       "      <td>3gFcGnU4kTdMYLXDjH1TK8</td>\n",
       "      <td>RUN2U</td>\n",
       "      <td>01XYiBYaoMJcNhPokrg0l0</td>\n",
       "      <td>STAYC</td>\n",
       "      <td>https://i.scdn.co/image/ab67616d0000b2738ea860...</td>\n",
       "    </tr>\n",
       "    <tr>\n",
       "      <th>1</th>\n",
       "      <td>0cNc0bSxmRVhAUJVYEd2Qk</td>\n",
       "      <td>Leave You Alone</td>\n",
       "      <td>7HkdQ0gt53LP4zmHsL0nap</td>\n",
       "      <td>Ella Mai</td>\n",
       "      <td>https://i.scdn.co/image/ab67616d0000b2739af92b...</td>\n",
       "    </tr>\n",
       "    <tr>\n",
       "      <th>2</th>\n",
       "      <td>4iJyoBOLtHqaGxP12qzhQI</td>\n",
       "      <td>Peaches (feat. Daniel Caesar &amp; Giveon)</td>\n",
       "      <td>1uNFoZAHBGtllmzznpCI3s</td>\n",
       "      <td>Justin Bieber</td>\n",
       "      <td>https://i.scdn.co/image/ab67616d0000b273e6f407...</td>\n",
       "    </tr>\n",
       "    <tr>\n",
       "      <th>3</th>\n",
       "      <td>5elW2CKSoqjYoJ32AGDxf1</td>\n",
       "      <td>Polaroid Love</td>\n",
       "      <td>5t5FqBwTcgKTaWmfEbwQY9</td>\n",
       "      <td>ENHYPEN</td>\n",
       "      <td>https://i.scdn.co/image/ab67616d0000b2731c1ea5...</td>\n",
       "    </tr>\n",
       "    <tr>\n",
       "      <th>4</th>\n",
       "      <td>4WghJOMjDpGdlk3b8aJIgy</td>\n",
       "      <td>up at night (feat. justin bieber)</td>\n",
       "      <td>0cGUm45nv7Z6M6qdXYQGTX,1uNFoZAHBGtllmzznpCI3s</td>\n",
       "      <td>Kehlani,Justin Bieber</td>\n",
       "      <td>https://i.scdn.co/image/ab67616d0000b27349625a...</td>\n",
       "    </tr>\n",
       "  </tbody>\n",
       "</table>\n",
       "</div>"
      ],
      "text/plain": [
       "                  trackId                               trackName  \\\n",
       "0  3gFcGnU4kTdMYLXDjH1TK8                                   RUN2U   \n",
       "1  0cNc0bSxmRVhAUJVYEd2Qk                         Leave You Alone   \n",
       "2  4iJyoBOLtHqaGxP12qzhQI  Peaches (feat. Daniel Caesar & Giveon)   \n",
       "3  5elW2CKSoqjYoJ32AGDxf1                           Polaroid Love   \n",
       "4  4WghJOMjDpGdlk3b8aJIgy       up at night (feat. justin bieber)   \n",
       "\n",
       "                                       artistIds            artistNames  \\\n",
       "0                         01XYiBYaoMJcNhPokrg0l0                  STAYC   \n",
       "1                         7HkdQ0gt53LP4zmHsL0nap               Ella Mai   \n",
       "2                         1uNFoZAHBGtllmzznpCI3s          Justin Bieber   \n",
       "3                         5t5FqBwTcgKTaWmfEbwQY9                ENHYPEN   \n",
       "4  0cGUm45nv7Z6M6qdXYQGTX,1uNFoZAHBGtllmzznpCI3s  Kehlani,Justin Bieber   \n",
       "\n",
       "                                               image  \n",
       "0  https://i.scdn.co/image/ab67616d0000b2738ea860...  \n",
       "1  https://i.scdn.co/image/ab67616d0000b2739af92b...  \n",
       "2  https://i.scdn.co/image/ab67616d0000b273e6f407...  \n",
       "3  https://i.scdn.co/image/ab67616d0000b2731c1ea5...  \n",
       "4  https://i.scdn.co/image/ab67616d0000b27349625a...  "
      ]
     },
     "execution_count": 84,
     "metadata": {},
     "output_type": "execute_result"
    }
   ],
   "source": [
    "sp = Spotify()\n",
    "\n",
    "ran_tracks_ids = dataset.sample(n=ran.randrange(round(len(dataset) * 0.1), round(len(dataset) * 0.5)))['trackId'].values\n",
    "\n",
    "for track_id in ran_tracks_ids:\n",
    "    sp.get_track(track_id)\n",
    "\n",
    "sp.get_features()\n",
    "db.save_seedzone(sp.features)\n",
    "\n",
    "sp.sel_tracks.head()"
   ]
  },
  {
   "cell_type": "markdown",
   "id": "57080796",
   "metadata": {},
   "source": [
    "# MailBox Auto Generate"
   ]
  },
  {
   "cell_type": "code",
   "execution_count": 3,
   "id": "6b63c1f8",
   "metadata": {},
   "outputs": [
    {
     "name": "stdout",
     "output_type": "stream",
     "text": [
      "mailbox 자동생성 우체통 0 save okay\n",
      "mailbox 자동생성 우체통 1 save okay\n",
      "mailbox 자동생성 우체통 2 save okay\n",
      "mailbox 자동생성 우체통 3 save okay\n",
      "mailbox 자동생성 우체통 4 save okay\n",
      "mailbox 자동생성 우체통 5 save okay\n",
      "mailbox 자동생성 우체통 6 save okay\n",
      "mailbox 자동생성 우체통 7 save okay\n",
      "mailbox 자동생성 우체통 8 save okay\n",
      "mailbox 자동생성 우체통 9 save okay\n",
      "mailbox 자동생성 우체통 10 save okay\n",
      "mailbox 자동생성 우체통 11 save okay\n",
      "mailbox 자동생성 우체통 12 save okay\n",
      "mailbox 자동생성 우체통 13 save okay\n",
      "mailbox 자동생성 우체통 14 save okay\n",
      "mailbox 자동생성 우체통 15 save okay\n",
      "mailbox 자동생성 우체통 16 save okay\n",
      "mailbox 자동생성 우체통 17 save okay\n",
      "mailbox 자동생성 우체통 18 save okay\n",
      "mailbox 자동생성 우체통 19 save okay\n",
      "mailbox 자동생성 우체통 20 save okay\n",
      "mailbox 자동생성 우체통 21 save okay\n",
      "mailbox 자동생성 우체통 22 save okay\n",
      "mailbox 자동생성 우체통 23 save okay\n",
      "mailbox 자동생성 우체통 24 save okay\n",
      "mailbox 자동생성 우체통 25 save okay\n",
      "mailbox 자동생성 우체통 26 save okay\n",
      "mailbox 자동생성 우체통 27 save okay\n",
      "mailbox 자동생성 우체통 28 save okay\n",
      "mailbox 자동생성 우체통 29 save okay\n",
      "mailbox 자동생성 우체통 30 save okay\n",
      "mailbox 자동생성 우체통 31 save okay\n",
      "mailbox 자동생성 우체통 32 save okay\n",
      "mailbox 자동생성 우체통 33 save okay\n",
      "mailbox 자동생성 우체통 34 save okay\n",
      "mailbox 자동생성 우체통 35 save okay\n",
      "mailbox 자동생성 우체통 36 save okay\n",
      "mailbox 자동생성 우체통 37 save okay\n",
      "mailbox 자동생성 우체통 38 save okay\n",
      "mailbox 자동생성 우체통 39 save okay\n",
      "mailbox 자동생성 우체통 40 save okay\n"
     ]
    }
   ],
   "source": [
    "db = DB()\n",
    "\n",
    "for number in range(0, 41):\n",
    "    title = \"자동생성 우체통 {}\".format(number)\n",
    "    \n",
    "    sp = Spotify()\n",
    "    ran_tracks_ids = dataset.sample(n=ran.randrange(10, 21))['trackId'].values\n",
    "    for track_id in ran_tracks_ids:\n",
    "        sp.get_track(track_id)\n",
    "        \n",
    "    sp.get_features()\n",
    "    db.save_seedzone(sp.features)    \n",
    "    db.save_mailbox(sp.sel_tracks,title)\n",
    "    print(\"mailbox {} save okay\".format(title))"
   ]
  }
 ],
 "metadata": {
  "kernelspec": {
   "display_name": "Python 3 (ipykernel)",
   "language": "python",
   "name": "python3"
  },
  "language_info": {
   "codemirror_mode": {
    "name": "ipython",
    "version": 3
   },
   "file_extension": ".py",
   "mimetype": "text/x-python",
   "name": "python",
   "nbconvert_exporter": "python",
   "pygments_lexer": "ipython3",
   "version": "3.8.12"
  }
 },
 "nbformat": 4,
 "nbformat_minor": 5
}
